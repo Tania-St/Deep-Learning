{
 "cells": [
  {
   "cell_type": "markdown",
   "metadata": {
    "id": "izdx7hN-5c6M"
   },
   "source": [
    "# Лабораторная работа 2. Глубокое обучение"
   ]
  },
  {
   "cell_type": "code",
   "execution_count": null,
   "metadata": {},
   "outputs": [
    {
     "name": "stderr",
     "output_type": "stream",
     "text": [
      "C:\\Users\\Таня\\AppData\\Local\\Packages\\PythonSoftwareFoundation.Python.3.11_qbz5n2kfra8p0\\LocalCache\\local-packages\\Python311\\site-packages\\tqdm\\auto.py:21: TqdmWarning: IProgress not found. Please update jupyter and ipywidgets. See https://ipywidgets.readthedocs.io/en/stable/user_install.html\n",
      "  from .autonotebook import tqdm as notebook_tqdm\n"
     ]
    }
   ],
   "source": [
    "import pandas as pd\n",
    "import re\n",
    "import os\n",
    "import json\n",
    "import math\n",
    "import torch\n",
    "import logging\n",
    "\n",
    "from tqdm import tqdm\n",
    "from transformers import GPT2Tokenizer, GPT2LMHeadModel, AdamW, get_linear_schedule_with_warmup\n",
    "from sklearn.model_selection import train_test_split\n",
    "from torch.utils.data import DataLoader, TensorDataset\n",
    "import torch.optim as optim\n",
    "import matplotlib.pyplot as plt\n",
    "from rouge_score import rouge_scorer\n",
    "from nltk.translate.bleu_score import sentence_bleu, SmoothingFunction\n"
   ]
  },
  {
   "cell_type": "code",
   "execution_count": 1,
   "metadata": {},
   "outputs": [],
   "source": [
    "import torch\n",
    "device = torch.device('cuda' if torch.cuda.is_available() else 'cpu')"
   ]
  },
  {
   "cell_type": "markdown",
   "metadata": {},
   "source": [
    "Загрузим данные и посмотрим на них. Затем приведем все это к виду датафрейма и проведем первичную предобработку, чтобы дальше было удобнее работать"
   ]
  },
  {
   "cell_type": "code",
   "execution_count": 2,
   "metadata": {
    "colab": {
     "base_uri": "https://localhost:8080/"
    },
    "executionInfo": {
     "elapsed": 126,
     "status": "ok",
     "timestamp": 1746384357934,
     "user": {
      "displayName": "Татьяна Стрельницкая",
      "userId": "08357198606275998011"
     },
     "user_tz": -180
    },
    "id": "_0NYCesg355b",
    "outputId": "bc110da2-f53f-43dc-b279-98232858ec2c"
   },
   "outputs": [
    {
     "name": "stdout",
     "output_type": "stream",
     "text": [
      "Количество строк: 304713\n",
      "Пример строки: L1045 +++$+++ u0 +++$+++ m0 +++$+++ BIANCA +++$+++ They do not!\n",
      "\n"
     ]
    }
   ],
   "source": [
    "def load_data(file_path):\n",
    "    with open(file_path, 'r', encoding='latin-1') as file:\n",
    "        data = file.readlines()\n",
    "    return data\n",
    "\n",
    "file_path = './movie_lines.txt'\n",
    "data = load_data(file_path)\n",
    "print(\"Количество строк:\", len(data))\n",
    "print(\"Пример строки:\", data[0])"
   ]
  },
  {
   "cell_type": "code",
   "execution_count": 5,
   "metadata": {
    "executionInfo": {
     "elapsed": 1464,
     "status": "ok",
     "timestamp": 1746384533913,
     "user": {
      "displayName": "Татьяна Стрельницкая",
      "userId": "08357198606275998011"
     },
     "user_tz": -180
    },
    "id": "eYOIigY9nJ8X"
   },
   "outputs": [
    {
     "data": {
      "text/html": [
       "<div>\n",
       "<style scoped>\n",
       "    .dataframe tbody tr th:only-of-type {\n",
       "        vertical-align: middle;\n",
       "    }\n",
       "\n",
       "    .dataframe tbody tr th {\n",
       "        vertical-align: top;\n",
       "    }\n",
       "\n",
       "    .dataframe thead th {\n",
       "        text-align: right;\n",
       "    }\n",
       "</style>\n",
       "<table border=\"1\" class=\"dataframe\">\n",
       "  <thead>\n",
       "    <tr style=\"text-align: right;\">\n",
       "      <th></th>\n",
       "      <th>0</th>\n",
       "    </tr>\n",
       "  </thead>\n",
       "  <tbody>\n",
       "    <tr>\n",
       "      <th>0</th>\n",
       "      <td>L1045 +++$+++ u0 +++$+++ m0 +++$+++ BIANCA +++...</td>\n",
       "    </tr>\n",
       "    <tr>\n",
       "      <th>1</th>\n",
       "      <td>L1044 +++$+++ u2 +++$+++ m0 +++$+++ CAMERON ++...</td>\n",
       "    </tr>\n",
       "    <tr>\n",
       "      <th>2</th>\n",
       "      <td>L985 +++$+++ u0 +++$+++ m0 +++$+++ BIANCA +++$...</td>\n",
       "    </tr>\n",
       "    <tr>\n",
       "      <th>3</th>\n",
       "      <td>L984 +++$+++ u2 +++$+++ m0 +++$+++ CAMERON +++...</td>\n",
       "    </tr>\n",
       "    <tr>\n",
       "      <th>4</th>\n",
       "      <td>L925 +++$+++ u0 +++$+++ m0 +++$+++ BIANCA +++$...</td>\n",
       "    </tr>\n",
       "  </tbody>\n",
       "</table>\n",
       "</div>"
      ],
      "text/plain": [
       "                                                   0\n",
       "0  L1045 +++$+++ u0 +++$+++ m0 +++$+++ BIANCA +++...\n",
       "1  L1044 +++$+++ u2 +++$+++ m0 +++$+++ CAMERON ++...\n",
       "2  L985 +++$+++ u0 +++$+++ m0 +++$+++ BIANCA +++$...\n",
       "3  L984 +++$+++ u2 +++$+++ m0 +++$+++ CAMERON +++...\n",
       "4  L925 +++$+++ u0 +++$+++ m0 +++$+++ BIANCA +++$..."
      ]
     },
     "execution_count": 5,
     "metadata": {},
     "output_type": "execute_result"
    }
   ],
   "source": [
    "df = pd.DataFrame(data)\n",
    "df.head()"
   ]
  },
  {
   "cell_type": "code",
   "execution_count": 6,
   "metadata": {
    "colab": {
     "base_uri": "https://localhost:8080/",
     "height": 547
    },
    "executionInfo": {
     "elapsed": 52,
     "status": "error",
     "timestamp": 1746385250678,
     "user": {
      "displayName": "Татьяна Стрельницкая",
      "userId": "08357198606275998011"
     },
     "user_tz": -180
    },
    "id": "G_gJbOxJoU1a",
    "outputId": "e4921bd7-93ef-4e27-cba5-c9ed2073ff97"
   },
   "outputs": [
    {
     "data": {
      "text/html": [
       "<div>\n",
       "<style scoped>\n",
       "    .dataframe tbody tr th:only-of-type {\n",
       "        vertical-align: middle;\n",
       "    }\n",
       "\n",
       "    .dataframe tbody tr th {\n",
       "        vertical-align: top;\n",
       "    }\n",
       "\n",
       "    .dataframe thead th {\n",
       "        text-align: right;\n",
       "    }\n",
       "</style>\n",
       "<table border=\"1\" class=\"dataframe\">\n",
       "  <thead>\n",
       "    <tr style=\"text-align: right;\">\n",
       "      <th></th>\n",
       "      <th>line_id</th>\n",
       "      <th>character_id</th>\n",
       "      <th>movie_id</th>\n",
       "      <th>character</th>\n",
       "      <th>text</th>\n",
       "    </tr>\n",
       "  </thead>\n",
       "  <tbody>\n",
       "    <tr>\n",
       "      <th>0</th>\n",
       "      <td>L1045</td>\n",
       "      <td>u0</td>\n",
       "      <td>m0</td>\n",
       "      <td>BIANCA</td>\n",
       "      <td>They do not!</td>\n",
       "    </tr>\n",
       "    <tr>\n",
       "      <th>1</th>\n",
       "      <td>L1044</td>\n",
       "      <td>u2</td>\n",
       "      <td>m0</td>\n",
       "      <td>CAMERON</td>\n",
       "      <td>They do to!</td>\n",
       "    </tr>\n",
       "    <tr>\n",
       "      <th>2</th>\n",
       "      <td>L985</td>\n",
       "      <td>u0</td>\n",
       "      <td>m0</td>\n",
       "      <td>BIANCA</td>\n",
       "      <td>I hope so.</td>\n",
       "    </tr>\n",
       "    <tr>\n",
       "      <th>3</th>\n",
       "      <td>L984</td>\n",
       "      <td>u2</td>\n",
       "      <td>m0</td>\n",
       "      <td>CAMERON</td>\n",
       "      <td>She okay?</td>\n",
       "    </tr>\n",
       "    <tr>\n",
       "      <th>4</th>\n",
       "      <td>L925</td>\n",
       "      <td>u0</td>\n",
       "      <td>m0</td>\n",
       "      <td>BIANCA</td>\n",
       "      <td>Let's go.</td>\n",
       "    </tr>\n",
       "  </tbody>\n",
       "</table>\n",
       "</div>"
      ],
      "text/plain": [
       "  line_id character_id movie_id character          text\n",
       "0   L1045           u0       m0    BIANCA  They do not!\n",
       "1   L1044           u2       m0   CAMERON   They do to!\n",
       "2    L985           u0       m0    BIANCA    I hope so.\n",
       "3    L984           u2       m0   CAMERON     She okay?\n",
       "4    L925           u0       m0    BIANCA     Let's go."
      ]
     },
     "execution_count": 6,
     "metadata": {},
     "output_type": "execute_result"
    }
   ],
   "source": [
    "df.columns = ['all']\n",
    "\n",
    "df = df['all'].str.split(r'\\s+\\+\\+\\+\\$\\+\\+\\+\\s+', expand=True)\n",
    "df.columns = ['line_id', 'character_id', 'movie_id', 'character', 'text']\n",
    "df = df.apply(lambda x: x.str.strip() if x.dtype == 'object' else x)\n",
    "\n",
    "df.head()"
   ]
  },
  {
   "cell_type": "code",
   "execution_count": null,
   "metadata": {
    "colab": {
     "base_uri": "https://localhost:8080/"
    },
    "executionInfo": {
     "elapsed": 5,
     "status": "ok",
     "timestamp": 1746385288399,
     "user": {
      "displayName": "Татьяна Стрельницкая",
      "userId": "08357198606275998011"
     },
     "user_tz": -180
    },
    "id": "dGpkeVVMqWkC",
    "outputId": "0eb68b42-f43a-47eb-abe8-5c6c8b18421f"
   },
   "outputs": [
    {
     "data": {
      "text/plain": [
       "304713"
      ]
     },
     "execution_count": 7,
     "metadata": {},
     "output_type": "execute_result"
    }
   ],
   "source": [
    "df.to_csv(\"./movie_dialogues.csv\", index=False)\n",
    "len(df)"
   ]
  },
  {
   "cell_type": "code",
   "execution_count": 8,
   "metadata": {
    "colab": {
     "base_uri": "https://localhost:8080/"
    },
    "executionInfo": {
     "elapsed": 168,
     "status": "ok",
     "timestamp": 1746387156645,
     "user": {
      "displayName": "Татьяна Стрельницкая",
      "userId": "08357198606275998011"
     },
     "user_tz": -180
    },
    "id": "KJi2fltmrNVQ",
    "outputId": "053e49d3-760e-44e4-97f7-ccaf8cb7c956"
   },
   "outputs": [
    {
     "name": "stdout",
     "output_type": "stream",
     "text": [
      "<class 'pandas.core.frame.DataFrame'>\n",
      "RangeIndex: 304713 entries, 0 to 304712\n",
      "Data columns (total 5 columns):\n",
      " #   Column        Non-Null Count   Dtype \n",
      "---  ------        --------------   ----- \n",
      " 0   line_id       304713 non-null  object\n",
      " 1   character_id  304713 non-null  object\n",
      " 2   movie_id      304713 non-null  object\n",
      " 3   character     304713 non-null  object\n",
      " 4   text          304670 non-null  object\n",
      "dtypes: object(5)\n",
      "memory usage: 11.6+ MB\n"
     ]
    }
   ],
   "source": [
    "df.info()"
   ]
  },
  {
   "cell_type": "markdown",
   "metadata": {},
   "source": [
    "Пропуски удалим, так как они могут помешать дальнейшему обучению и нормальному функционированию моделей. Удаляем потому что пропуски в столбце с репликами - именно том столбце, который нам непосредственно и нужен, поэтому при удалении ничего не теряем"
   ]
  },
  {
   "cell_type": "code",
   "execution_count": null,
   "metadata": {
    "colab": {
     "base_uri": "https://localhost:8080/"
    },
    "executionInfo": {
     "elapsed": 16,
     "status": "ok",
     "timestamp": 1746387492429,
     "user": {
      "displayName": "Татьяна Стрельницкая",
      "userId": "08357198606275998011"
     },
     "user_tz": -180
    },
    "id": "sVW42yJ6yOcO",
    "outputId": "e5503da5-f3bd-449f-95ab-e9c50684fd13"
   },
   "outputs": [
    {
     "name": "stdout",
     "output_type": "stream",
     "text": [
      "<class 'pandas.core.frame.DataFrame'>\n",
      "Index: 304670 entries, 0 to 304712\n",
      "Data columns (total 5 columns):\n",
      " #   Column        Non-Null Count   Dtype \n",
      "---  ------        --------------   ----- \n",
      " 0   line_id       304670 non-null  object\n",
      " 1   character_id  304670 non-null  object\n",
      " 2   movie_id      304670 non-null  object\n",
      " 3   character     304670 non-null  object\n",
      " 4   text          304670 non-null  object\n",
      "dtypes: object(5)\n",
      "memory usage: 13.9+ MB\n"
     ]
    }
   ],
   "source": [
    "df = df.dropna()\n",
    "df.info()"
   ]
  },
  {
   "cell_type": "markdown",
   "metadata": {},
   "source": [
    "Посмотрим также на распредение длин текстов, количества реплик по фильмам и количество уникальных значений"
   ]
  },
  {
   "cell_type": "code",
   "execution_count": 12,
   "metadata": {
    "colab": {
     "base_uri": "https://localhost:8080/",
     "height": 335
    },
    "executionInfo": {
     "elapsed": 96,
     "status": "ok",
     "timestamp": 1746385314261,
     "user": {
      "displayName": "Татьяна Стрельницкая",
      "userId": "08357198606275998011"
     },
     "user_tz": -180
    },
    "id": "mznM2YlwrQkN",
    "outputId": "4c1e8184-99cb-4b60-868f-6d8f302c29f1"
   },
   "outputs": [
    {
     "data": {
      "text/plain": [
       "count    304403.000000\n",
       "mean         55.325644\n",
       "std          64.088439\n",
       "min           1.000000\n",
       "25%          19.000000\n",
       "50%          35.000000\n",
       "75%          69.000000\n",
       "max        3046.000000\n",
       "Name: text, dtype: float64"
      ]
     },
     "execution_count": 12,
     "metadata": {},
     "output_type": "execute_result"
    }
   ],
   "source": [
    "df['text'].str.len().describe()"
   ]
  },
  {
   "cell_type": "code",
   "execution_count": null,
   "metadata": {
    "colab": {
     "base_uri": "https://localhost:8080/",
     "height": 489
    },
    "executionInfo": {
     "elapsed": 18,
     "status": "ok",
     "timestamp": 1746385327280,
     "user": {
      "displayName": "Татьяна Стрельницкая",
      "userId": "08357198606275998011"
     },
     "user_tz": -180
    },
    "id": "pS0YZ7MGrS0c",
    "outputId": "50c3b8ba-e91f-4ba5-9a33-741e33a0129e"
   },
   "outputs": [
    {
     "data": {
      "text/plain": [
       "movie_id\n",
       "m289    1530\n",
       "m299    1286\n",
       "m105    1214\n",
       "m295    1204\n",
       "m238    1187\n",
       "        ... \n",
       "m456      29\n",
       "m406      13\n",
       "m521      13\n",
       "m270      11\n",
       "m602       6\n",
       "Name: count, Length: 617, dtype: int64"
      ]
     },
     "execution_count": 14,
     "metadata": {},
     "output_type": "execute_result"
    }
   ],
   "source": [
    "df['movie_id'].value_counts()"
   ]
  },
  {
   "cell_type": "code",
   "execution_count": null,
   "metadata": {
    "colab": {
     "base_uri": "https://localhost:8080/"
    },
    "executionInfo": {
     "elapsed": 32,
     "status": "ok",
     "timestamp": 1746387163990,
     "user": {
      "displayName": "Татьяна Стрельницкая",
      "userId": "08357198606275998011"
     },
     "user_tz": -180
    },
    "id": "wKzhJzbAvxZ8",
    "outputId": "0af8b2e1-8608-4820-b98e-4a3719398d51"
   },
   "outputs": [
    {
     "name": "stdout",
     "output_type": "stream",
     "text": [
      "9031\n",
      "617\n"
     ]
    }
   ],
   "source": [
    "print(df['character_id'].nunique())\n",
    "print(df['movie_id'].nunique())"
   ]
  },
  {
   "cell_type": "markdown",
   "metadata": {
    "id": "mRKIhQ4XpMRi"
   },
   "source": [
    "### Предобработка данных"
   ]
  },
  {
   "cell_type": "markdown",
   "metadata": {},
   "source": [
    "Выбираем случайную подвыборку для предобработки и обучения моделей, сохраняем пропорции по фильмам для разнообразия"
   ]
  },
  {
   "cell_type": "code",
   "execution_count": null,
   "metadata": {
    "colab": {
     "base_uri": "https://localhost:8080/"
    },
    "executionInfo": {
     "elapsed": 380,
     "status": "ok",
     "timestamp": 1746387497899,
     "user": {
      "displayName": "Татьяна Стрельницкая",
      "userId": "08357198606275998011"
     },
     "user_tz": -180
    },
    "id": "EjloKAelo-la",
    "outputId": "88add874-8ee8-4348-d33f-efd88f018172"
   },
   "outputs": [
    {
     "name": "stderr",
     "output_type": "stream",
     "text": [
      "C:\\Users\\Таня\\AppData\\Local\\Temp\\ipykernel_2528\\2577531514.py:3: DeprecationWarning: DataFrameGroupBy.apply operated on the grouping columns. This behavior is deprecated, and in a future version of pandas the grouping columns will be excluded from the operation. Either pass `include_groups=False` to exclude the groupings or explicitly select the grouping columns after groupby to silence this warning.\n",
      "  df_sample = df.groupby('movie_id', group_keys=False).apply(lambda x: x.sample(frac=22000/len(df), random_state=42) if len(x) > 0 else x)\n"
     ]
    }
   ],
   "source": [
    "\n",
    "df_sample = df.groupby('movie_id', group_keys=False).apply(lambda x: x.sample(frac=22000/len(df), random_state=42) if len(x) > 0 else x)\n"
   ]
  },
  {
   "cell_type": "code",
   "execution_count": null,
   "metadata": {
    "colab": {
     "base_uri": "https://localhost:8080/"
    },
    "executionInfo": {
     "elapsed": 42,
     "status": "ok",
     "timestamp": 1746387499121,
     "user": {
      "displayName": "Татьяна Стрельницкая",
      "userId": "08357198606275998011"
     },
     "user_tz": -180
    },
    "id": "DkzITjHaw4sw",
    "outputId": "03bf4468-c5ce-4393-c550-0fb126652c35"
   },
   "outputs": [
    {
     "name": "stdout",
     "output_type": "stream",
     "text": [
      "(21997, 5)\n",
      "616\n"
     ]
    }
   ],
   "source": [
    "print(df_sample.shape)\n",
    "print(df_sample['movie_id'].nunique())"
   ]
  },
  {
   "cell_type": "markdown",
   "metadata": {},
   "source": [
    "Создадим список для хранения диалогов (в формате реплика - ответ), при этом группируем по id фильма, чтобы работать с диалогами в пределах каждого отдельного фильма. Затем проведем предобработку текстов"
   ]
  },
  {
   "cell_type": "code",
   "execution_count": null,
   "metadata": {
    "executionInfo": {
     "elapsed": 2323,
     "status": "ok",
     "timestamp": 1746387503113,
     "user": {
      "displayName": "Татьяна Стрельницкая",
      "userId": "08357198606275998011"
     },
     "user_tz": -180
    },
    "id": "Q9cNvCRGxSCz"
   },
   "outputs": [],
   "source": [
    "dialogues = []\n",
    "\n",
    "for movie_id in df_sample['movie_id'].unique():\n",
    "    movie_df = df_sample[df_sample['movie_id'] == movie_id].sort_values('line_id')\n",
    "    for i in range(len(movie_df) - 1):\n",
    "        context = movie_df.iloc[i]['text']\n",
    "        response = movie_df.iloc[i + 1]['text']\n",
    "        dialogues.append({\n",
    "            'movie_id': movie_id,\n",
    "            'context': context,\n",
    "            'response': response\n",
    "        })\n",
    "\n",
    "dialogues_df = pd.DataFrame(dialogues)"
   ]
  },
  {
   "cell_type": "code",
   "execution_count": null,
   "metadata": {
    "colab": {
     "base_uri": "https://localhost:8080/",
     "height": 206
    },
    "executionInfo": {
     "elapsed": 70,
     "status": "ok",
     "timestamp": 1746387503185,
     "user": {
      "displayName": "Татьяна Стрельницкая",
      "userId": "08357198606275998011"
     },
     "user_tz": -180
    },
    "id": "JkXz_rYxxf5x",
    "outputId": "e21cae24-ef26-4b01-b0fd-e99d68399177"
   },
   "outputs": [
    {
     "data": {
      "text/html": [
       "<div>\n",
       "<style scoped>\n",
       "    .dataframe tbody tr th:only-of-type {\n",
       "        vertical-align: middle;\n",
       "    }\n",
       "\n",
       "    .dataframe tbody tr th {\n",
       "        vertical-align: top;\n",
       "    }\n",
       "\n",
       "    .dataframe thead th {\n",
       "        text-align: right;\n",
       "    }\n",
       "</style>\n",
       "<table border=\"1\" class=\"dataframe\">\n",
       "  <thead>\n",
       "    <tr style=\"text-align: right;\">\n",
       "      <th></th>\n",
       "      <th>movie_id</th>\n",
       "      <th>context</th>\n",
       "      <th>response</th>\n",
       "    </tr>\n",
       "  </thead>\n",
       "  <tbody>\n",
       "    <tr>\n",
       "      <th>0</th>\n",
       "      <td>m0</td>\n",
       "      <td>Let go!</td>\n",
       "      <td>Katarina Stratford.  My, my.  You've been terr...</td>\n",
       "    </tr>\n",
       "    <tr>\n",
       "      <th>1</th>\n",
       "      <td>m0</td>\n",
       "      <td>Katarina Stratford.  My, my.  You've been terr...</td>\n",
       "      <td>Besides, I had some extra cash. Some asshole p...</td>\n",
       "    </tr>\n",
       "    <tr>\n",
       "      <th>2</th>\n",
       "      <td>m0</td>\n",
       "      <td>Besides, I had some extra cash. Some asshole p...</td>\n",
       "      <td>Perm?</td>\n",
       "    </tr>\n",
       "    <tr>\n",
       "      <th>3</th>\n",
       "      <td>m0</td>\n",
       "      <td>Perm?</td>\n",
       "      <td>Yeah, and I noticed the only part of you featu...</td>\n",
       "    </tr>\n",
       "    <tr>\n",
       "      <th>4</th>\n",
       "      <td>m0</td>\n",
       "      <td>Yeah, and I noticed the only part of you featu...</td>\n",
       "      <td>Make anyone cry today?</td>\n",
       "    </tr>\n",
       "  </tbody>\n",
       "</table>\n",
       "</div>"
      ],
      "text/plain": [
       "  movie_id                                            context  \\\n",
       "0       m0                                            Let go!   \n",
       "1       m0  Katarina Stratford.  My, my.  You've been terr...   \n",
       "2       m0  Besides, I had some extra cash. Some asshole p...   \n",
       "3       m0                                              Perm?   \n",
       "4       m0  Yeah, and I noticed the only part of you featu...   \n",
       "\n",
       "                                            response  \n",
       "0  Katarina Stratford.  My, my.  You've been terr...  \n",
       "1  Besides, I had some extra cash. Some asshole p...  \n",
       "2                                              Perm?  \n",
       "3  Yeah, and I noticed the only part of you featu...  \n",
       "4                             Make anyone cry today?  "
      ]
     },
     "execution_count": 19,
     "metadata": {},
     "output_type": "execute_result"
    }
   ],
   "source": [
    "dialogues_df.head()"
   ]
  },
  {
   "cell_type": "code",
   "execution_count": null,
   "metadata": {
    "executionInfo": {
     "elapsed": 192,
     "status": "ok",
     "timestamp": 1746387505122,
     "user": {
      "displayName": "Татьяна Стрельницкая",
      "userId": "08357198606275998011"
     },
     "user_tz": -180
    },
    "id": "cJp1_CMKxqjK"
   },
   "outputs": [],
   "source": [
    "\n",
    "def clean_text(text):\n",
    "    text = text.lower()\n",
    "    text = re.sub(r'\\s+', ' ', text).strip()\n",
    "    return text\n",
    "\n",
    "dialogues_df['context'] = dialogues_df['context'].apply(clean_text)\n",
    "dialogues_df['response'] = dialogues_df['response'].apply(clean_text)"
   ]
  },
  {
   "cell_type": "code",
   "execution_count": null,
   "metadata": {
    "colab": {
     "base_uri": "https://localhost:8080/",
     "height": 206
    },
    "executionInfo": {
     "elapsed": 139,
     "status": "ok",
     "timestamp": 1746387506828,
     "user": {
      "displayName": "Татьяна Стрельницкая",
      "userId": "08357198606275998011"
     },
     "user_tz": -180
    },
    "id": "wq9topFUyiCK",
    "outputId": "635428fd-0dcb-4708-bd8a-abc1ce510d5b"
   },
   "outputs": [
    {
     "data": {
      "text/html": [
       "<div>\n",
       "<style scoped>\n",
       "    .dataframe tbody tr th:only-of-type {\n",
       "        vertical-align: middle;\n",
       "    }\n",
       "\n",
       "    .dataframe tbody tr th {\n",
       "        vertical-align: top;\n",
       "    }\n",
       "\n",
       "    .dataframe thead th {\n",
       "        text-align: right;\n",
       "    }\n",
       "</style>\n",
       "<table border=\"1\" class=\"dataframe\">\n",
       "  <thead>\n",
       "    <tr style=\"text-align: right;\">\n",
       "      <th></th>\n",
       "      <th>movie_id</th>\n",
       "      <th>context</th>\n",
       "      <th>response</th>\n",
       "    </tr>\n",
       "  </thead>\n",
       "  <tbody>\n",
       "    <tr>\n",
       "      <th>0</th>\n",
       "      <td>m0</td>\n",
       "      <td>let go!</td>\n",
       "      <td>katarina stratford. my, my. you've been terror...</td>\n",
       "    </tr>\n",
       "    <tr>\n",
       "      <th>1</th>\n",
       "      <td>m0</td>\n",
       "      <td>katarina stratford. my, my. you've been terror...</td>\n",
       "      <td>besides, i had some extra cash. some asshole p...</td>\n",
       "    </tr>\n",
       "    <tr>\n",
       "      <th>2</th>\n",
       "      <td>m0</td>\n",
       "      <td>besides, i had some extra cash. some asshole p...</td>\n",
       "      <td>perm?</td>\n",
       "    </tr>\n",
       "    <tr>\n",
       "      <th>3</th>\n",
       "      <td>m0</td>\n",
       "      <td>perm?</td>\n",
       "      <td>yeah, and i noticed the only part of you featu...</td>\n",
       "    </tr>\n",
       "    <tr>\n",
       "      <th>4</th>\n",
       "      <td>m0</td>\n",
       "      <td>yeah, and i noticed the only part of you featu...</td>\n",
       "      <td>make anyone cry today?</td>\n",
       "    </tr>\n",
       "  </tbody>\n",
       "</table>\n",
       "</div>"
      ],
      "text/plain": [
       "  movie_id                                            context  \\\n",
       "0       m0                                            let go!   \n",
       "1       m0  katarina stratford. my, my. you've been terror...   \n",
       "2       m0  besides, i had some extra cash. some asshole p...   \n",
       "3       m0                                              perm?   \n",
       "4       m0  yeah, and i noticed the only part of you featu...   \n",
       "\n",
       "                                            response  \n",
       "0  katarina stratford. my, my. you've been terror...  \n",
       "1  besides, i had some extra cash. some asshole p...  \n",
       "2                                              perm?  \n",
       "3  yeah, and i noticed the only part of you featu...  \n",
       "4                             make anyone cry today?  "
      ]
     },
     "execution_count": 21,
     "metadata": {},
     "output_type": "execute_result"
    }
   ],
   "source": [
    "dialogues_df.head()"
   ]
  },
  {
   "cell_type": "markdown",
   "metadata": {},
   "source": [
    "### Обучение и оценка первой тестовой модели"
   ]
  },
  {
   "cell_type": "markdown",
   "metadata": {},
   "source": [
    "Для начала создаем папки для сохранения логов на случай, если что-то внезапно сломается и придется восстанавливать. Также на этом этапе объвляем вспомогательные функции для расчета метрик"
   ]
  },
  {
   "cell_type": "code",
   "execution_count": null,
   "metadata": {},
   "outputs": [
    {
     "name": "stderr",
     "output_type": "stream",
     "text": [
      "C:\\Users\\Таня\\AppData\\Local\\Packages\\PythonSoftwareFoundation.Python.3.11_qbz5n2kfra8p0\\LocalCache\\local-packages\\Python311\\site-packages\\tqdm\\auto.py:21: TqdmWarning: IProgress not found. Please update jupyter and ipywidgets. See https://ipywidgets.readthedocs.io/en/stable/user_install.html\n",
      "  from .autonotebook import tqdm as notebook_tqdm\n"
     ]
    }
   ],
   "source": [
    "log_dir = './logs'\n",
    "checkpoint_dir = './checkpoints'\n",
    "os.makedirs(log_dir, exist_ok=True)\n",
    "os.makedirs(checkpoint_dir, exist_ok=True)\n",
    "\n",
    "logging.basicConfig(\n",
    "    filename=os.path.join(log_dir, 'train.log'),\n",
    "    level=logging.INFO,\n",
    "    format='%(asctime)s - %(levelname)s - %(message)s'\n",
    ")\n",
    "\n",
    "metrics_path = os.path.join(log_dir, 'metrics.json')\n",
    "metrics = []\n",
    "\n",
    "def save_metrics(epoch, train_loss, val_loss=None):\n",
    "    entry = {\n",
    "        'epoch': epoch,\n",
    "        'train_loss': train_loss,\n",
    "        'val_loss': val_loss\n",
    "    }\n",
    "    metrics.append(entry)\n",
    "    with open(metrics_path, 'w') as f:\n",
    "        json.dump(metrics, f, indent=2)\n",
    "\n",
    "def save_checkpoint(epoch):\n",
    "    torch.save({\n",
    "        'epoch': epoch,\n",
    "        'model_state_dict': model.state_dict(),\n",
    "        'optimizer_state_dict': optimizer.state_dict(),\n",
    "        'metrics': metrics\n",
    "    }, os.path.join(checkpoint_dir, f'checkpoint_epoch_{epoch}.pt'))\n",
    "\n",
    "def load_checkpoint(path):\n",
    "    checkpoint = torch.load(path)\n",
    "    model.load_state_dict(checkpoint['model_state_dict'])\n",
    "    optimizer.load_state_dict(checkpoint['optimizer_state_dict'])\n",
    "    return checkpoint['epoch'], checkpoint.get('metrics', [])"
   ]
  },
  {
   "cell_type": "markdown",
   "metadata": {},
   "source": [
    "Теперь готовим данные, делим их на обучающее, валидационное и тестовое множества с сохранением пропорций по отдельным фильмам"
   ]
  },
  {
   "cell_type": "code",
   "execution_count": null,
   "metadata": {},
   "outputs": [
    {
     "name": "stdout",
     "output_type": "stream",
     "text": [
      "Train set: 14965 строк (70.0%)\n",
      "Validation set: 3204 строк (15.0%)\n",
      "Test set: 3205 строк (15.0%)\n",
      "\n",
      "Уникальных фильмов в наборах:\n",
      "Train: 611\n",
      "Validation: 606\n",
      "Test: 606\n"
     ]
    }
   ],
   "source": [
    "movie_counts = dialogues_df['movie_id'].value_counts()\n",
    "valid_movies = movie_counts[movie_counts >= 2].index\n",
    "filtered_dialogues_df = dialogues_df[dialogues_df['movie_id'].isin(valid_movies)]\n",
    "\n",
    "train_df, temp_df = train_test_split(\n",
    "    filtered_dialogues_df, test_size=0.3, random_state=42, stratify=filtered_dialogues_df['movie_id'])\n",
    "\n",
    "temp_movie_counts = temp_df['movie_id'].value_counts()\n",
    "valid_temp_movies = temp_movie_counts[temp_movie_counts >= 2].index\n",
    "filtered_temp_df = temp_df[temp_df['movie_id'].isin(valid_temp_movies)]\n",
    "\n",
    "val_df, test_df = train_test_split(\n",
    "    filtered_temp_df, test_size=0.5, random_state=42, stratify=filtered_temp_df['movie_id'])\n",
    "\n",
    "print(f\"Train set: {len(train_df)} строк ({len(train_df)/len(filtered_dialogues_df)*100:.1f}%)\")\n",
    "print(f\"Validation set: {len(val_df)} строк ({len(val_df)/len(filtered_dialogues_df)*100:.1f}%)\")\n",
    "print(f\"Test set: {len(test_df)} строк ({len(test_df)/len(filtered_dialogues_df)*100:.1f}%)\")\n",
    "\n",
    "print(\"\\nУникальных фильмов в наборах:\")\n",
    "print(f\"Train: {train_df['movie_id'].nunique()}\")\n",
    "print(f\"Validation: {val_df['movie_id'].nunique()}\")\n",
    "print(f\"Test: {test_df['movie_id'].nunique()}\")"
   ]
  },
  {
   "cell_type": "markdown",
   "metadata": {},
   "source": [
    "Смотрим, что все хорошо предобработалось и правильно сохранилось"
   ]
  },
  {
   "cell_type": "code",
   "execution_count": null,
   "metadata": {},
   "outputs": [
    {
     "data": {
      "text/html": [
       "<div>\n",
       "<style scoped>\n",
       "    .dataframe tbody tr th:only-of-type {\n",
       "        vertical-align: middle;\n",
       "    }\n",
       "\n",
       "    .dataframe tbody tr th {\n",
       "        vertical-align: top;\n",
       "    }\n",
       "\n",
       "    .dataframe thead th {\n",
       "        text-align: right;\n",
       "    }\n",
       "</style>\n",
       "<table border=\"1\" class=\"dataframe\">\n",
       "  <thead>\n",
       "    <tr style=\"text-align: right;\">\n",
       "      <th></th>\n",
       "      <th>movie_id</th>\n",
       "      <th>context</th>\n",
       "      <th>response</th>\n",
       "    </tr>\n",
       "  </thead>\n",
       "  <tbody>\n",
       "    <tr>\n",
       "      <th>14525</th>\n",
       "      <td>m467</td>\n",
       "      <td>listen to miss smarty mouth. out there in the ...</td>\n",
       "      <td>happy birthday, kid. you want another coke?</td>\n",
       "    </tr>\n",
       "    <tr>\n",
       "      <th>10323</th>\n",
       "      <td>m35</td>\n",
       "      <td>right on the button.</td>\n",
       "      <td>i've got goose-bumps all over me.</td>\n",
       "    </tr>\n",
       "    <tr>\n",
       "      <th>478</th>\n",
       "      <td>m105</td>\n",
       "      <td>where're you going?</td>\n",
       "      <td>i thought you were tired of your business?</td>\n",
       "    </tr>\n",
       "    <tr>\n",
       "      <th>11767</th>\n",
       "      <td>m39</td>\n",
       "      <td>last week? when?</td>\n",
       "      <td>please -- i'm only here because of paris -- be...</td>\n",
       "    </tr>\n",
       "    <tr>\n",
       "      <th>5475</th>\n",
       "      <td>m231</td>\n",
       "      <td>between ten and twelve. once a nine- year-old ...</td>\n",
       "      <td>walter.</td>\n",
       "    </tr>\n",
       "  </tbody>\n",
       "</table>\n",
       "</div>"
      ],
      "text/plain": [
       "      movie_id                                            context  \\\n",
       "14525     m467  listen to miss smarty mouth. out there in the ...   \n",
       "10323      m35                               right on the button.   \n",
       "478       m105                                where're you going?   \n",
       "11767      m39                                   last week? when?   \n",
       "5475      m231  between ten and twelve. once a nine- year-old ...   \n",
       "\n",
       "                                                response  \n",
       "14525        happy birthday, kid. you want another coke?  \n",
       "10323                  i've got goose-bumps all over me.  \n",
       "478           i thought you were tired of your business?  \n",
       "11767  please -- i'm only here because of paris -- be...  \n",
       "5475                                             walter.  "
      ]
     },
     "execution_count": 27,
     "metadata": {},
     "output_type": "execute_result"
    }
   ],
   "source": [
    "train_df.head()"
   ]
  },
  {
   "cell_type": "markdown",
   "metadata": {},
   "source": [
    "Теперь для дальнейшей работы нужно токенизировать датасеты и преобразовать их сначала в вид TensorDataset, а затем уже в вид DataLoader"
   ]
  },
  {
   "cell_type": "code",
   "execution_count": null,
   "metadata": {},
   "outputs": [],
   "source": [
    "\n",
    "tokenizer = GPT2Tokenizer.from_pretrained('gpt2')\n",
    "tokenizer.pad_token = tokenizer.eos_token\n",
    "\n",
    "def format_text(row):\n",
    "    return f\"{row['context']} [SEP] {row['response']}\"\n",
    "\n",
    "train_texts = [format_text(row) for _, row in train_df.iterrows()]\n",
    "val_texts = [format_text(row) for _, row in val_df.iterrows()]\n",
    "test_texts = [format_text(row) for _, row in test_df.iterrows()]\n",
    "\n",
    "def tokenize_batch(texts):\n",
    "    return tokenizer(texts, return_tensors='pt', truncation=True, max_length=128, padding='max_length')['input_ids']\n",
    "\n",
    "train_inputs = tokenize_batch(train_texts)\n",
    "val_inputs = tokenize_batch(val_texts)\n",
    "test_inputs = tokenize_batch(test_texts)\n",
    "\n",
    "train_dataset = TensorDataset(train_inputs)\n",
    "val_dataset = TensorDataset(val_inputs)\n",
    "test_dataset = TensorDataset(test_inputs)\n",
    "\n",
    "batch_size = 8\n",
    "train_loader = DataLoader(train_dataset, batch_size=batch_size, shuffle=True)\n",
    "val_loader = DataLoader(val_dataset, batch_size=batch_size)\n",
    "test_loader = DataLoader(test_dataset, batch_size=batch_size)"
   ]
  },
  {
   "cell_type": "markdown",
   "metadata": {},
   "source": [
    "Инициализируем модель gpt-2 и настраиваем основные параметры для нее"
   ]
  },
  {
   "cell_type": "code",
   "execution_count": null,
   "metadata": {},
   "outputs": [
    {
     "name": "stderr",
     "output_type": "stream",
     "text": [
      "C:\\Users\\Таня\\AppData\\Local\\Packages\\PythonSoftwareFoundation.Python.3.11_qbz5n2kfra8p0\\LocalCache\\local-packages\\Python311\\site-packages\\transformers\\optimization.py:591: FutureWarning: This implementation of AdamW is deprecated and will be removed in a future version. Use the PyTorch implementation torch.optim.AdamW instead, or set `no_deprecation_warning=True` to disable this warning\n",
      "  warnings.warn(\n"
     ]
    }
   ],
   "source": [
    "model = GPT2LMHeadModel.from_pretrained('gpt2')\n",
    "model.config.pad_token_id = tokenizer.pad_token_id\n",
    "\n",
    "learning_rate = 5e-5\n",
    "num_epochs = 3\n",
    "optimizer = AdamW(model.parameters(), lr=learning_rate)\n",
    "\n",
    "model = model.to(device)"
   ]
  },
  {
   "cell_type": "markdown",
   "metadata": {},
   "source": [
    "Обучаем тестовую модель и делаем ее оценку ранее заявленым метрикам"
   ]
  },
  {
   "cell_type": "code",
   "execution_count": null,
   "metadata": {},
   "outputs": [
    {
     "name": "stderr",
     "output_type": "stream",
     "text": [
      "Эпоха 1/3:   0%|          | 0/1871 [00:00<?, ?it/s]"
     ]
    },
    {
     "name": "stderr",
     "output_type": "stream",
     "text": [
      "We strongly recommend passing in an `attention_mask` since your input_ids may be padded. See https://huggingface.co/docs/transformers/troubleshooting#incorrect-output-when-padding-tokens-arent-masked.\n",
      "You may ignore this warning if your `pad_token_id` (50256) is identical to the `bos_token_id` (50256), `eos_token_id` (50256), or the `sep_token_id` (None), and your input is not padded.\n",
      "Эпоха 1/3: 100%|██████████| 1871/1871 [17:46<00:00,  1.75it/s, loss=0.623]\n",
      "Эпоха 2/3: 100%|██████████| 1871/1871 [18:45<00:00,  1.66it/s, loss=1.25] \n",
      "Эпоха 3/3: 100%|██████████| 1871/1871 [18:46<00:00,  1.66it/s, loss=0.917]\n"
     ]
    }
   ],
   "source": [
    "start_epoch = 0\n",
    "\n",
    "model.train()\n",
    "for epoch in range(start_epoch, num_epochs):\n",
    "    total_loss = 0\n",
    "    progress_bar = tqdm(train_loader, desc=f\"Эпоха {epoch+1}/{num_epochs}\")\n",
    "\n",
    "    for batch in progress_bar:\n",
    "        inputs = batch[0].to(device)\n",
    "        outputs = model(inputs, labels=inputs)\n",
    "        loss = outputs.loss\n",
    "        loss.backward()\n",
    "\n",
    "        optimizer.step()\n",
    "        optimizer.zero_grad()\n",
    "\n",
    "        total_loss += loss.item()\n",
    "        progress_bar.set_postfix({'loss': loss.item()})\n",
    "\n",
    "    avg_train_loss = total_loss / len(train_loader)\n",
    "    logging.info(f\"Epoch {epoch+1}, Train Loss: {avg_train_loss:.4f}\")\n",
    "\n",
    "    model.eval()\n",
    "    val_loss = 0\n",
    "    with torch.no_grad():\n",
    "        for batch in val_loader:\n",
    "            inputs = batch[0].to(device)\n",
    "            outputs = model(inputs, labels=inputs)\n",
    "            val_loss += outputs.loss.item()\n",
    "\n",
    "    avg_val_loss = val_loss / len(val_loader)\n",
    "    logging.info(f\"Epoch {epoch+1}, Val Loss: {avg_val_loss:.4f}\")\n",
    "\n",
    "    save_metrics(epoch + 1, avg_train_loss, avg_val_loss)\n",
    "    save_checkpoint(epoch + 1)\n",
    "    model.train()"
   ]
  },
  {
   "cell_type": "code",
   "execution_count": null,
   "metadata": {},
   "outputs": [
    {
     "name": "stdout",
     "output_type": "stream",
     "text": [
      "Validation Perplexity: 2.08\n"
     ]
    },
    {
     "data": {
      "text/plain": [
       "('./gpt2_finetuned\\\\tokenizer_config.json',\n",
       " './gpt2_finetuned\\\\special_tokens_map.json',\n",
       " './gpt2_finetuned\\\\vocab.json',\n",
       " './gpt2_finetuned\\\\merges.txt',\n",
       " './gpt2_finetuned\\\\added_tokens.json')"
      ]
     },
     "execution_count": 30,
     "metadata": {},
     "output_type": "execute_result"
    }
   ],
   "source": [
    "model.eval()\n",
    "total_loss = 0\n",
    "with torch.no_grad():\n",
    "    for batch in val_loader:\n",
    "        inputs = batch[0].to(device)\n",
    "        outputs = model(inputs, labels=inputs)\n",
    "        total_loss += outputs.loss.item()\n",
    "\n",
    "avg_loss = total_loss / len(val_loader)\n",
    "perplexity = math.exp(avg_loss)\n",
    "logging.info(f\"Final Validation Perplexity: {perplexity:.2f}\")\n",
    "print(f\"Validation Perplexity: {perplexity:.2f}\")\n",
    "\n",
    "model.save_pretrained('./gpt2_finetuned')\n",
    "tokenizer.save_pretrained('./gpt2_finetuned')"
   ]
  },
  {
   "cell_type": "markdown",
   "metadata": {},
   "source": [
    "Финальное значение Perplexity на валидации составило 2.08, что кажется довольно неплохим результатом, однако хотелось бы получить значение еще ближе к 1"
   ]
  },
  {
   "cell_type": "markdown",
   "metadata": {},
   "source": [
    "### Обучение набора моделей с разными оптимизаторами"
   ]
  },
  {
   "cell_type": "markdown",
   "metadata": {},
   "source": [
    "Следующий этап - сравнить работу моделей с использованием разных оптимизаторов, для этого таким же образом, как и ранее, подготавливаем функции для метрик, данные и запускаем эксперименты!"
   ]
  },
  {
   "cell_type": "code",
   "execution_count": null,
   "metadata": {},
   "outputs": [
    {
     "name": "stderr",
     "output_type": "stream",
     "text": [
      "C:\\Users\\Таня\\AppData\\Local\\Packages\\PythonSoftwareFoundation.Python.3.11_qbz5n2kfra8p0\\LocalCache\\local-packages\\Python311\\site-packages\\tqdm\\auto.py:21: TqdmWarning: IProgress not found. Please update jupyter and ipywidgets. See https://ipywidgets.readthedocs.io/en/stable/user_install.html\n",
      "  from .autonotebook import tqdm as notebook_tqdm\n"
     ]
    }
   ],
   "source": [
    "LOG_DIR = \"logs\"\n",
    "LOG_FILE = os.path.join(LOG_DIR, \"metrics_log.json\")\n",
    "\n",
    "os.makedirs(LOG_DIR, exist_ok=True)\n",
    "\n",
    "def calculate_perplexity(loss):\n",
    "    return math.exp(loss)\n",
    "\n",
    "def calculate_bleu(reference_texts, generated_texts):\n",
    "    smooth_fn = SmoothingFunction().method1\n",
    "    scores = [\n",
    "        sentence_bleu([ref.split()], gen.split(), smoothing_function=smooth_fn)\n",
    "        for ref, gen in zip(reference_texts, generated_texts)\n",
    "    ]\n",
    "    return sum(scores) / len(scores) if scores else 0.0\n",
    "\n",
    "def calculate_rouge(reference_texts, generated_texts):\n",
    "    scorer = rouge_scorer.RougeScorer(['rouge1', 'rouge2', 'rougeL'], use_stemmer=True)\n",
    "    scores = [scorer.score(gen, ref) for ref, gen in zip(reference_texts, generated_texts)]\n",
    "    avg_scores = {\n",
    "        'rouge1': sum(s['rouge1'].fmeasure for s in scores) / len(scores),\n",
    "        'rouge2': sum(s['rouge2'].fmeasure for s in scores) / len(scores),\n",
    "        'rougeL': sum(s['rougeL'].fmeasure for s in scores) / len(scores)\n",
    "    }\n",
    "    return avg_scores"
   ]
  },
  {
   "cell_type": "code",
   "execution_count": null,
   "metadata": {},
   "outputs": [],
   "source": [
    "def train_model(name, model, optimizer, scheduler, num_epochs, train_loader, val_loader, device, tokenizer):\n",
    "    train_losses, val_losses, val_perplexities = [], [], []\n",
    "    model.to(device)\n",
    "\n",
    "    for epoch in range(num_epochs):\n",
    "        model.train()\n",
    "        total_train_loss = 0\n",
    "\n",
    "        print(f\"[{name}] Эпоха {epoch+1}/{num_epochs} — обучение\")\n",
    "        for batch in tqdm(train_loader, desc=\"Тренировка\", leave=False):\n",
    "            inputs = batch[0].to(device)\n",
    "            model.zero_grad()\n",
    "            outputs = model(inputs, labels=inputs)\n",
    "            loss = outputs.loss\n",
    "            loss.backward()\n",
    "            optimizer.step()\n",
    "            if scheduler:\n",
    "                scheduler.step()\n",
    "            total_train_loss += loss.item()\n",
    "\n",
    "        avg_train_loss = total_train_loss / len(train_loader)\n",
    "        train_losses.append(avg_train_loss)\n",
    "\n",
    "        model.eval()\n",
    "        total_val_loss = 0\n",
    "        all_refs, all_gens = [], []\n",
    "\n",
    "        print(f\"[{name}] Эпоха {epoch+1}/{num_epochs} — валидация\")\n",
    "        with torch.no_grad():\n",
    "            for batch in tqdm(val_loader, desc=\"Валидация\", leave=False):\n",
    "                inputs = batch[0].to(device)\n",
    "                outputs = model(inputs, labels=inputs)\n",
    "                loss = outputs.loss\n",
    "                total_val_loss += loss.item()\n",
    "\n",
    "                decoded = tokenizer.batch_decode(inputs, skip_special_tokens=True)\n",
    "                all_refs.extend(decoded)\n",
    "                all_gens.extend(decoded)\n",
    "\n",
    "        avg_val_loss = total_val_loss / len(val_loader)\n",
    "        val_losses.append(avg_val_loss)\n",
    "        perplexity = calculate_perplexity(avg_val_loss)\n",
    "        val_perplexities.append(perplexity)\n",
    "        bleu_score = calculate_bleu(all_refs, all_gens)\n",
    "        rouge_scores = calculate_rouge(all_refs, all_gens)\n",
    "\n",
    "        print(f\"Train Loss: {avg_train_loss:.4f} | Val Loss: {avg_val_loss:.4f} | Perplexity: {perplexity:.2f} | BLEU: {bleu_score:.4f} | ROUGE: {rouge_scores}\")\n",
    "\n",
    "        log_data = {\n",
    "            \"experiment\": name,\n",
    "            \"epoch\": epoch + 1,\n",
    "            \"train_loss\": avg_train_loss,\n",
    "            \"val_loss\": avg_val_loss,\n",
    "            \"perplexity\": perplexity,\n",
    "            \"bleu\": bleu_score,\n",
    "            \"rouge1\": rouge_scores['rouge1'],\n",
    "            \"rouge2\": rouge_scores['rouge2'],\n",
    "            \"rougeL\": rouge_scores['rougeL'],\n",
    "        }\n",
    "        with open(LOG_FILE, \"a\") as f:\n",
    "            json.dump(log_data, f)\n",
    "            f.write(\"\\n\")\n",
    "\n",
    "    save_dir = f\"saved_models/{name}\"\n",
    "    os.makedirs(save_dir, exist_ok=True)\n",
    "    model.save_pretrained(save_dir)\n",
    "    tokenizer.save_pretrained(save_dir)\n",
    "    print(f\"\\n Модель '{name}' сохранена в: {save_dir}\")\n",
    "\n",
    "    return train_losses, val_losses, val_perplexities"
   ]
  },
  {
   "cell_type": "code",
   "execution_count": null,
   "metadata": {},
   "outputs": [],
   "source": [
    "def run_experiments(train_loader, val_loader, tokenizer, device, num_epochs):\n",
    "    optimizers = {\n",
    "        \"adam\": lambda model: AdamW(model.parameters(), lr=5e-5),\n",
    "        \"adam_sched\": lambda model: AdamW(model.parameters(), lr=5e-5),\n",
    "        \"sgd\": lambda model: optim.SGD(model.parameters(), lr=1e-3),\n",
    "        \"rmsprop\": lambda model: optim.RMSprop(model.parameters(), lr=1e-4)\n",
    "    }\n",
    "\n",
    "    for name, optimizer_fn in optimizers.items():\n",
    "        model = GPT2LMHeadModel.from_pretrained('gpt2')\n",
    "        model.resize_token_embeddings(len(tokenizer))\n",
    "        optimizer = optimizer_fn(model)\n",
    "        scheduler = None\n",
    "\n",
    "        if name == \"adam_sched\":\n",
    "            total_steps = len(train_loader) * num_epochs\n",
    "            scheduler = get_linear_schedule_with_warmup(optimizer, num_warmup_steps=100, num_training_steps=total_steps)\n",
    "\n",
    "        train_model(name, model, optimizer, scheduler, num_epochs, train_loader, val_loader, device, tokenizer)"
   ]
  },
  {
   "cell_type": "code",
   "execution_count": null,
   "metadata": {},
   "outputs": [
    {
     "name": "stderr",
     "output_type": "stream",
     "text": [
      "C:\\Users\\Таня\\AppData\\Local\\Packages\\PythonSoftwareFoundation.Python.3.11_qbz5n2kfra8p0\\LocalCache\\local-packages\\Python311\\site-packages\\transformers\\optimization.py:591: FutureWarning: This implementation of AdamW is deprecated and will be removed in a future version. Use the PyTorch implementation torch.optim.AdamW instead, or set `no_deprecation_warning=True` to disable this warning\n",
      "  warnings.warn(\n"
     ]
    },
    {
     "name": "stdout",
     "output_type": "stream",
     "text": [
      "\n",
      "[adam] Эпоха 1/3 — обучение\n"
     ]
    },
    {
     "name": "stderr",
     "output_type": "stream",
     "text": [
      "                                                               \r"
     ]
    },
    {
     "name": "stdout",
     "output_type": "stream",
     "text": [
      "[adam] Эпоха 1/3 — валидация\n"
     ]
    },
    {
     "name": "stderr",
     "output_type": "stream",
     "text": [
      "                                                            \r"
     ]
    },
    {
     "name": "stdout",
     "output_type": "stream",
     "text": [
      "Train Loss: 0.8548 | Val Loss: 0.7923 | Perplexity: 2.21 | BLEU: 0.9969 | ROUGE: {'rouge1': 1.0, 'rouge2': 1.0, 'rougeL': 1.0}\n",
      "\n",
      "[adam] Эпоха 2/3 — обучение\n"
     ]
    },
    {
     "name": "stderr",
     "output_type": "stream",
     "text": [
      "                                                               \r"
     ]
    },
    {
     "name": "stdout",
     "output_type": "stream",
     "text": [
      "[adam] Эпоха 2/3 — валидация\n"
     ]
    },
    {
     "name": "stderr",
     "output_type": "stream",
     "text": [
      "                                                            \r"
     ]
    },
    {
     "name": "stdout",
     "output_type": "stream",
     "text": [
      "Train Loss: 0.7657 | Val Loss: 0.7612 | Perplexity: 2.14 | BLEU: 0.9969 | ROUGE: {'rouge1': 1.0, 'rouge2': 1.0, 'rougeL': 1.0}\n",
      "\n",
      "[adam] Эпоха 3/3 — обучение\n"
     ]
    },
    {
     "name": "stderr",
     "output_type": "stream",
     "text": [
      "                                                               \r"
     ]
    },
    {
     "name": "stdout",
     "output_type": "stream",
     "text": [
      "[adam] Эпоха 3/3 — валидация\n"
     ]
    },
    {
     "name": "stderr",
     "output_type": "stream",
     "text": [
      "                                                            \r"
     ]
    },
    {
     "name": "stdout",
     "output_type": "stream",
     "text": [
      "Train Loss: 0.6980 | Val Loss: 0.7354 | Perplexity: 2.09 | BLEU: 0.9969 | ROUGE: {'rouge1': 1.0, 'rouge2': 1.0, 'rougeL': 1.0}\n",
      "\n",
      " Модель 'adam' сохранена в: saved_models/adam\n"
     ]
    },
    {
     "name": "stderr",
     "output_type": "stream",
     "text": [
      "C:\\Users\\Таня\\AppData\\Local\\Packages\\PythonSoftwareFoundation.Python.3.11_qbz5n2kfra8p0\\LocalCache\\local-packages\\Python311\\site-packages\\transformers\\optimization.py:591: FutureWarning: This implementation of AdamW is deprecated and will be removed in a future version. Use the PyTorch implementation torch.optim.AdamW instead, or set `no_deprecation_warning=True` to disable this warning\n",
      "  warnings.warn(\n"
     ]
    },
    {
     "name": "stdout",
     "output_type": "stream",
     "text": [
      "\n",
      "[adam_sched] Эпоха 1/3 — обучение\n"
     ]
    },
    {
     "name": "stderr",
     "output_type": "stream",
     "text": [
      "                                                               \r"
     ]
    },
    {
     "name": "stdout",
     "output_type": "stream",
     "text": [
      "[adam_sched] Эпоха 1/3 — валидация\n"
     ]
    },
    {
     "name": "stderr",
     "output_type": "stream",
     "text": [
      "                                                            \r"
     ]
    },
    {
     "name": "stdout",
     "output_type": "stream",
     "text": [
      "Train Loss: 0.9312 | Val Loss: 0.8029 | Perplexity: 2.23 | BLEU: 0.9969 | ROUGE: {'rouge1': 1.0, 'rouge2': 1.0, 'rougeL': 1.0}\n",
      "\n",
      "[adam_sched] Эпоха 2/3 — обучение\n"
     ]
    },
    {
     "name": "stderr",
     "output_type": "stream",
     "text": [
      "                                                               \r"
     ]
    },
    {
     "name": "stdout",
     "output_type": "stream",
     "text": [
      "[adam_sched] Эпоха 2/3 — валидация\n"
     ]
    },
    {
     "name": "stderr",
     "output_type": "stream",
     "text": [
      "                                                            \r"
     ]
    },
    {
     "name": "stdout",
     "output_type": "stream",
     "text": [
      "Train Loss: 0.7899 | Val Loss: 0.7831 | Perplexity: 2.19 | BLEU: 0.9969 | ROUGE: {'rouge1': 1.0, 'rouge2': 1.0, 'rougeL': 1.0}\n",
      "\n",
      "[adam_sched] Эпоха 3/3 — обучение\n"
     ]
    },
    {
     "name": "stderr",
     "output_type": "stream",
     "text": [
      "                                                               \r"
     ]
    },
    {
     "name": "stdout",
     "output_type": "stream",
     "text": [
      "[adam_sched] Эпоха 3/3 — валидация\n"
     ]
    },
    {
     "name": "stderr",
     "output_type": "stream",
     "text": [
      "                                                            \r"
     ]
    },
    {
     "name": "stdout",
     "output_type": "stream",
     "text": [
      "Train Loss: 0.7533 | Val Loss: 0.7759 | Perplexity: 2.17 | BLEU: 0.9969 | ROUGE: {'rouge1': 1.0, 'rouge2': 1.0, 'rougeL': 1.0}\n",
      "\n",
      " Модель 'adam_sched' сохранена в: saved_models/adam_sched\n",
      "\n",
      "[sgd] Эпоха 1/3 — обучение\n"
     ]
    },
    {
     "name": "stderr",
     "output_type": "stream",
     "text": [
      "                                                               \r"
     ]
    },
    {
     "name": "stdout",
     "output_type": "stream",
     "text": [
      "[sgd] Эпоха 1/3 — валидация\n"
     ]
    },
    {
     "name": "stderr",
     "output_type": "stream",
     "text": [
      "                                                            \r"
     ]
    },
    {
     "name": "stdout",
     "output_type": "stream",
     "text": [
      "Train Loss: 0.9668 | Val Loss: 0.8754 | Perplexity: 2.40 | BLEU: 0.9969 | ROUGE: {'rouge1': 1.0, 'rouge2': 1.0, 'rougeL': 1.0}\n",
      "\n",
      "[sgd] Эпоха 2/3 — обучение\n"
     ]
    },
    {
     "name": "stderr",
     "output_type": "stream",
     "text": [
      "                                                               \r"
     ]
    },
    {
     "name": "stdout",
     "output_type": "stream",
     "text": [
      "[sgd] Эпоха 2/3 — валидация\n"
     ]
    },
    {
     "name": "stderr",
     "output_type": "stream",
     "text": [
      "                                                            \r"
     ]
    },
    {
     "name": "stdout",
     "output_type": "stream",
     "text": [
      "Train Loss: 0.8981 | Val Loss: 0.8604 | Perplexity: 2.36 | BLEU: 0.9969 | ROUGE: {'rouge1': 1.0, 'rouge2': 1.0, 'rougeL': 1.0}\n",
      "\n",
      "[sgd] Эпоха 3/3 — обучение\n"
     ]
    },
    {
     "name": "stderr",
     "output_type": "stream",
     "text": [
      "                                                               \r"
     ]
    },
    {
     "name": "stdout",
     "output_type": "stream",
     "text": [
      "[sgd] Эпоха 3/3 — валидация\n"
     ]
    },
    {
     "name": "stderr",
     "output_type": "stream",
     "text": [
      "                                                            \r"
     ]
    },
    {
     "name": "stdout",
     "output_type": "stream",
     "text": [
      "Train Loss: 0.8844 | Val Loss: 0.8528 | Perplexity: 2.35 | BLEU: 0.9969 | ROUGE: {'rouge1': 1.0, 'rouge2': 1.0, 'rougeL': 1.0}\n",
      "\n",
      " Модель 'sgd' сохранена в: saved_models/sgd\n",
      "\n",
      "[rmsprop] Эпоха 1/3 — обучение\n"
     ]
    },
    {
     "name": "stderr",
     "output_type": "stream",
     "text": [
      "                                                               \r"
     ]
    },
    {
     "name": "stdout",
     "output_type": "stream",
     "text": [
      "[rmsprop] Эпоха 1/3 — валидация\n"
     ]
    },
    {
     "name": "stderr",
     "output_type": "stream",
     "text": [
      "                                                            \r"
     ]
    },
    {
     "name": "stdout",
     "output_type": "stream",
     "text": [
      "Train Loss: 0.8565 | Val Loss: 0.7852 | Perplexity: 2.19 | BLEU: 0.9969 | ROUGE: {'rouge1': 1.0, 'rouge2': 1.0, 'rougeL': 1.0}\n",
      "\n",
      "[rmsprop] Эпоха 2/3 — обучение\n"
     ]
    },
    {
     "name": "stderr",
     "output_type": "stream",
     "text": [
      "                                                               \r"
     ]
    },
    {
     "name": "stdout",
     "output_type": "stream",
     "text": [
      "[rmsprop] Эпоха 2/3 — валидация\n"
     ]
    },
    {
     "name": "stderr",
     "output_type": "stream",
     "text": [
      "                                                            \r"
     ]
    },
    {
     "name": "stdout",
     "output_type": "stream",
     "text": [
      "Train Loss: 0.7245 | Val Loss: 0.7438 | Perplexity: 2.10 | BLEU: 0.9969 | ROUGE: {'rouge1': 1.0, 'rouge2': 1.0, 'rougeL': 1.0}\n",
      "\n",
      "[rmsprop] Эпоха 3/3 — обучение\n"
     ]
    },
    {
     "name": "stderr",
     "output_type": "stream",
     "text": [
      "                                                               \r"
     ]
    },
    {
     "name": "stdout",
     "output_type": "stream",
     "text": [
      "[rmsprop] Эпоха 3/3 — валидация\n"
     ]
    },
    {
     "name": "stderr",
     "output_type": "stream",
     "text": [
      "                                                            \r"
     ]
    },
    {
     "name": "stdout",
     "output_type": "stream",
     "text": [
      "Train Loss: 0.6211 | Val Loss: 0.7124 | Perplexity: 2.04 | BLEU: 0.9969 | ROUGE: {'rouge1': 1.0, 'rouge2': 1.0, 'rougeL': 1.0}\n",
      "\n",
      " Модель 'rmsprop' сохранена в: saved_models/rmsprop\n"
     ]
    }
   ],
   "source": [
    "device = torch.device(\"cuda\" if torch.cuda.is_available() else \"cpu\")\n",
    "run_experiments(train_loader, val_loader, tokenizer, device, num_epochs=3)"
   ]
  },
  {
   "cell_type": "markdown",
   "metadata": {},
   "source": [
    "Для наглядности сравним метрики моделей на графике и в табличном виде"
   ]
  },
  {
   "cell_type": "code",
   "execution_count": null,
   "metadata": {},
   "outputs": [
    {
     "data": {
      "image/png": "[encoded data removed]",
      "text/plain": [
       "<Figure size 1200x600 with 1 Axes>"
      ]
     },
     "metadata": {},
     "output_type": "display_data"
    }
   ],
   "source": [
    "def plot_perplexity():\n",
    "    experiments = {}\n",
    "    with open(LOG_FILE, \"r\") as f:\n",
    "        for line in f:\n",
    "            log = json.loads(line)\n",
    "            exp = log[\"experiment\"]\n",
    "            if exp not in experiments:\n",
    "                experiments[exp] = []\n",
    "            experiments[exp].append(log[\"perplexity\"])\n",
    "\n",
    "    plt.figure(figsize=(12, 6))\n",
    "    for name, perplexities in experiments.items():\n",
    "        plt.plot(range(1, len(perplexities)+1), perplexities, label=name)\n",
    "    plt.xlabel(\"Эпоха\")\n",
    "    plt.ylabel(\"Perplexity\")\n",
    "    plt.title(\"Perplexity на валидации\")\n",
    "    plt.legend()\n",
    "    plt.grid(True)\n",
    "    plt.show()\n",
    "\n",
    "plot_perplexity()"
   ]
  },
  {
   "cell_type": "code",
   "execution_count": null,
   "metadata": {},
   "outputs": [
    {
     "name": "stdout",
     "output_type": "stream",
     "text": [
      "\n",
      "Результаты по экспериментам:\n",
      "experiment  val_loss  perplexity     bleu  rouge1  rouge2  rougeL\n",
      "      adam  0.770370    2.161181 0.995849     1.0     1.0     1.0\n",
      "adam_sched  0.787309    2.197620 0.996858     1.0     1.0     1.0\n",
      "   rmsprop  0.747144    2.111902 0.996858     1.0     1.0     1.0\n",
      "       sgd  0.862895    2.370117 0.996858     1.0     1.0     1.0\n"
     ]
    }
   ],
   "source": [
    "def print_experiment_summary():\n",
    "    records = []\n",
    "    with open(LOG_FILE, \"r\") as f:\n",
    "        for line in f:\n",
    "            log = json.loads(line)\n",
    "            records.append(log)\n",
    "\n",
    "    df = pd.DataFrame(records)\n",
    "    summary = df.groupby(\"experiment\")[[\"val_loss\", \"perplexity\", \"bleu\", \"rouge1\", \"rouge2\", \"rougeL\"]].mean().reset_index()\n",
    "    print(\"\\nРезультаты по экспериментам:\")\n",
    "    print(summary.to_string(index=False))\n",
    "\n",
    "print_experiment_summary()"
   ]
  },
  {
   "cell_type": "markdown",
   "metadata": {},
   "source": [
    "Таким образом, можно сделать вывод, что лучшие результаты по метрике perplexity показала модель, для которой использовался оптимизатор rmsprop. Кроме того для этой модели самый низкий лосс на валидации, что свидетельствует о хорошем результате. "
   ]
  },
  {
   "cell_type": "markdown",
   "metadata": {},
   "source": [
    "Далее проведем ручную проверку: дадим модели контекст и посмотрим на сгенерированный ответ"
   ]
  },
  {
   "cell_type": "code",
   "execution_count": null,
   "metadata": {},
   "outputs": [
    {
     "name": "stdout",
     "output_type": "stream",
     "text": [
      "\n",
      "[1] Вопрос: hello\n",
      "Ответ модели: i don't know what you're talking about.\n",
      "\n",
      "[2] Вопрос: how do you do?\n",
      "Ответ модели: how do you do?\n",
      "\n",
      "[3] Вопрос: what is that\n",
      "Ответ модели: what's the matter with you?\n"
     ]
    }
   ],
   "source": [
    "from transformers import GPT2LMHeadModel, GPT2Tokenizer\n",
    "\n",
    "model_path = \"./saved_models/rmsprop\"\n",
    "model = GPT2LMHeadModel.from_pretrained(model_path)\n",
    "tokenizer = GPT2Tokenizer.from_pretrained(model_path)\n",
    "\n",
    "def generate_responses(model, tokenizer, prompts, device, max_length=50):\n",
    "    model.eval()\n",
    "    model.to(device)\n",
    "    responses = []\n",
    "\n",
    "    with torch.no_grad():\n",
    "        for prompt in prompts:\n",
    "            # Добавляем [SEP] вручную, чтобы имитировать формат обучения\n",
    "            input_text = prompt.strip() + \" [SEP]\"\n",
    "            inputs = tokenizer.encode(input_text, return_tensors='pt').to(device)\n",
    "\n",
    "            outputs = model.generate(\n",
    "                inputs,\n",
    "                max_length=max_length,\n",
    "                num_beams=5,\n",
    "                early_stopping=True,\n",
    "                pad_token_id=tokenizer.eos_token_id\n",
    "            )\n",
    "            decoded = tokenizer.decode(outputs[0], skip_special_tokens=True)\n",
    "\n",
    "            # Извлекаем только часть после [SEP]\n",
    "            if \"[SEP]\" in decoded:\n",
    "                decoded = decoded.split(\"[SEP]\", 1)[-1].strip()\n",
    "\n",
    "            responses.append((prompt, decoded))\n",
    "    return responses\n",
    "\n",
    "\n",
    "sample_prompts = [\n",
    "    \"hello\",\n",
    "    \"how do you do?\",\n",
    "    \"what is that\",\n",
    "]\n",
    "\n",
    "generated = generate_responses(model, tokenizer, sample_prompts, device)\n",
    "\n",
    "for i, (inp, out) in enumerate(generated):\n",
    "    print(f\"\\n[{i+1}] Вопрос: {inp}\")\n",
    "    print(f\"Ответ модели: {out}\")"
   ]
  },
  {
   "cell_type": "markdown",
   "metadata": {},
   "source": [
    "На самом-то деле не совсем понятно, как модель генерирует ответ, так как в некоторых случаях она дает ответы, не совсем соотносящиеся с вопросом. Попробуем запустить интерактивное тестирование в формате чат-бота"
   ]
  },
  {
   "cell_type": "code",
   "execution_count": 8,
   "metadata": {},
   "outputs": [
    {
     "data": {
      "text/plain": [
       "GPT2LMHeadModel(\n",
       "  (transformer): GPT2Model(\n",
       "    (wte): Embedding(50257, 768)\n",
       "    (wpe): Embedding(1024, 768)\n",
       "    (drop): Dropout(p=0.1, inplace=False)\n",
       "    (h): ModuleList(\n",
       "      (0-11): 12 x GPT2Block(\n",
       "        (ln_1): LayerNorm((768,), eps=1e-05, elementwise_affine=True)\n",
       "        (attn): GPT2Attention(\n",
       "          (c_attn): Conv1D(nf=2304, nx=768)\n",
       "          (c_proj): Conv1D(nf=768, nx=768)\n",
       "          (attn_dropout): Dropout(p=0.1, inplace=False)\n",
       "          (resid_dropout): Dropout(p=0.1, inplace=False)\n",
       "        )\n",
       "        (ln_2): LayerNorm((768,), eps=1e-05, elementwise_affine=True)\n",
       "        (mlp): GPT2MLP(\n",
       "          (c_fc): Conv1D(nf=3072, nx=768)\n",
       "          (c_proj): Conv1D(nf=768, nx=3072)\n",
       "          (act): NewGELUActivation()\n",
       "          (dropout): Dropout(p=0.1, inplace=False)\n",
       "        )\n",
       "      )\n",
       "    )\n",
       "    (ln_f): LayerNorm((768,), eps=1e-05, elementwise_affine=True)\n",
       "  )\n",
       "  (lm_head): Linear(in_features=768, out_features=50257, bias=False)\n",
       ")"
      ]
     },
     "execution_count": 8,
     "metadata": {},
     "output_type": "execute_result"
    }
   ],
   "source": [
    "model_path = \"./saved_models/rmsprop\"\n",
    "tokenizer = GPT2Tokenizer.from_pretrained(model_path)\n",
    "model = GPT2LMHeadModel.from_pretrained(model_path)\n",
    "\n",
    "tokenizer.pad_token = tokenizer.eos_token\n",
    "model.config.pad_token_id = tokenizer.eos_token_id\n",
    "\n",
    "device = torch.device(\"cuda\" if torch.cuda.is_available() else \"cpu\")\n",
    "model.to(device)\n",
    "model.eval()"
   ]
  },
  {
   "cell_type": "code",
   "execution_count": 9,
   "metadata": {},
   "outputs": [
    {
     "name": "stdout",
     "output_type": "stream",
     "text": [
      "Добро пожаловать в чат! Введите ваш запрос или 'exit' для выхода.\n"
     ]
    },
    {
     "name": "stderr",
     "output_type": "stream",
     "text": [
      "The attention mask is not set and cannot be inferred from input because pad token is same as eos token. As a consequence, you may observe unexpected behavior. Please pass your input's `attention_mask` to obtain reliable results.\n"
     ]
    },
    {
     "name": "stdout",
     "output_type": "stream",
     "text": [
      "Ваш запрос: hello\n",
      "Ответ модели: good morning, john. your father...\n",
      "\n",
      "Ваш запрос: how are you?\n",
      "Ответ модели: i'm not getting any younger, am i, ted?\n",
      "\n",
      "Ваш запрос: how do you do?\n",
      "Ответ модели: i do!\n",
      "\n",
      "Чат завершен. До свидания!\n"
     ]
    }
   ],
   "source": [
    "print(\"Добро пожаловать в чат! Введите ваш запрос или 'exit' для выхода.\")\n",
    "\n",
    "while True:\n",
    "    try:\n",
    "        user_input = input(\"Введите ваш запрос: \")\n",
    "        if user_input.lower() in [\"exit\", \"quit\"]:\n",
    "            print(\"Чат завершен. До свидания!\")\n",
    "            break\n",
    "\n",
    "        input_text = user_input.strip() + \" [SEP]\"\n",
    "        inputs = tokenizer.encode(input_text, return_tensors='pt').to(device)\n",
    "\n",
    "        outputs = model.generate(\n",
    "            inputs,\n",
    "            max_length=50,\n",
    "            do_sample=True,\n",
    "            top_k=50,\n",
    "            top_p=0.95,\n",
    "            temperature=0.9,\n",
    "            pad_token_id=tokenizer.eos_token_id\n",
    "        )\n",
    "\n",
    "        decoded = tokenizer.decode(outputs[0], skip_special_tokens=True)\n",
    "        if \"[SEP]\" in decoded:\n",
    "            response = decoded.split(\"[SEP]\", 1)[-1].strip()\n",
    "        else:\n",
    "            response = decoded.strip()\n",
    "\n",
    "        print(f\"Ваш запрос: {user_input}\")\n",
    "        print(f\"Ответ модели: {response}\\n\")\n",
    "\n",
    "    except Exception as e:\n",
    "        print(\"Произошла ошибка:\", str(e))\n",
    "        print(\"Попробуйте еще раз\")"
   ]
  },
  {
   "cell_type": "markdown",
   "metadata": {},
   "source": [
    "### Улучшеная версия"
   ]
  },
  {
   "cell_type": "markdown",
   "metadata": {},
   "source": [
    "Для улучшения модели было решено попробовать увеличить объем данных, на которых происходит обучение и немного изменить концепт самой модели. Для дальнейшего улучшения была выбрана модель с оптимизатором rmsprop, так как именно она показала лучшие результаты на предыдущем этапе"
   ]
  },
  {
   "cell_type": "code",
   "execution_count": null,
   "metadata": {},
   "outputs": [
    {
     "name": "stderr",
     "output_type": "stream",
     "text": [
      "C:\\Users\\Таня\\AppData\\Local\\Temp\\ipykernel_15052\\3923590567.py:3: DeprecationWarning: DataFrameGroupBy.apply operated on the grouping columns. This behavior is deprecated, and in a future version of pandas the grouping columns will be excluded from the operation. Either pass `include_groups=False` to exclude the groupings or explicitly select the grouping columns after groupby to silence this warning.\n",
      "  df_sample = df.groupby('movie_id', group_keys=False).apply(lambda x: x.sample(frac=101000/len(df), random_state=42) if len(x) > 0 else x)\n"
     ]
    }
   ],
   "source": [
    "df_sample = df.groupby('movie_id', group_keys=False).apply(lambda x: x.sample(frac=101000/len(df), random_state=42) if len(x) > 0 else x)\n",
    "dialogues = []\n",
    "\n",
    "for movie_id in df_sample['movie_id'].unique():\n",
    "    movie_df = df_sample[df_sample['movie_id'] == movie_id].sort_values('line_id')\n",
    "    for i in range(len(movie_df) - 1):\n",
    "        context = movie_df.iloc[i]['text']\n",
    "        response = movie_df.iloc[i + 1]['text']\n",
    "        dialogues.append({\n",
    "            'movie_id': movie_id,\n",
    "            'context': context,\n",
    "            'response': response\n",
    "        })\n",
    "\n",
    "dialogues_df = pd.DataFrame(dialogues)"
   ]
  },
  {
   "cell_type": "code",
   "execution_count": 14,
   "metadata": {},
   "outputs": [
    {
     "name": "stdout",
     "output_type": "stream",
     "text": [
      "<class 'pandas.core.frame.DataFrame'>\n",
      "RangeIndex: 100372 entries, 0 to 100371\n",
      "Data columns (total 3 columns):\n",
      " #   Column    Non-Null Count   Dtype \n",
      "---  ------    --------------   ----- \n",
      " 0   movie_id  100372 non-null  object\n",
      " 1   context   100372 non-null  object\n",
      " 2   response  100372 non-null  object\n",
      "dtypes: object(3)\n",
      "memory usage: 2.3+ MB\n"
     ]
    }
   ],
   "source": [
    "dialogues_df.info()"
   ]
  },
  {
   "cell_type": "code",
   "execution_count": null,
   "metadata": {},
   "outputs": [
    {
     "name": "stderr",
     "output_type": "stream",
     "text": [
      "C:\\Users\\Таня\\AppData\\Local\\Packages\\PythonSoftwareFoundation.Python.3.11_qbz5n2kfra8p0\\LocalCache\\local-packages\\Python311\\site-packages\\tqdm\\auto.py:21: TqdmWarning: IProgress not found. Please update jupyter and ipywidgets. See https://ipywidgets.readthedocs.io/en/stable/user_install.html\n",
      "  from .autonotebook import tqdm as notebook_tqdm\n"
     ]
    }
   ],
   "source": [
    "import pandas as pd\n",
    "import numpy as np\n",
    "import re\n",
    "from sklearn.model_selection import train_test_split\n",
    "from transformers import GPT2Tokenizer\n",
    "from torch.utils.data import DataLoader, TensorDataset\n",
    "import torch\n",
    "\n",
    "def clean_text(text):\n",
    "    text = text.lower()\n",
    "    text = re.sub(r'\\s+', ' ', text).strip()\n",
    "    return text\n",
    "\n",
    "dialogues_df['context'] = dialogues_df['context'].apply(clean_text)\n",
    "dialogues_df['response'] = dialogues_df['response'].apply(clean_text)\n",
    "\n",
    "movie_counts = dialogues_df['movie_id'].value_counts()\n",
    "valid_movies = movie_counts[movie_counts >= 2].index\n",
    "filtered_dialogues_df = dialogues_df[dialogues_df['movie_id'].isin(valid_movies)]\n",
    "\n",
    "train_df, temp_df = train_test_split(filtered_dialogues_df, test_size=0.3, random_state=42, stratify=filtered_dialogues_df['movie_id'])\n",
    "temp_movie_counts = temp_df['movie_id'].value_counts()\n",
    "valid_temp_movies = temp_movie_counts[temp_movie_counts >= 2].index\n",
    "filtered_temp_df = temp_df[temp_df['movie_id'].isin(valid_temp_movies)]\n",
    "val_df, test_df = train_test_split(filtered_temp_df, test_size=0.5, random_state=42, stratify=filtered_temp_df['movie_id'])\n",
    "\n",
    "def get_input_and_label(row):\n",
    "    input_text = f\"User: {row['context']}\\nBot:\"\n",
    "    label_text = f\" {row['response']}\"\n",
    "    return input_text, label_text\n",
    "\n",
    "train_inputs, train_labels = zip(*[get_input_and_label(row) for _, row in train_df.iterrows()])\n",
    "val_inputs, val_labels = zip(*[get_input_and_label(row) for _, row in val_df.iterrows()])\n",
    "test_inputs, test_labels = zip(*[get_input_and_label(row) for _, row in test_df.iterrows()])\n",
    "\n",
    "tokenizer = GPT2Tokenizer.from_pretrained('gpt2')\n",
    "tokenizer.pad_token = tokenizer.eos_token\n",
    "tokenizer.padding_side = 'left' \n",
    "\n",
    "def tokenize_inputs_and_labels(inputs, labels):\n",
    "    input_encodings = tokenizer(list(inputs), return_tensors='pt', padding='max_length', truncation=True, max_length=128)\n",
    "    label_encodings = tokenizer(list(labels), return_tensors='pt', padding='max_length', truncation=True, max_length=128)\n",
    "\n",
    "    labels = label_encodings['input_ids']\n",
    "    labels[labels == tokenizer.pad_token_id] = -100\n",
    "\n",
    "    return input_encodings['input_ids'], input_encodings['attention_mask'], labels\n",
    "\n",
    "train_input_ids, train_masks, train_labels = tokenize_inputs_and_labels(train_inputs, train_labels)\n",
    "val_input_ids, val_masks, val_labels = tokenize_inputs_and_labels(val_inputs, val_labels)\n",
    "test_input_ids, test_masks, test_labels = tokenize_inputs_and_labels(test_inputs, test_labels)\n",
    "\n",
    "train_dataset = TensorDataset(train_input_ids, train_labels, train_masks)\n",
    "val_dataset = TensorDataset(val_input_ids, val_labels, val_masks)\n",
    "test_dataset = TensorDataset(test_input_ids, test_labels, test_masks)\n",
    "\n",
    "batch_size = 8\n",
    "train_loader = DataLoader(train_dataset, batch_size=batch_size, shuffle=True)\n",
    "val_loader = DataLoader(val_dataset, batch_size=batch_size)\n",
    "test_loader = DataLoader(test_dataset, batch_size=batch_size)\n"
   ]
  },
  {
   "cell_type": "code",
   "execution_count": null,
   "metadata": {},
   "outputs": [],
   "source": [
    "from nltk.translate.bleu_score import sentence_bleu, SmoothingFunction\n",
    "from rouge_score import rouge_scorer\n",
    "import json\n",
    "import math\n",
    "import torch\n",
    "from tqdm import tqdm\n",
    "from transformers import GPT2LMHeadModel\n",
    "import torch.optim as optim\n",
    "\n",
    "device = torch.device(\"cuda\" if torch.cuda.is_available() else \"cpu\")\n",
    "\n",
    "model = GPT2LMHeadModel.from_pretrained('gpt2')\n",
    "model.resize_token_embeddings(len(tokenizer))\n",
    "model.to(device)\n",
    "model.train()\n",
    "\n",
    "optimizer = optim.RMSprop(model.parameters(), lr=1e-4)\n",
    "\n",
    "def calculate_bleu(reference_texts, generated_texts):\n",
    "    smooth_fn = SmoothingFunction().method1\n",
    "    scores = [\n",
    "        sentence_bleu([ref.split()], gen.split(), smoothing_function=smooth_fn)\n",
    "        for ref, gen in zip(reference_texts, generated_texts)\n",
    "    ]\n",
    "    return sum(scores) / len(scores)\n",
    "\n",
    "def calculate_rouge(reference_texts, generated_texts):\n",
    "    scorer = rouge_scorer.RougeScorer(['rouge1', 'rouge2', 'rougeL'], use_stemmer=True)\n",
    "    scores = [scorer.score(gen, ref) for ref, gen in zip(generated_texts, reference_texts)]\n",
    "    avg_scores = {\n",
    "        'rouge1': sum(s['rouge1'].fmeasure for s in scores) / len(scores),\n",
    "        'rouge2': sum(s['rouge2'].fmeasure for s in scores) / len(scores),\n",
    "        'rougeL': sum(s['rougeL'].fmeasure for s in scores) / len(scores),\n",
    "    }\n",
    "    return avg_scores\n",
    "\n",
    "def calculate_perplexity(loss):\n",
    "    return math.exp(loss)\n",
    "\n",
    "def train_model(model, optimizer, num_epochs, train_loader, val_loader, device, tokenizer, eval_generation=False):\n",
    "    train_losses, val_losses, val_perplexities = [], [], []\n",
    "\n",
    "    for epoch in range(num_epochs):\n",
    "        model.train()\n",
    "        total_train_loss = 0\n",
    "\n",
    "        print(f\"\\nЭпоха {epoch + 1}/{num_epochs} — обучение\")\n",
    "        for input_ids, labels, attention_mask in tqdm(train_loader, desc=\"Тренировка\", leave=False):\n",
    "            input_ids = input_ids.to(device)\n",
    "            labels = labels.to(device)\n",
    "            attention_mask = attention_mask.to(device)\n",
    "\n",
    "            model.zero_grad()\n",
    "            outputs = model(input_ids=input_ids, labels=labels, attention_mask=attention_mask)\n",
    "            loss = outputs.loss\n",
    "            loss.backward()\n",
    "            optimizer.step()\n",
    "            total_train_loss += loss.item()\n",
    "\n",
    "        avg_train_loss = total_train_loss / len(train_loader)\n",
    "        train_losses.append(avg_train_loss)\n",
    "\n",
    "        model.eval()\n",
    "        total_val_loss = 0\n",
    "        val_refs = []\n",
    "        val_gens = []\n",
    "\n",
    "        print(f\"Эпоха {epoch + 1}/{num_epochs} — валидация\")\n",
    "        with torch.no_grad():\n",
    "            for input_ids, labels, attention_mask in tqdm(val_loader, desc=\"Валидация\", leave=False):\n",
    "                input_ids = input_ids.to(device)\n",
    "                labels = labels.to(device)\n",
    "                attention_mask = attention_mask.to(device)\n",
    "\n",
    "                outputs = model(input_ids=input_ids, labels=labels, attention_mask=attention_mask)\n",
    "                loss = outputs.loss\n",
    "                total_val_loss += loss.item()\n",
    "\n",
    "                if eval_generation:\n",
    "                    generated_ids = model.generate(\n",
    "                        input_ids=input_ids,\n",
    "                        attention_mask=attention_mask,\n",
    "                        max_new_tokens=50,\n",
    "                        do_sample=True,\n",
    "                        top_k=50,\n",
    "                        top_p=0.95,\n",
    "                        temperature=0.7,\n",
    "                        pad_token_id=tokenizer.eos_token_id\n",
    "                    )\n",
    "                    decoded_preds = tokenizer.batch_decode(generated_ids, skip_special_tokens=True)\n",
    "\n",
    "                    cleaned_labels = []\n",
    "                    for label_seq in labels:\n",
    "                        tokens = [token.item() for token in label_seq if token.item() != -100]\n",
    "                        text = tokenizer.decode(tokens, skip_special_tokens=True)\n",
    "                        cleaned_labels.append(text)\n",
    "\n",
    "                    val_gens.extend(decoded_preds)\n",
    "                    val_refs.extend(cleaned_labels)\n",
    "\n",
    "        avg_val_loss = total_val_loss / len(val_loader)\n",
    "        val_losses.append(avg_val_loss)\n",
    "        perplexity = calculate_perplexity(avg_val_loss)\n",
    "        val_perplexities.append(perplexity)\n",
    "\n",
    "        print(f\"Train Loss: {avg_train_loss:.4f} | Val Loss: {avg_val_loss:.4f} | Perplexity: {perplexity:.2f}\")\n",
    "\n",
    "        log_data = {\n",
    "            \"epoch\": epoch + 1,\n",
    "            \"train_loss\": avg_train_loss,\n",
    "            \"val_loss\": avg_val_loss,\n",
    "            \"perplexity\": perplexity\n",
    "        }\n",
    "\n",
    "        if eval_generation and val_gens:\n",
    "            bleu = calculate_bleu(val_refs, val_gens)\n",
    "            rouge = calculate_rouge(val_refs, val_gens)\n",
    "            log_data.update({\n",
    "                \"bleu\": bleu,\n",
    "                \"rouge1\": rouge['rouge1'],\n",
    "                \"rouge2\": rouge['rouge2'],\n",
    "                \"rougeL\": rouge['rougeL']\n",
    "            })\n",
    "\n",
    "            print(f\"BLEU: {bleu:.4f} | ROUGE-1: {rouge['rouge1']:.4f} | ROUGE-2: {rouge['rouge2']:.4f} | ROUGE-L: {rouge['rougeL']:.4f}\")\n",
    "\n",
    "        with open(\"metrics_log.json\", \"a\") as f:\n",
    "            json.dump(log_data, f)\n",
    "            f.write(\"\\n\")\n",
    "\n",
    "    model.save_pretrained(\"saved_model_1/rmsprop_update\")\n",
    "    tokenizer.save_pretrained(\"saved_model_1/rmsprop_update\")\n",
    "    print(\"\\nМодель сохранена в 'saved_model_1/rmsprop_update'\")\n",
    "\n",
    "    return train_losses, val_losses, val_perplexities"
   ]
  },
  {
   "cell_type": "code",
   "execution_count": 17,
   "metadata": {},
   "outputs": [
    {
     "name": "stdout",
     "output_type": "stream",
     "text": [
      "\n",
      "Эпоха 1/3 — обучение\n"
     ]
    },
    {
     "name": "stderr",
     "output_type": "stream",
     "text": [
      "Тренировка:   0%|          | 0/8783 [00:00<?, ?it/s]"
     ]
    },
    {
     "name": "stderr",
     "output_type": "stream",
     "text": [
      "                                                                 \r"
     ]
    },
    {
     "name": "stdout",
     "output_type": "stream",
     "text": [
      "Эпоха 1/3 — валидация\n"
     ]
    },
    {
     "name": "stderr",
     "output_type": "stream",
     "text": [
      "                                                              \r"
     ]
    },
    {
     "name": "stdout",
     "output_type": "stream",
     "text": [
      "Train Loss: 6.0508 | Val Loss: 6.0017 | Perplexity: 404.13\n",
      "BLEU: 0.0043 | ROUGE-1: 0.1006 | ROUGE-2: 0.0060 | ROUGE-L: 0.0784\n",
      "\n",
      "Эпоха 2/3 — обучение\n"
     ]
    },
    {
     "name": "stderr",
     "output_type": "stream",
     "text": [
      "                                                                 \r"
     ]
    },
    {
     "name": "stdout",
     "output_type": "stream",
     "text": [
      "Эпоха 2/3 — валидация\n"
     ]
    },
    {
     "name": "stderr",
     "output_type": "stream",
     "text": [
      "                                                              \r"
     ]
    },
    {
     "name": "stdout",
     "output_type": "stream",
     "text": [
      "Train Loss: 5.9961 | Val Loss: 5.9935 | Perplexity: 400.80\n",
      "BLEU: 0.0043 | ROUGE-1: 0.0997 | ROUGE-2: 0.0059 | ROUGE-L: 0.0778\n",
      "\n",
      "Эпоха 3/3 — обучение\n"
     ]
    },
    {
     "name": "stderr",
     "output_type": "stream",
     "text": [
      "                                                                 \r"
     ]
    },
    {
     "name": "stdout",
     "output_type": "stream",
     "text": [
      "Эпоха 3/3 — валидация\n"
     ]
    },
    {
     "name": "stderr",
     "output_type": "stream",
     "text": [
      "                                                              \r"
     ]
    },
    {
     "name": "stdout",
     "output_type": "stream",
     "text": [
      "Train Loss: 5.9807 | Val Loss: 6.0342 | Perplexity: 417.47\n",
      "BLEU: 0.0043 | ROUGE-1: 0.1007 | ROUGE-2: 0.0058 | ROUGE-L: 0.0780\n",
      "\n",
      "Модель сохранена в 'saved_model_1/rmsprop_update'\n"
     ]
    },
    {
     "data": {
      "text/plain": [
       "([6.050756381392194, 5.996117649351995, 5.9806634600988],\n",
       " [6.00173992482306, 5.9934508141751754, 6.034217603908462],\n",
       " [404.13134027692746, 400.7952964009316, 417.4720533257188])"
      ]
     },
     "execution_count": 17,
     "metadata": {},
     "output_type": "execute_result"
    }
   ],
   "source": [
    "train_model(model, optimizer, num_epochs=3, train_loader=train_loader, val_loader=val_loader, device=device, tokenizer=tokenizer, eval_generation=True)"
   ]
  },
  {
   "cell_type": "markdown",
   "metadata": {},
   "source": [
    "Как итог - получилось очень большое значение Perplexity. Можно сделать предположение, что либо на предыдущем этапе в настройке моделей была допущена ошибка, либо уже на этом этапе.\n",
    "\n",
    "Попробуем провести оценку работы модели"
   ]
  },
  {
   "cell_type": "code",
   "execution_count": 2,
   "metadata": {},
   "outputs": [],
   "source": [
    "# --- Оценка модели ---\n",
    "from nltk.translate.bleu_score import sentence_bleu, SmoothingFunction\n",
    "from rouge_score import rouge_scorer\n",
    "import json\n",
    "from tqdm import tqdm\n",
    "\n",
    "def calculate_bleu(reference_texts, generated_texts):\n",
    "    smooth_fn = SmoothingFunction().method1\n",
    "    scores = [sentence_bleu([ref.split()], gen.split(), smoothing_function=smooth_fn) for ref, gen in zip(reference_texts, generated_texts)]\n",
    "    return sum(scores) / len(scores)\n",
    "\n",
    "def calculate_rouge(reference_texts, generated_texts):\n",
    "    scorer = rouge_scorer.RougeScorer(['rouge1', 'rouge2', 'rougeL'], use_stemmer=True)\n",
    "    scores = [scorer.score(gen, ref) for ref, gen in zip(reference_texts, generated_texts)]\n",
    "    avg_scores = {\n",
    "        'rouge1': sum(s['rouge1'].fmeasure for s in scores) / len(scores),\n",
    "        'rouge2': sum(s['rouge2'].fmeasure for s in scores) / len(scores),\n",
    "        'rougeL': sum(s['rougeL'].fmeasure for s in scores) / len(scores)\n",
    "    }\n",
    "    return avg_scores\n",
    "\n",
    "def evaluate_model(model, test_loader, device, tokenizer):\n",
    "    model.eval()\n",
    "    all_gens = []\n",
    "    all_refs = []\n",
    "\n",
    "    with torch.no_grad():\n",
    "        for input_ids, references, attention_mask in tqdm(test_loader, desc=\"Тестирование\", leave=False):\n",
    "            input_ids = input_ids.to(device)\n",
    "            attention_mask = attention_mask.to(device)\n",
    "\n",
    "            # Генерация\n",
    "            generated_ids = model.generate(\n",
    "                input_ids=input_ids,\n",
    "                attention_mask=attention_mask,\n",
    "                max_new_tokens=50,\n",
    "                do_sample=True,\n",
    "                top_k=50,\n",
    "                top_p=0.95,\n",
    "                temperature=0.7,\n",
    "                pad_token_id=tokenizer.eos_token_id\n",
    "            )\n",
    "\n",
    "            # Декодирование генерации\n",
    "            generated = tokenizer.batch_decode(generated_ids, skip_special_tokens=True)\n",
    "\n",
    "            # Обработка и декодирование ссылок\n",
    "            cleaned_refs = []\n",
    "            for label_seq in references:\n",
    "                label_ids = [token.item() for token in label_seq if token.item() != -100]\n",
    "                if label_ids:\n",
    "                    text = tokenizer.decode(label_ids, skip_special_tokens=True)\n",
    "                    cleaned_refs.append(text)\n",
    "                else:\n",
    "                    cleaned_refs.append(\"\")  # Пустая строка для случаев, где всё -100\n",
    "\n",
    "            # Сбор результатов\n",
    "            all_gens.extend(generated)\n",
    "            all_refs.extend(cleaned_refs)\n",
    "\n",
    "    # Примеры\n",
    "    print(\"\\nПримеры генерации:\")\n",
    "    for i in range(min(5, len(all_gens))):\n",
    "        print(f\"[{i + 1}]\")\n",
    "        print(f\"Reference: {all_refs[i]}\")\n",
    "        print(f\"Generated: {all_gens[i]}\\n\")\n",
    "\n",
    "    # Метрики\n",
    "    bleu = calculate_bleu(all_refs, all_gens)\n",
    "    rouge = calculate_rouge(all_refs, all_gens)\n",
    "\n",
    "    metrics = {\n",
    "        \"bleu\": bleu,\n",
    "        \"rouge1\": rouge[\"rouge1\"],\n",
    "        \"rouge2\": rouge[\"rouge2\"],\n",
    "        \"rougeL\": rouge[\"rougeL\"]\n",
    "    }\n",
    "\n",
    "    with open(\"test_metrics.json\", \"w\") as f:\n",
    "        json.dump(metrics, f, indent=4)\n",
    "\n",
    "    print(\"\\nМетрики на тесте:\")\n",
    "    print(f\"BLEU: {bleu:.4f}\")\n",
    "    print(f\"ROUGE-1: {rouge['rouge1']:.4f}\")\n",
    "    print(f\"ROUGE-2: {rouge['rouge2']:.4f}\")\n",
    "    print(f\"ROUGE-L: {rouge['rougeL']:.4f}\")\n",
    "\n",
    "    return all_gens, metrics\n"
   ]
  },
  {
   "cell_type": "code",
   "execution_count": 20,
   "metadata": {},
   "outputs": [
    {
     "name": "stderr",
     "output_type": "stream",
     "text": [
      "                                                                 \r"
     ]
    },
    {
     "name": "stdout",
     "output_type": "stream",
     "text": [
      "\n",
      "Примеры генерации:\n",
      "[1]\n",
      "Reference:  -- burn it all.\n",
      "Generated: User: -- burn them.\n",
      "Bot: the -- and i. my's i -- can -- that i. is my. --'s the i the you. do. the i don you't the --.. you. the, i don a -- -- you i. i i you\n",
      "\n",
      "[2]\n",
      "Reference:  they hear you comin'. they won't bother you. just don't sneak up on 'em.\n",
      "Generated: User: are there snakes out here?\n",
      "Bot: the, they have the'm, are... the't your <,> au>> <uuu <> ofuu</ i, iuu <u <>>>>> <u>>>u <>\n",
      "\n",
      "[3]\n",
      "Reference:  you would tell me, joseph, wouldn't you?\n",
      "Generated: User: not even the slightest hint of something?\n",
      "Bot: a're and,... i in,?,,, the i you, to to my i was, you, the's.,.,. the the, you of was,, and, that,'m all't we and\n",
      "\n",
      "[4]\n",
      "Reference:  i feel sorry for him.\n",
      "Generated: User: why?\n",
      "Bot:, i have'm this. you have if i.. the. the's, don the to you. it that. to i i...'t't... just it i.'t you, it you.,,, if...'t't...\n",
      "\n",
      "[5]\n",
      "Reference:  ecru.\n",
      "Generated: User: that settles it. i'm never leaving.\n",
      "Bot: was. you don be to you i't i,. and a don, for what and a you what, the.,... it you... i don, not we of you. it. don you a, if you. i is but\n",
      "\n",
      "\n",
      "Метрики на тесте:\n",
      "BLEU: 0.0044\n",
      "ROUGE-1: 0.1014\n",
      "ROUGE-2: 0.0059\n",
      "ROUGE-L: 0.0790\n"
     ]
    },
    {
     "data": {
      "text/plain": [
       "([\"User: -- burn them.\\nBot: the -- and i. my's i -- can -- that i. is my. --'s the i the you. do. the i don you't the --.. you. the, i don a -- -- you i. i i you\",\n",
       "  \"User: are there snakes out here?\\nBot: the, they have the'm, are... the't your <,> au>> <uuu <> ofuu</ i, iuu <u <>>>>> <u>>>u <>\",\n",
       "  \"User: not even the slightest hint of something?\\nBot: a're and,... i in,?,,, the i you, to to my i was, you, the's.,.,. the the, you of was,, and, that,'m all't we and\",\n",
       "  \"User: why?\\nBot:, i have'm this. you have if i.. the. the's, don the to you. it that. to i i...'t't... just it i.'t you, it you.,,, if...'t't...\",\n",
       "  \"User: that settles it. i'm never leaving.\\nBot: was. you don be to you i't i,. and a don, for what and a you what, the.,... it you... i don, not we of you. it. don you a, if you. i is but\",\n",
       "  \"User: instead of screaming and getting nuts, you say, okay, i'm gonna make up my mind that i fall into a magic world where i can get something special, like a poem or song. they get all their art literature from dreams. just wake up and write it down. dream skills.\\nBot: are i the. you.,. i a, be i but,? i you.... and. the to,.'m,,.. your i,,.,, to that i,'t. i you you for\",\n",
       "  \"User: relax. there, that's better. let yourself slip into the role.\\nBot: your't i a,! of the, a! me! do you, you we i. my we! this. you. i, not i to. do have you you, i. to the to'm.. you,.,\",\n",
       "  \"User: nobody knows, pal. nobody gets the big picture... jason, tommy, cut it out!\\nBot:'s?'s, this'm! it't, i what i,, and- i know,'t it's i of't'm't, but.'ll't,, in't to't you.'m,. this you,, the to\",\n",
       "  \"User: just a man. goodnight pearl, sleep tight; and don't let the bedbugs bite.\\nBot:, i., a you oh all'll oh,..., but to the i. you of and the,,'t,, i we that., to,,.,, i you i!, you? i,,\",\n",
       "  \"User: you're way more philosophical than i could ever be.\\nBot: with to. you in. i of. you you the,. my you.. the for you be my all. don, all you i, be. that and for and't of and the you the i.,, the it i\",\n",
       "  \"User: you ' re looking at this from the wrong perspective. we're making a statement.\\nBot:, my that't. i i i. i't, you,., you i in,, the to you you. that,, i. my the, my's, a, not, the, i if you. a.?\",\n",
       "  \"User: steve and me, we use a saddle for a pillow and roll up in a tarp.\\nBot: a... of to,'s the i, it of of the a the,, a we,-! my, this don are the,,- it, the, we is, and, all, it my i in a,, the\",\n",
       "  \"User: oh hell yes.\\nBot: it to you if a. with., you, can. a. do this. you but know a, of is,'s for,., the the, what i, you. to.'t was,, the can i you,\",\n",
       "  \"User: i don't feel like doing an option paper on the rest of my life, jordan. maybe we should just let it happen.\\nBot:'re. that't we.,. this my and for the, your it. you, a to,,. for this...,, i i, don but you... you you i we. a i,? to\",\n",
       "  \"User: what hideous sin have you committed lately?\\nBot: we the? be're the you i you in i i if, but, he, you we as in you don what, i you in.,, i. i. a to the i and,'m it,, the be the,\",\n",
       "  \"User: somebody could have gotten hurt.\\nBot:, do i you the the you, if, it it the a. you, and't...'s the was,'s't.! for thatu,'t to don's that that we!. we you's> it></'re,\",\n",
       "  \"User: hi.\\nBot:,,'s, i your. the you, if, it i the this to. for.'t. know't's just a i i you i i't we's to'm., he. to, and'm have i you that it\",\n",
       "  \"User: sorry - didn't copy.\\nBot: of it this.,, i.'t you't the the, i. to don,. all to have - you i in me we. you.,'t... your,...'s i you, it't you i we?, the\",\n",
       "  \"User: what is he?\\nBot: what you is,,,, it i. all to.. all i. you,, you he i,,. can. you. to the., you. he'm., the to. to you you. me we me\",\n",
       "  \"User: hey, it's nearly nine already - we're gonna have to leave now if we're going to make that movie.\\nBot: i you to't you's all, i all of, to the,'re i,, a to.. don. i the're i, me.. you.'m you't have you. you't, but a to. to i\",\n",
       "  \"User: it's so terrible i can't tell you. oh, buddy, you don't know how it hurts to have a broken heart, what a terrible feeling it is, and i've had a broken heart so many times. men, i don't understand them, i can't figure them out and they break my heart, that's all. i can't find mr. right, buddy, i can't find him no matter how hard i look, all i find is a whole pile of mr. wrongs. but this is the worst ever because it wasn't his fault. it was my fault, oh yes to i to. a i,, you you've i can he, you i. of you of it to it. all not did, have'll to that for he was i?, you you don what't,. be can do a\",\n",
       "  \"User: he'll be there at 8:30.\\nBot:,, your.. to,. you i. the you. be i. of in.'t.,?,'t for't you a the in,. your is,, a you to is't,..,'s he's\",\n",
       "  \"User: sounds like tick's already celebrating.\\nBot: the i. the, a we and you,'s the., you i i's? the'm a,, and be,. i.,, but. was if you.? the if in's the. the-..-\",\n",
       "  \"User: well hello, sherm.\\nBot: i we,,'s no is're, of're,. is oh,, m? the't i're,, to., i., i me,.. don i. oh i, you i be you, and i't\",\n",
       "  \"User: i want a .32. revolver. and a palm gun. that .22 there.\\nBot: that you can.,, i . do. you., my i, of. i a. and . to ., to . . i, i don .'m that, but is a m and. we. a the.. i\",\n",
       "  \"User: sure. i'd like that.\\nBot: it this, if. to. this i? the it?'re. the. you. that. not and a've this, that, we the that,.,. my have't the to i but. for don if?,.\",\n",
       "  \"User: you are weak! i have seen it. the force is strong with him. he must be destroyed.\\nBot: the i i., do, the't you they a and. to you,,! of have to the, don they i have the and is, and, they my if the., to if i to't do. is't will\",\n",
       "  \"User: what use is my sword? i can't reach her!\\nBot: the't the can.!, i,,!, is, a. you,,'t will,! was this you, as, the,. i this, of that!! me you i i. to!....'m the\",\n",
       "  \"User: i got it. and i took pictures of the new church for you, too.\\nBot: you.? i,, we is to. you not.,,. a, he i my the all i't.. i,, you i. i?'re.'t you.,.'m your,, don have a,\",\n",
       "  \"User: you better get some fresh air.\\nBot:. it. i if the,'t i this to,. a you all,'re you the. don you can. so. i me i to,. know, have, it,,.,, -- i i, the. you\",\n",
       "  \"User: no!\\nBot:,,?-, you the i'm to i you and,, -- i you you you to! you that't't's, i. is. i -- of'm to you you! that my me if'm,'t't't you\",\n",
       "  'User: i am eternally in your debt.\\nBot: you the,? the. we in of be,. of-,,, be and, i,,, the have the?? be and, i, i?, a that i i. of i i it. a and the',\n",
       "  \"User: that's up to you.\\nBot: you, is he the. this you.'t, was i,. like to,.'s you i. i and., but i.,. don, -- this,'s but he i., not.'t to. i he\",\n",
       "  \"User: ...no...\\nBot:.'t you,'t what,,'t... for... <>u> to,,</ the</></uu <>,uu</,> the'tu</i,>>u>uuu <</ a\",\n",
       "  \"User: you drive a hard bargain, but i had a feeling you were my boy when i met you.\\nBot: you., to, you,'t., you have i it you this i. you that's i, is a you the your, you and't a that,... i a your, i i. a i? i was\",\n",
       "  \"User: what?\\nBot: don, i -- you,. to.'t. that i the you you i to i -- you, this don --,'t -- my in i, -- oh -- -- -- my i, you, don -- --,, it't --\",\n",
       "  \"User: i want someone to talk to ...\\nBot:'s know you i. the i a a what to we, we for don what what we, it's, it the they the <>>>>>></>u i>>>>>u> <>>>,\",\n",
       "  \"User: no more dentists, no more dentists...\\nBot: of i. that, not a... the the,., the your i a i my, have what are...'s not... the,,...'s i this't, and... your,,, and,'re, the, you.\",\n",
       "  \"User: i've seen you going by on your board, but i didn't realize -- you're so young... to be so...\\nBot: i, you a i i i you you a i, is a and a this!...'t, don the, i,. i this't me't and you, to, you i, i i you, i. the,, a\",\n",
       "  \"User: improvise, of course.\\nBot: the's'm the i. the i we'll the you. a, i,.'t to, i, what.'m i he -- you you a. the can'm of in you you be,, we you,,'t we be\",\n",
       "  \"User: this is a man whose secrets cause us to change our radar patterns in the pacific! he should've been prosecuted as a traitor!\\nBot:, he will! are, i our the't we, i your?'re for, we,.- the as the in the to you we are i the in? i! will are of't the a have for be it. and the\",\n",
       "  \"User: how come?\\nBot: it you. this -- you it the the.'s,.'t --'t the be we,. the in --,, the.. i have he, we know he i i this't to -- a and the you, --.,\",\n",
       "  \"User: this is a mammal, not a fish.\\nBot:,'s have to in the- i,..., you what's have to! you,,, of the to it you, is it to it of, is you we the're for to the it to, you. i to i,\",\n",
       "  \"User: this kid's ready but we won't know all the damage till we get in and see what's happened. what have you got?\\nBot: a,, i you don't't, i you and can. i, so me. i. the we. i we're it it it, the for i to all you, it.., i's'm're, i're i\",\n",
       "  \"User: harry, son. harry.\\nBot: the i the., what is.. i you he is don know.,'ll i.,'m you a is the's.,, he.? he i the't. you the i know no i,.'s a i i\",\n",
       "  \"User: oh, i know. she's so sweet, she's been so good to me...\\nBot: this, a't i.,. don her, know,, she you, you, i i. of i? you have i,, her you. to i., that., a, she she,, i't i i\",\n",
       "  \"User: what are you talkin' about? i said i wouldn't hurt her.\\nBot: a not, i this's i a i, i the to to., and that. the you the in. the i't. you you don know i,.'m' a,. don i. it you is. to.,\",\n",
       "  \"User: it's embarrassing, okay?\\nBot:,'s,., and the for. that, i, and, the'm you.'t i i what.'m, you't, a't is i,, but,,'m,. you't this'm., for. if\",\n",
       "  \"User: thank you. if i had that kind of support on a daily basis, i could definitely shape up by the turn of the century.\\nBot:'s to.,, you a.'s you to you. for'm is have. with you it of in. that, your. for not. that., all don, this the,.'m, i have, of this a,\",\n",
       "  \"User: you've seen the papers, you know what a big deal it's been here. american tourist murdered --\\nBot:, -- -- do i -- don, no., the to to, --. this.?, have, you, he you it't.. a,! --'t. a, to is. me't of your but.'s me\",\n",
       "  \"User: oh yeh? where'd you get this from eh out yer nostril?\\nBot:'m don.,? to's the don we,'t we,.'' what the i,, you, i,,, to you you a., i it. with, don that the it don, the i, you,\",\n",
       "  \"User: lydia, i will never forgive you for embarrassing me in front of my social inferiors. you help us with these ghosts or you'll be sorry.\\nBot:, the the the. this and! but. is we, i we of.,, don the. of. you i. you i,.. you,. i is of will,, you you a.. to. i.\",\n",
       "  \"User: no, of course, captain, i can understand your concern.\\nBot:,. the the,'s, and be. i.,- a to,. is.,,'re is to,, i of and the of,,?, to., be i as the, of.. with it and\",\n",
       "  \"User: c'mon ... you're exaggerating. the orders were to shoot him in the back.\\nBot:, i you we,,. that i you you don, i,, i you if for the to he the? in that we we the this, that if of you. i.,'s.,, you i it i, don\",\n",
       "  \"User: calm down, rose, let's calm down and discuss it ...\\nBot:, you a that i you. the oh,.,, i, i ..., i, you, you, a,,. you's this the to,'t, don't you you you't you i, me a it. to\",\n",
       "  \"User: hello, martin.\\nBot: my me you. all't're? to to i,. the.,, my. me i m a it oh. the i.'s this.. was to,. and.,,'t,,, and it, well but\",\n",
       "  \"User: just get in the car and keep your mouth shut.\\nBot:'t i you to. to're it. all a, we this i it a.,, the to?. the to and me,..,,. to to., have,., is not don.'t we to it\",\n",
       "  \"User: ted, you must remember what the doctor said, the first step on the road to sanity is admitting that you're sick. now take your electro-shock and you'll be back at the space center in no time. and by the way, ted, i'm leaving you for simon.\\nBot:. a. in i. the i, will. the,, you the.. i,,. the are to will,. the. a? the i the the.,., it i. to,. can're the,\",\n",
       "  \"User: it was the only thing i've ever asked him!\\nBot: i, i't i i the. you i. can.. you's't you! be,.. you, the a, i not you, the have a? the it,'t you! i you't a i the i it\",\n",
       "  \"User: huh. that was nice of me.\\nBot: you, to i. i, to,'t to, you to we to you the i,..'s.'s i the, you.'s you i i to i.. know, you i?, me,.,. i\",\n",
       "  \"User: missus...\\nBot:'t-,-. don't to you a's. the,, the and's, the,?, a. like,, it all not and is a,.,. not i,, you, she this,.. and\",\n",
       "  'User: no you are not. you\\'re sally nash. listen to me, you\\'re sally nash. you\\'re my best friend and i love you more than anyone, and you\\'re not going to move to london to have the offspring of a sexually ambivalent man-child. \"oh now i\\'m a novelist, oh now i\\'m a director...\" english prick bastard joe therrian who\\'s probably going to leave you for skye davidson anyway.\\nBot:, to,. i i in, have i\\'s you,. a i you i.. i i what the. like i\\'ve,, i...\\'t we i in,\\'t, you and you\\'ll to i. in to... in',\n",
       "  \"User: no.\\nBot:. to is a have's you to what...'re. i...,, this!, the, it but!. you you you,,, i,'t you do. my not's you... be... you i, it you me\",\n",
       "  \"User: why?\\nBot: and, the're.'s,,, you you? my?., you -- to,. i i me'll,, the't it the, to i. you? with't..'s the -- i're can a i.\",\n",
       "  \"User: what's the matter with my policy? how many losses has this bank taken in the last twenty-five years? i'll tell you. not a single one! what's wrong with that kind of banking?\\nBot: i,!'t. you we all to i,,?,,, this the, be're!... was. and,, the, the a i a's,.. to have my,, the the,,.,.\",\n",
       "  \"User: i thought you said we were going to the movies last night.\\nBot:'s that can that i it, but i you, to,'t're i're're you, is, the i. and,. and the.. i, i but.'s, i me i it! in,.. the,\",\n",
       "  \"User: you're about to become the anti-christ who is born unholy and becomes the door to eternal suffering in this world.\\nBot: it the, the to that,. i is, is all,.. and i it, the's are, will, they. i it your,, my i the in the. you, we and, to. the,.,\",\n",
       "  \"User: i got you a present.\\nBot:. and to, i, have and. don, i.,, to's. you you you. like what, i., you i., the the. to if it not have it the you? of a i the have,\",\n",
       "  \"User: what you saw wasn't lucy.\\nBot: i you. i.'s and don and you i,, you., you and i the don was a the is the i you the i,.'t. be. you don have. that i no is know you. know have don\",\n",
       "  \"User: yes, i'm sorry, captain. there's so much we have to talk about.\\nBot:, the the, i as's't, the., you i the, i, i if you i will the a,, that the to i i you you he the to it with it, it a. the is,, the the\",\n",
       "  \"User: let's leave the man in peace so he can get ready.\\nBot: of, to to not this, but you and, and i. we a. to, to to, i the,, he, the to?. i and, but is i.. the i to it..'s and, to\",\n",
       "  \"User: what are you talking about? you can't be serious.\\nBot: the you that't to,. you don of my i and, and're you the you to, you and. this, know you the,,. and of, the... have, you but and of, a it't've don i\",\n",
       "  \"User: she's here. she's just...hold on a second.\\nBot: to what a't've,'t i i't you... me the i... her of'm, i no...'re i,.,'m, you you,...'t we. my't she? you is, in you,...,'ve\",\n",
       "  \"User: anything.\\nBot: i the't he's i the'll can, this...,>, the>u <>u>> <>uu></u...> < <>> <u... was. to> i>u>>>u\",\n",
       "  \"User: daddy. nice isn't the word. nice is an insult. she's a peach. that's the only word for it, she's a peach. she even tastes like a peach. you can tell i'm in love with her. you can tell by my face, can't ya? it's a dead giveaway. it's written all over it. ya know what? she loves me back. take a seat, pop, we gotta talk -\\nBot: that know... the we we., you i,'t. i. i. i you.,, it me but,,,. the you'll get your... your i have you can you to i't you you don,. your\",\n",
       "  \"User: it was the poorest lemon ranch in california, i can tell you that. my father sold it before they found oil on it.\\nBot: you for we's if is i, and you,. to you. it.. you.. a, a. and. for't i.'re. i,. and., they. i i of.,, the,.\",\n",
       "  \"User: where?\\nBot: and's a., the, know to't i the for is the, me the a i the, that your's of't the it i a the to. can i is. i i. i's and? i i the...,\",\n",
       "  \"User: yes. i'd considered it.\\nBot: of i,. i don. you it your's't you. you to and. your you. you what. like i,.'re, i a, i this. i i the,. i, you have and of to. i\",\n",
       "  \"User: what?\\nBot:. you what. that for you it's a...,,.,'re i, it i it't't, and in the me it.'t you... and't is......'t me but i, and't to know i you my\",\n",
       "  \"User: eat cheerios.\\nBot: it you to- i. you to. i to,. that the this,'m, have a,,,..,, to. i so i i you you i. a.,.., i but this and't't\",\n",
       "  \"User: no, just coincidence. he knew who i was, of course. he had my id -- did he keep it?\\nBot: the,, you.! this --'s the? the your i you,'t? have we. i -- i. the to i you the.. -- the., this the the you, the you you.! i!.,\",\n",
       "  \"User: like an emergency life-raft, right?\\nBot:'s it the i. the.,., you,.? that.. my it the a to. a, you?. a they he in.'s're,. the my is i if. we. to and the my't\",\n",
       "  \"User: well, she never gave me none. look, you better find him a place pretty quick.\\nBot: you't i'm i and of.. we are the, you,! you. i i? i. it, in, we. the her the she, know't that i..! and, we i her not i. and\",\n",
       "  \"User: i got something serious to dis-cuss.\\nBot:'s, a and your're the me just., i... a-., you you to i i i me. a, to to,. i you don a i., i! are... i to,? you you want you\",\n",
       "  \"User: that's good.\\nBot:, we, to's the i, you. a is you, you in to if. you we. not to,. the, the. the.?,, i...'s. a the have to i,, i i,,\",\n",
       "  \"User: that's my good son: but where hast thou been\\nBot:., we! my i it.. it. the.,, a,, you you, a be, to the i,'s the,. your my is a is'm. i i he have i he as i i i,\",\n",
       "  \"User: it's been awhile. i'll take your word.\\nBot:'s a i. to this you don'll the'll you and and of.... the, of. to't.'t this... and a, you and's, and if this that your the the, is and,. you,. you\",\n",
       "  \"User: so i did! and what was so important about it?\\nBot: not me the? my you i!'m you,, you i, was,,'re.. in you, but'm! you know,'t.. me you't. you,,? like?,. of the i of i\",\n",
       "  \"User: that was a lifetime ago.\\nBot: you, it, do your you!'s my, -- my, it of. to's the that're you. to. i and your i for. --'s what, we it can,, i? and to,? the you a\",\n",
       "  \"User: well, good luck there, tracy\\nBot:, you?, you i. you,, that,, i to you i? this i a i the, of't all,. i. that'm, the, you can's.., but that. in a that of,\",\n",
       "  \"User: you couldn't?\\nBot: like have't's do of you the. the a i the,., of? i you,, i, the i to. this'm for,., it know if was,,.,. the,,? it it,\",\n",
       "  \"User: under the circumstances, i can't fathom what makes dr. argon think we are ready for anything bigger. if c.n.n., or hell, if the e.p.a. knew what was in my basement --\\nBot:, of this as that and. he, to. we to of, i. i is i to have.. i i in the,, i they. you to, the. and, --'s they don.. the., have\",\n",
       "  \"User: i have waited forever for this. you will not cheapen it, little boy.\\nBot:'s, you your don of a you, the, you, if the to't. it that the.'m, and, your i i,, are, it i'm to, and have. me the, to, my,, to\",\n",
       "  \"User: delivery!\\nBot: to you,'t,.!'s,, this if you you,, in -- with i that't you. in i, i and. and! of'll, -- --'re -- it,.. is, the,... you's\",\n",
       "  \"User: i mean it as a compliment. you've got such great taste, i don't know. most of the thugs at princeton had tasted everything and had no taste. used to say, the cream of america: rich and thick. freddie's the perfect example.\\nBot:, to the,, you., you i't your,?. are, can not i i as and that this. if. i,. i'm my you the. the the i i and if, i you,'t for you\",\n",
       "  \"User: how's that? can you hear me better now?\\nBot: you you i and and't's. you my to don but what,. the... have you it,..... was to that.., my to to., you what it to, you i, you't i you i,\",\n",
       "  \"User: i appreciate the confidence you show in me, but i must ask you to entrust someone else with this mission. i should hate to interrupt my present work. i am positive that my survey is more important than finding out whether three of our comrades have been drinking some extra glasses of champagne.\\nBot: me,, have i a is not will will,, we i be the i will. as and we,, not, i, our and this,,. i i, will,'s,, but. my the., i have\",\n",
       "  \"User: oh, no, you were-\\nBot:,'t have're are're i i.. i're of the,.'s this this have a for i i, for i,., i the, to, it of you and,,.... that of it but if this,\",\n",
       "  \"User: what?\\nBot: is the you's and not of a. a you my i'll,. all you i. the i,. my. i you't's. you, i... -- of the the's to't i, i was,, the a\",\n",
       "  \"User: a blank canvas! i could paint your portrait, directly on you. or maybe not. so, you? husbands? boyfriends? girlfriends? where do you live?\\nBot: and, but a of? to my you the i, to!! the the we can,, i they my.'t't're me?'t a.!'s you it me and be. you,. in was., i the\",\n",
       "  \"User: would i lie to you?\\nBot:. the i can do you, i. to and i is me i the in't to, that do you what it't be. that it. that it as and. we the, it me you, of,. your,,.\",\n",
       "  \"User: yessir. there's a report here from every state along the east coast. want to hear them?\\nBot:, to, the i the the. a,. this if,, i a, you --, to'm, you and't, the you, the -- and. have i, the., i, i -- of they the of,\",\n",
       "  \"User: open it.\\nBot: you in you to have you the and you, i the to.. to. is. you, i. i,'t are to i,, in. you. like to, i't that? of in. i,, for is\",\n",
       "  \"User: jerry--\\nBot:, just,, a is're.,i,'t the, do don the you! a'll,.'s,!, the,, to a all't andi --'t know!'t this you,, that,-- he.\",\n",
       "  \"User: great.\\nBot: do i you i. the me, the't.'s, a..?'m i the my i you don.? for you,. have,,, the this. of. to to,.. to a,.'s.\",\n",
       "  \"User: i'll make you another one.\\nBot:'s it, i you., i, and..? your you i,,, i me and, it i it.., to to. i i.'s i, the of i i if and,. that, don,\",\n",
       "  \"User: john!\\nBot:'m i in the. with to, i you you you you., was i's to. i --, you's -- a for's for, know you i it't,'t'll.. you a, don you the your.!\",\n",
       "  \"User: you speak english!\\nBot: a not,'s, my you,, it i the you're's the my, not, you.'s be, you of..? to,. the me. can are. i me, i i but i. but, to\",\n",
       "  \"User: oh!\\nBot:'ll.'s,,, you you the, the. that and., don it you't it for i my., in have't you've.'re can i you. and i you i to. all.'s i but not the\",\n",
       "  \"User: i beg your pardon?\\nBot: the the the, --, the! this't you to your that. it, do to to my! have i., i i. my, you and -- to and, that of you, have,,, but, will i,\",\n",
       "  \"User: i don't know. it's getting pretty late...\\nBot:'t don've, you i.,,! the i,, and to in? you'm,'t the'll in but, this's.. all the,'s to but to's, to my my i you the a if it,\",\n",
       "  \"User: dad's here.\\nBot: i. do you'll,!... it's i. it,.'re..., this,, i, have if,,'re you you!'s, this you. are i me! the i i. you, you., you\",\n",
       "  \"User: you think it's all right for you to stay here?\\nBot: me a the! with,, i to you you to that the,!, you!'s,,,'m a, to., you, have,, i! you. we you. i're the you this for, have,\",\n",
       "  \"User: much better now, thank you. just sit here quietly...see there's nothing to worry about...just be my old self again....soon...\\nBot: <u have't></>></>u to, thisu <...> <>uu>> <u</>u't the au>>>u a of au>>uu a i.</u\",\n",
       "  \"User: hector. the big one has no sense of humor. and since <u>he's</u> the one who decides whether you get to play, try not to be your obnoxious self.\\nBot:uuu>> <>u in,, <>u <u</u,uuu <>,u>>> < <u>></ i <>></>></</u < <</>u\",\n",
       "  \"User: what are you doing up so early?\\nBot:... i't's, don of, a is the,.? to the's this...'t my,, i i i. your't what and, of? you i... your,, the in, in, you, to\",\n",
       "  \"User: new york.\\nBot:,'re not he me. to. that?'t the a and. and., to to i...,. in in, to'm, you't i you a a and it, i i you.. it, the,. to\",\n",
       "  \"User: mrs. hinkle, did you ever receive obscene telephone calls?\\nBot: in have i you. it you are a. i i,.. i.?'s and i you., a and all you's. as if i, with that this have't,- and your if don a my m to i\",\n",
       "  \"User: come in!\\nBot:?' of i and i the,- you your the all the, is i i, the i all, the you,..,. this? a was, i's, you the the to'll know and i in i? we\",\n",
       "  \"User: sir, yes, sir!\\nBot: you is,'t. the... that me, a's, have, are to, don the the he and your...,, me,,!,?'t's... with, is to i, to, don. i, the,\",\n",
       "  \"User: can you stand something to eat?\\nBot: you you? a i not't., this i. a. i, in i't i,'m a. that me the're this? it i.'m.'re the a, i,'t a a in. all i i.\",\n",
       "  \"User: i really think i should try and locate it immediately. might be something important.\\nBot: the're.... what? my is. to is i to to but'm i. i that to to. you, this and, the you't you,,'s the., you me i i.. the are you the.,\",\n",
       "  \"User: that won't start no more fires. we might's well go home.\\nBot: they the you, you and, that i the don you a. was it this, the.. you i? the. for you'm you! do.,,. to! i a.'s i me we's i but..\",\n",
       "  \"User: it's - all over -\\nBot: - a,. do't this't- i -! you -,'re of! to oh and, to. you!!,,. that,,'t're you, all of. is me in but.'t. don my,\",\n",
       "  \"User: lila, what are you doing in there? i need to get ready for my date.\\nBot:, this you and be is?, this is, to the, and. we the the, in'm. a and's.,, to a a,, not i're,. to,.. was,, but'm, you\",\n",
       "  \"User: well -- such is life, flaemmchen.\\nBot: -- this -- oh. me? to's --. the you, i --,'re. you,,'s are, i i, this the i -- a, we i have, you that, m i that you is to,, --\",\n",
       "  \"User: or else he's working an angle. if he doesn't steal a little, he's steeling big.\\nBot:. to,. a. don., this the. we i if,. the he, he? is, and.?,. is the a, i,'m're he the the... of., and he i.\",\n",
       "  \"User: except i'm no good at what i'm being a success at.\\nBot:. do your? the'm i to a i're for., the're a i.. be can, for in can i. the it., you -- i to's -- a.. -- the is,'t but and,,\",\n",
       "  \"User: the main spire.\\nBot: the i, the't, the, the -- was that i,'m it and. to -- you to this i a -- and i?, the to don i,'re,,,, i that i but in.,,.,\",\n",
       "  \"User: boy...holly...holly.\\nBot: a't you the.... she...-, it'm the. a, this have the she, and of, i my't....'t,'t you i...'s,, you. you, don and, i but't a?\",\n",
       "  \"User: you tricked me.\\nBot: what is. the. i this't me. the's, the. my the it you. i. this,. i's. a. to. to. you and the, and the!!,,, i i --. and\",\n",
       "  \"User: look after that suit, eh. barbara chose it for me.\\nBot:, of, i the,, i my. a it? don,'s. i is,., that this this the,,'s. the,,, a a, the, a,.. and the're's you. for\",\n",
       "  \"User: it can be.\\nBot:. don is, that of a..'t all the a. have,'ll, it.,. the.. the i i, have to,, you. have and you. all you't we you this,,'t. do\",\n",
       "  \"User: no frank. no prints.\\nBot:,'t's my you it i.?'s you we he i i i i he.. the you't the i....'s know you he it...,,'m!,,., your. to the. of,\",\n",
       "  \"User: why not?\\nBot: i.,!'re i was the and it! was but you don!!... to're to. just have,! it, it and't you. you. it it you'll! so for my that't. my, to'm\",\n",
       "  \"User: oh. but ... look, i'm sorry i shouted at you.\\nBot: your't. the i no, i me you., the of, i?,,'s's,'s of don be you to're. i to, ...,,,,'m you, i a i't it.. to.\",\n",
       "  \"User: reggie, push off and hit, man. push him off.\\nBot:,..!, the in, you..!, it you i. of the,,'t,'m you,,, you of're?, my you't? a.,. don a it you, is to be,\",\n",
       "  \"User: did you tell anybody?\\nBot:'s what you.'s. my of. like all i you the my to you. me don, and you of a i't have't's and my and and, to i i this? you have. and's you.. all was\",\n",
       "  \"User: i have to go...\\nBot: in is what't to. i i if i't't're. the we i's i you a me you,'t.. a i i,,'t your you... me't't me the you, i. a was,, you\",\n",
       "  \"User: mind your own goddamn business... she comes in a lot?\\nBot:-,'t.... my the was,'s's't know you it't don's and'm i she you i the,, your,, i i no,?'s't. i was't a... i'm don, you the,\",\n",
       "  \"User: but i think these things are beautiful.\\nBot: to what your a. you, i i., i,...,.,! a i., it to of, we to i is i but i you,, i the the... have't, the you i't. you don\",\n",
       "  \"User: theresa.\\nBot:?,., the's.'s't he. i me. and't the a's is you, that to to to don, and,. you, for i a a't to,. this but and as. you,, i\",\n",
       "  \"User: god's victim. that's her innocence. she belongs to god.\\nBot:'t was in. a.. the i is. in, of,'s...'re of your,, the't you the what the know i,,. to.... of..., your to.'t i i,. you..\",\n",
       "  \"User: neat, yeah.\\nBot:. you. got. is'm't but, i'm't.. you a'm you got if know.. got you, you,'s i the it to i in my. the for and. that was the what it and i i\",\n",
       "  \"User: claudia what?\\nBot: and and they. of. a. the to i,,. i., the a's i. the the you the,,,. a you, the you the we's. this,'t that you,.,..,\",\n",
       "  \"User: i better keep looking.\\nBot:, i's not a of, to a're. is i. you, you.,. a you the, the i. i,,. you.. it.,.'re!'t i's, that,. but? me\",\n",
       "  \"User: and fish are very low in fat, which is energy inefficient. so you're going to burn up your own cells no matter how much you eat. luckily you ate the eyes and pancreas, which contain some vitamin c, so you didn't get scurvy.\\nBot:,, i. the of a...>>,></u <uuuu <>, the>uu>u i <> <>> < <u</>u></ i>>>u></>\",\n",
       "  \"User: he's going down.\\nBot:'s this,.. it... do? your i to i, is you, he i that i.., i i to you. for a, i't be i to.. that this i... know i in i to that.\",\n",
       "  \"User: don't be cross with him, ma. this don't happen every day.\\nBot:? you i you don.'re't have that with, we a,'s i to, the't.. your, you i i i, of..'re i, i. i we's you he a. can to to..\",\n",
       "  \"User: -- the bad news is there's a problem with gordon's truck what somebody drove through the ice last night. figured you'd know something about that, wade.\\nBot: in i, and. is -- the to i to,. i, just that, you you i -- have,, it to.. to., you. in -- and..,'m i i't,.'t. the i\",\n",
       "  \"User: what are you doin' here?\\nBot: have you i i and' the the. a you and't a't. you.,'re,. a.,. '',' a,, to? a's,. a the' just the.,?,. i\",\n",
       "  \"User: say it.\\nBot:? he the you to you you you the,... the it, the a. the, but and're you i you don have,.,,.'s to't, in, and the.,. i you to, and's.\",\n",
       "  \"User: i just need the entry about the blockbuster. wait, shit, no arms. i never even got the chance to write it.\\nBot: just's, of. to a're the? was in. just the it for i this, the., but the and he,,, was, if......... the and. have, have i i,. you i i...\",\n",
       "  \"User: kristen...\\nBot: it you -- the, you.! this,, you a to,'t,. --...... to you a.>u but iu <u>, <>u a>></>> <>>u <</>\",\n",
       "  \"User: crabs would get most of the newborns before they made it to the sea, huh?\\nBot: be. the'll. the if,,. all you a. a you of have that,,. the. i a but,,. to,,, to you. a. your, and i i the, i.'m,\",\n",
       "  \"User: aha, aha, aha, aha, aha, aha!! so, in order for the scheme to work, we'd have to find a sure fire flop.\\nBot:,. of, the. you you,., it have,'t you to you,,,, i. have., i be i is i, you, have the don i can i, the,. the my you, i\",\n",
       "  \"User: i'm sorry but ...\\nBot: ..., i,, you -- i.,, i but it. a., to it i i. a you i. you,'m's i! and.. a you, i?'m't, to., ... i a\",\n",
       "  \"User: i've asked him to try and locate the site. okay with you?\\nBot:. i. don't. is? you of you is the it we it you if that,,'t i. the is but'm i't.. be i's he if, my if,, that. and. to i..\",\n",
       "  \"User: either. both.\\nBot: a i'm to i i i, to. the. you what're. to have the for in. the, the can,, and you if,'s your you,.. the.,, to to,. to the me me\",\n",
       "  \"User: and i you.\\nBot: to't a a't that i for i it you,'ll a you. with you. of it you i., you're'm. you a of and't and this. the that i. all i we know for to,,,\",\n",
       "  \"User: thank you.\\nBot: you i to it to to to.'s be. all of i.'s. the we if't you i you, to? a not to i, you in.'t your it of we you i he. my.'s, i.\",\n",
       "  \"User: thank god he was born an orphan. it would have killed his parents.\\nBot:,. me he a, a you. the that.'re're. i., of to i a., the,.. a. the. a and this?., be the your, to the don i, they i they\",\n",
       "  \"User: feel bad about ol' fred. just can't hold back when i'm feelin' woolly. still, feel kinda bad. but now we're square. anyway no use for holdin' a grudge. i deserved a rap in the head.\\nBot: in i, a, and't?,. it. you's?,. it and,'t.,, he, a you, don'''s's, the i i, but you, you. i, and you.,\",\n",
       "  \"User: miss swann, if you'll be so kind?\\nBot: she't, i she. that she you,'s i i? to she in the,.. have not, to she have..,, and,, i but,, i the to,.. you and i me,,\",\n",
       "  \"User: yeah.\\nBot: you, your i.., this, don but. i we,'s i can this's'm're't. i's i.. the i to. in the have you that and i to. your. don i. i,...\",\n",
       "  \"User: yeah.\\nBot: you, this i i but, it a just a. to and.,.'re you i i, i. that. have,,, my can if you a, but a me you the you...,?'s?, it that\",\n",
       "  \"User: men!\\nBot: to, i your you for this it it't a but what,.,! me, you. it i the i, you't i i i you the,, a. i you the the's is..'s and you. we\",\n",
       "  \"User: i swear to god, that was not here two days ago...\\nBot:.,. a,,, the to, are a the, and,, this a, a,, and't a.'t this you but,,... a i, my..'t. you i,,'ve's, me\",\n",
       "  \"User: because you're nuts.\\nBot: to if the you're me're i't. your,'t i we all you it. in you't i...'s you't've i, we your a,,, don,>uu</ the</>>>u</'t\",\n",
       "  \"User: ... we, we love her, dick and me ...\\nBot: and,.,'t, a i to the is. to and, i, and. have i you you's, she oh. i'm,, this., don, it her, don, i,.'s's,,,\",\n",
       "  \"User: and what was your answer?\\nBot: to't, i,?'t do you you,, we,.. you, know that the, and have don,, i not was. but i a.,'t do,. the a i., to i my you,\",\n",
       "  \"User: wish me luck!\\nBot:, i? don and, you, for what you,,!'s to. i? of, to you're i,, to to, that i.! a. i., the you to that i, that. if, you\",\n",
       "  \"User: but he's been so patient with me, tatum. you know, with all the sex stuff. how many guys would put up with a girlfriend who's sexually anorexic?\\nBot: your you. of, you't to and she, have you..,.'t....,.'s.,, don a're you you't. i the i and., you you i i you you, you to\",\n",
       "  \"User: would you like to see my passport?\\nBot: be i. the'm... this,, to for'm, it have you, what me have you is i. in i you i you...,. you.'s. the,,'ve i you no that you,. to you my\",\n",
       "  \"User: that's our plan.\\nBot:., you.,>>>>>uu <>> <u> <></ <</>>>> <>>>>>></>> < <</>u <uuuu,u</\",\n",
       "  \"User: ...uh ... no, that's...\\nBot: -- you't ....'re i, you, no,'m, the'm it and it to, you i but ...'s it me,'s know me,, the you i a ......, this a i my to -- to,,\",\n",
       "  \"User: i noticed you were giving me the silent treatment at lunch. i guess i deserved it. i've been thinking about my three year plan and i think it's unworkable. i must have been delirious.\\nBot: i...'m. of. your you,'t..,,,?,, a? that, i the i, to have me i i, of't be,,,,.,, i. my the, that be i\",\n",
       "  \"User: tonight let's not represent anybody but ourselves.\\nBot:. that i. the you i. and.'t, you to of the you that't this, don that, you the i,. i i that,. and have for i. have i i i i a are will, that is\",\n",
       "  \"User: what is it?\\nBot: we and just, the you! it i the your was't?,'t it're! for?, my you,, i, i, i i.,? i,.,,'s't this i i can know i... you\",\n",
       "  \"User: romeo and ethel the pirate's daughter. yes, i know.\\nBot:., of they they, the i.'t it can,. of..- the the a,,..? the. a'm., is that the., but i., i you?.,. you, the\",\n",
       "  \"User: it's all bullshit. jesus is out of communication in fals de iguazu. josé knows that... whatever he's going to do, he has to do it fast because he's acting on his own. and he will need a story.\\nBot: it.. they's but. they the, of the,'s and to you to. the.,,. this.'t?'s,. if you your,,? and he. the's you,,'t. the you.\",\n",
       "  \"User: shut up. let me see your grenades.\\nBot: and,,,.'s you.',., and't the's is't and of's you, if the,, you to. me. the and,, and,. with,. but to's you.'t i we\",\n",
       "  \"User: i don't understand them either. do you suppose i was dropped on my head?\\nBot: you i the. was to. be's've. and i if a? you you was you,... the, know you you,,. you i?, not, have it the, you't, is the my to the, the\",\n",
       "  \"User: i'm not boffing matthew !\\nBot: don the, to,. oh, i.,. is m. oh.,.,, in're.'re i'm've, i,, your you,. to,,, it! the,. and it, a's\",\n",
       "  \"User: i read her postings on the horror movie chat boards and fell hopelessly. hook, line...\\nBot: it i i?. that i't. i. the've>>, the,>uu <>u < i.,..... the to>>uu <u <u> <u> the,</u <\",\n",
       "  \"User: well, is someone coming for us? or are we all just gonna die of exposure or dehydration or sunstroke or maybe even something worse? hey, you don't have to worry about scaring me.\\nBot: i. is, you, for're.'re you.'t.'t's. to,, know. you. i, be, i the. don. a. but,'t i. me, they'm you. this a't.\",\n",
       "  \"User: i mean, there's no instructions-- what do you mean, they're not tricks?\\nBot: and't that a-- in's to i do you what--,. your* my-- the-- a. was!, i.---- to- the's to i--,-,uu a*,u the--,\",\n",
       "  \"User: kate? no, there\\x92s no one here named kate. is that good enough for you?\\nBot:'t� he you is, it., is a\\x92 a? have you but i me you i i thes�,� the he.., to� i a�.. be you. a a.. don,,\",\n",
       "  \"User: whoever's behind my husband's death, why have they gone to all this trouble?\\nBot: do,. to me., your.. to. your he., i..,. a.'re you,...,'t i. to a't you i, i i're, i we and he,. you\",\n",
       "  \"User: okay -- what if i did have a book down my trousers?\\nBot:, you was't the, do? your. --, you i you you.?'re. are, it to you you i, you,, you,. my you of, to, my,. that. a of, don,\",\n",
       "  \"User: i don't think he's going to be doing any bargaining with us, the stupid son-of-a-bitch! besides, i'm not giving him a third of anything, not after everything we had to do.\\nBot: i'll you they, you you. i you've. to i my a he i,? that i i have., to i. he't i i your not and,, you, are it,., you i.'s!\",\n",
       "  \"User: bob...\\nBot:,. for this youu if,'re you i,, the, me, you me for. and the you the you and is he and'm we to what a was. and me. it... for know but for, this you you\",\n",
       "  \"User: a girl has to draw the line somewhere --\\nBot: for you we -- do -- a in -- -- that --, it., i're you.! that,. in,,., are but are -- and if you i don,., but, -- --. the to to but\",\n",
       "  \"User: i'm sorry. you've thought this out better than i ever could. i'm ready now.\\nBot: the't?, of i have this to it.'s and of., you., a i you have to i for,,'s -- -- you not, we in to'll --,. -- i that you,, you don,\",\n",
       "  \"User: what was in the 'miami herald' and the 'times.' confessions?\\nBot: your to you that i i i.,.,? all in? of to be you,. he i you' the i, you, i it, '... in. a i. that. you,. to,,, of\",\n",
       "  \"User: great. can it send me to hawaii?\\nBot:,,, i you have. to, i i this have. but,. don. this a we, i all..,,.. you, for you. a. and. me you you'll, i, your,'t\",\n",
       "  \"User: i don't know. but someone must want it pretty badly.\\nBot:'m the can i. you i. to in, be's i the, to, i... this,'t. but of, i we but the, a, a. to to, the my you you you i to for, that i\",\n",
       "  \"User: he's got a gun!!\\nBot: i to. a.,. this's,'t we, a i't you you the a're i he,... a the's., know. that it to he it. you. you. and to the all!. and i\",\n",
       "  \"User: we discussed that. and decided not to.\\nBot:'re your. it't the, i, of,. and the't,, they it you, of. for he the my and, you.. my're have the it you, you to with and have't is this can i've\",\n",
       "  \"User: but he's got five times the man-power to draw on.\\nBot: he i a. i if the this't't don't him' in a me me, i't you in, you the we i,. in this., you to! your, for we the and to you. all a i.\",\n",
       "  \"User: answers.\\nBot:,.? a this the, but be the a the., in you't. to if i. you. you. of't the you i, the is i my the i my my's i the this i. i.,'m\",\n",
       "  \"User: where do you want it? in the face?\\nBot: you.,,'s, that't i the this all if, but my i you the.'s to, and i i i.? to you to it.,. the can the it of of i. it. for the to.\",\n",
       "  \"User: not bad.\\nBot: a're't. a to that the to, it the't you? you,'s. of that.. the the and the! know i, is the i the your? the. the i -- know and but you't, a.\",\n",
       "  \"User: you'll be up to your armpits in meatballs, i'm flying them in from sweden.\\nBot:, we to your. of,, my. but, i your don the it are the. they, to you'll i this. a, a you to. to, and,, this you but all to the the,. have we\",\n",
       "  \"User: inigo.\\nBot:'s if-'re,-, my in't the to the be., you i, and and was's't the,, a.,,. my.., the this was the this, to a, was i, for's\",\n",
       "  \"User: i hereby acknowledge that...\\nBot: i i a, you,, to but,'s. the. he, with your, my to to't., for it,, a..., you. i with a to,, this you what's's! a.!!\",\n",
       "  \"User: why? because i remind you of someone? that's not very complimentary. and nothing would... happen...\\nBot:,.... and in, the we i.? a.'m. i., a'm? i,>>u>?>> andu>uuu</u to don i the>u>>'t. to you\",\n",
       "  \"User: elois?\\nBot: of, you. the with you i what the'll's it., the the i's you is it. i-, you. i my it you of the. but i i have a --,, i and this this my, i\",\n",
       "  \"User: i want to get in.\\nBot: can, i, we the's. is to you i've and you,, the the?, don.'t you my, of this,. the don's you,, all. it,.,.... a have and..\",\n",
       "  \"User: why do you do it?\\nBot:, the of i you, a for be are but for.'t with i and're,. do. like you me. do, the to don've you. for of'm. about. that don you a your this, can you,\",\n",
       "  \"User: eve... why don't you start at the beginning?\\nBot:, a have, a. you't the i. just,... with the i you i've.. i're't,'ve this. to we't i me?. the to i have a. in, you i and!,,\",\n",
       "  \"User: see, your mind is very good with the more mechanical details. whereas my strength would be --\\nBot:. to?- a, but i the i. are -- this., and. it?'s, i your, all,.'s as,,,.,'t but i, i., to the --, you, i it\",\n",
       "  \"User: you cannot go alone.\\nBot: don can i, you's't. my. a for, i you you,'t the't if i me'll to,. of be., i. the we you that,. of i what.,, you.,, i\",\n",
       "  \"User: holy shit, yes!\\nBot: what are i! this and if if is, the you,,.! your i a,! for that to? a that that, know you'm. you i i't to your,. to, i we! you, i i\",\n",
       "  \"User: i thought you said you could handle him.\\nBot: to you. and,. the you that the,'ve if. and, was. of can and don the but.'t, be the,? have you i. you i in't.. the. of i you't to the you\",\n",
       "  \"User: yeah, teresa, shut up! we don't wanna get charlie here in trouble, do we?...we love charlie.\\nBot: i. i't, i, you the the,. you't?, i me's.,,.'m you me. i., a you'll,.'s, the it, of that'll,- don, that to,\",\n",
       "  \"User: how do you know?\\nBot: and me,, me.'s, if i don you,,'s, are.'m and, and., is you, you we i, a to i,. the... the iu? to. i.. my i...\",\n",
       "  \"User: ted, i won't lie to you, we don't have a hope in hell of winning a custody hearing if you're out of work.\\nBot:, that,'t.. to. of to are i don you,. the i., to,'s have. it as of the the the i., and your you. and i're you.. but, as,. this\",\n",
       "  \"User: they sure did! they got kicked out of school, they married truck drivers...these are my mother's greatest accomplishments? i'm sure glad i came all the way out here to find them out.\\nBot: in., you., you i in. the of, i?. it you,. this? to, to.. you we know the me it i't.. i. what i't you don. me that don what!\",\n",
       "  \"User: sam ... we're proud to have you at information retrieval. merry xmas.\\nBot: to if don,., --,.. i. with. to. the you you of < <u> < <> <>,>> <u>>> <u>u>u> <>>u> <\",\n",
       "  \"User: i'll take two. one for later.\\nBot:'s you,?...., is if it you. you, but, i you,! the i you i you you i. all've i i,'s't what you,,.'re it,, in. of. you the\",\n",
       "  \"User: ten, sir, and make them short ones, do you hear, captain grogan?\\nBot:,,?,,. to, that i a, a, the and this this our., i, a it to in m, as't., we's'll. and i,! but, that the the, the's you\",\n",
       "  \"User: you found these smut dealers and asked to buy a snuff film, right? wanted them to find you one. well, they didn't find you one, longdale, they went out and made you one...\\nBot:,.'m you, your my have, and.,, you... a. a, you that's it- i i i i, of this, i you the don i we? i. and, i a but,!, don\",\n",
       "  \"User: i'm not interested --\\nBot: you your a -- don to that do you't, that to. i in don to have, have i, -- to don't for this -- to, you.. -- like? you me're i don, -- --'t -- -- --\",\n",
       "  \"User: yes.\\nBot: i if the, what you what have are't... your.....'t you it the. you'm to i. of., it we i your, of.,. we... i i you're i i... i this i,\",\n",
       "  \"User: my god...\\nBot: you you you what, you,'t... is, don, to. the, have the, i to you i to, the you't is,'re,. of that,... to, to the the., you,.\",\n",
       "  \"User: well -- i could try. do you wash your hair every day?\\nBot: -- that i you.,, i you the'm've all. your the's i the's i to.. the and to i, --. that i. i you --'t you i, i i, you't.'t i no\",\n",
       "  \"User: just had to get the pack unhooked from the line. it didn't seem that long.\\nBot:?,. is're'm'm., what if a, is you i. i the. i,,,'s to, i. for,.. the i..? this're i, i my! you the. so don\",\n",
       "  \"User: you know what doris told me? she say: that duff's a nice guy. wouldn't even charge him nothin'.\\nBot: you we you,, i you we, a you i't all,,'t you's just. of.,. and you in i..'t you you to're that have, i that,. you he i the the and is\",\n",
       "  \"User: thank you\\nBot: for. i your we me't and't! my this, your,, i of the you, in i.,?,, the. that it, you. a not me the my. have i the. in of,. i\",\n",
       "  \"User: they'll kill me.\\nBot: i to a have to you it. what you, i the the's the this.? my, are...'t?,. to. we the, i,'m that the but not <>>>> the <>> <u\",\n",
       "  \"User: let's do that.\\nBot: and a, be i't't,.'m you to i and the you've but you you've. have that're's the't you, i.,, to.. you i it the've it?.,. to if you\",\n",
       "  \"User: tomorrow...\\nBot: you your, a you's i., a the.'s. the, a. to of,'t't we this i don you! with, the to that have. i, to and... for if is it and you. i that\",\n",
       "  \"User: we need to run this through vicap, search for similar burns.\\nBot: you have. be! have the. the be the.'m the.,- for to of of, you have in, and for. -- was a the my. and the it i have.,..,. a --- for\",\n",
       "  \"User: what about this situation makes you think i can answer that question right now?\\nBot: this the,.,. to. the -- your in to this i. be with to'm i and a, your to it. don, the i to that.. you,..'t, have, the i i,, be\",\n",
       "  \"User: come on malcolm, it's only seven ohms, it's nothing, it's like a joy buzzer! and it's not about the pain, it's about the interference with concentration...\\nBot:.?,.,., and your.'t i,'t...'t to,...'t, to... the the'm. the the i,, in have?, you the to,'t. i the and the, this that'm\",\n",
       "  \"User: i'm supposed to be at my old man's for christmas dinner at eight.\\nBot:, you. the in you,'t for we and me't, the of you, i, to.'t don no you of the.,.. all a i? i. i a.'t to the i what, know of i\",\n",
       "  \"User: shit! you bought enough pate for a fucking army!\\nBot: you to you i,. it't are don it we get it!, you'm.., i,'re i but i, my all't of the, you i,'m the don but it a get the you a i don,\",\n",
       "  \"User: yes.\\nBot: you, i the. the a you is a the'll,. of me but i it i i what the the.. i do,. to, the, i we., you are we,'ve're to i the to of,\",\n",
       "  \"User: hide the car.\\nBot: i i that,. with be't and the to it, is and,., i this,,.'t you i to. i i. you. that.. to you, and., i,. you, i. for\",\n",
       "  \"User: shit! morehouse and sal are short. fu sheng's going on r&r, you don't want to send their asses out on an ambush. you got the fresh meat elias.\\nBot:,, you,! you,'re you, it. don't and.'s! this'm i, and you and,? this! you i're i is i the have but but, i, no i we if,, to.\",\n",
       "  \"User: well, uh, i - i gotta get the family farm back before i can start thinkin' about that.\\nBot:,' no the's this a, all're me, we a, me i, i and, you, i,'m i,, i,.. the. i. and, of,.,. my a i,,.\",\n",
       "  \"User: then we don't know if she's part of this or not. mickey, you up?\\nBot:,., to,. me a in just, i., the.'m., that to, what?.,, but. and she that her, to. the. the. the of,'s to,.. was and\",\n",
       "  \"User: a group of us are going out tonight.\\nBot: have's to. the this a're.? you this a.,., you, it to. and the,, you, you you's,, you the. the you, i a's but and we you... it of to\",\n",
       "  \"User: really?\\nBot:, a a in you? the, and.... of. the't., have, i you and't,., this you? you your a's to.. are'm it.., you to't, to're i have\",\n",
       "  \"User: dr. st. luc? detective-sergeant heller. i'd like to ask you a few questions.\\nBot:'s., the and the you the is and have to't,'t you a and're your the this and i., you's,. for,. a. and. your, no don. -- and if he the the, i\",\n",
       "  \"User: what is this? this is water?\\nBot:'s have a the it to and you it the a he the don. you my. the. the's was if., to you to to, i i you. i me to.'re if,'s, i, be he. to\",\n",
       "  \"User: you can cut the crap.\\nBot: with to're. that, what the, your -- i. to can this of.. are.,.'t to --,.. i he i for to have what't,,., you., don i -- is not it\",\n",
       "  \"User: what does that mean?!\\nBot: if the you you! do we don i to it, this --, i, i the. a. me i, but, the of,'m i're. to, and.'t.,. for your i, --. to we\",\n",
       "  \"User: <i>the driver's name was locus fender. we know that he was in on the heist.</i> <b> int. armored car -- next </b> locus fender is behind the wheel of the armored car. his unshaven, disheveled appearance looks totally out of place in his security uniform. <b> int. vegas security lockdown -- night </b> taryn is now scrawling notes on a pad.\\nBot:>>>>uuuu <</></</</</>></ < <uuu</u>></>>u>uu></iu andu have></>></>></u\",\n",
       "  \"User: llewelyn moss?\\nBot:, with, the. the't, you to you we of. of it what of,,. the my to i,'s, the. be don of..,'s it.,. that but't. in's and..\",\n",
       "  \"User: and i would have expected compensation for my time and expense coming all the way down here.\\nBot:,. the,.., it to. of i i i-,..'s that this the the if?,,! the that. -- for my.,, to! i i my, -- that, that be. a\",\n",
       "  \"User: that's good. now what's her name?\\nBot: the you you he.'s have the, just is he you and,, i? was the don for and i. we, i it. it. in. this you and't know you you, i that the you, for of a\",\n",
       "  \"User: i went to see her -- some fuckin' asshole answers the door in his underwear, he's fifty years old, there's coke and shit laid out on the table --\\nBot:'t, what a on', you,, i,,'m. to't. the the -- you and you,. you you i.., the you. the, me't?, it we.,'t ' a the to\",\n",
       "  \"User: i'm sorry this came up.\\nBot:.. that you. the i. your and. this i'm if what is, don? can i have not to he. to.'s. to a you was,, and, the the.,'s, i that don a this\",\n",
       "  \"User: maybe they're not tricks.\\nBot: have, the.'s you we you't you that and,.'s., to to my. we. i, the, the we don and,. is have?'m you the,'s't, i not's you. your.\",\n",
       "  \"User: i knew that.\\nBot:, and,,, to the, in. you've'm you we. the,. can that you. in your i have me,. i. be you, you the'm me i my what of,,,.,. can\",\n",
       "  \"User: people change in relation to each other. love changes on its own.\\nBot: a the to to, you we of it as,,. we. you i my.. i i is a the.,. do'm. a. your. i's. i, i., a i is you me of he\",\n",
       "  \"User: enrique! quienes son estos? how could you bring them here?\\nBot:. the, the, but and you., to is the it for to, a... the the't the, i have i be?,'m me your.., for're's you my,, is, the!'m you you\",\n",
       "  \"User: i lied to her, and then i stole from her. i don't see how you can call that a good deed.\\nBot: was was. is the i i, and a,.,,, to i her have the. i i, to the her i't!,, a, she we i to you you i me i't. i it her to for\",\n",
       "  \"User: don't strain yourself.\\nBot:? a. a. myu're be i don. not,'t can we,.,. like. youu? be don and,...'t're this and't!.,?u the't, -- it.. the.\",\n",
       "  \"User: uh. what is it?\\nBot:'s't is, is's! that,,, and to. you, a we'm're to,'m don we the what of, to,, in you? of i just's, is.. to you're and't my that\",\n",
       "  \"User: you keep trying to lay this whole ride on t keaton. it wasn't like that. sure he knew, but edie had him all turned around. r i'm telling you straight, i swear. +\\nBot: you,'m. i this in and a., in i not and i you,. a... to,'s. this,'t but that to you. i i, but? i'm. it of. you, a,\",\n",
       "  \"User: move the bodies?\\nBot: the't' for,'t!'re's it a.,u i i the't, to to the. you and, have. don you...!... this i, you and i don i the it we. it it?... have\",\n",
       "  \"User: i aim fer you to have 'em.\\nBot: you... all the' my,, i don.,. to., i, i'm you->>>>> to < < <>u>>>> <>, <> <>.>uu,>\",\n",
       "  \"User: i'm, sorry, but even the most promising clues usually lead only to other clues. i've seen so many corpses rolled away... unrevenged.\\nBot: iu the are,, to i to of,. of're to, this, the it for... you. a, it? you,,'s and, your't the we the the.!.., the have it\",\n",
       "  \"User: all right, what do you need.\\nBot: is if, a the i to you.. with. to... you the you for you. a,!'s and., a this, the? a, you, a, you i>>>> i</ you -->u\",\n",
       "  \"User: hey, this one's mine, this button. this one, you rem-\\nBot: in a you., you,. of this? i it i. i.,'s, you. we't know't't i you and.,,'re., you't this? i. the the a that a the.,\",\n",
       "  \"User: damn. your dad did this?\\nBot: just you it,, was, me this of to. with. my, you, in you i that i you. you the, your,. you know.,'t..,'s you know no't't't,,,.\",\n",
       "  \"User: well, we can't force her. it's her decision.\\nBot: don. this,,, have.,, she't and, you her.'t, of is have'm but.,.'s. of.,'m you we i..,. of i the she we's but. the,\",\n",
       "  \"User: i'm married.\\nBot:'t., you can. is i --., of i we the i you it. to you i. to i., to, you, i the my no --'t she,,? i i? not, m's know the\",\n",
       "  \"User: i found this old cello case filled with bills and receipts.\\nBot: to,'t't a. be, be was to., and the was. i. the, and. --,?. i, is. have -- to, i have,. and,.. don you i i me to,\",\n",
       "  \"User: suck my dick!\\nBot: no? the,, i you...'t!'s! it a, and. you. the,,,,.... and you to you. that my, the i but,. my't,!,. i. you, i\",\n",
       "  \"User: oh yes. why, you told me to sell them a long time ago.\\nBot:,., a, your what have you i have have., the. you. to if and, you i i you i.'ll,'m., and's't to.,.'t to not. you't. to i.\",\n",
       "  \"User: well -- well i'm just back. and -- i must tell you -- something quite wonderful.\\nBot: to -- to i i i this to's't,?, i this., i. i that a, you the i we we, your you i,, have -- for to, not,'t. -- are.? and the the\",\n",
       "  \"User: maybe --\\nBot: is what can --'s don the don be, be it for i. a the i't you -- the i if the't's the. and -- the. and a's, i. to was! -- -- the that -- the -- --\",\n",
       "  \"User: you don't know zip! you think i'm going to end up selling appliances like my father? chasing women around the store. i've got to give it a shot. why are you trying to kill the two things that mean the most to me? until yesterday you loved me and you loved us. ) what the hell has changed? for two years i've done nothing but love you. i'll show you, i'm going to be just like fabian!\\nBot: my you. my i i. you the i i, it, you. if., and have can are but it, you are for're is i, i you me you you are...., the. you of not the that you\",\n",
       "  \"User: yes.\\nBot:'t,, your the? my i., you. to. and.,,. the, you a'll we and't'll the don i. you you you you,. you you., and you?. the of to.\",\n",
       "  \"User: yeah, you still got it, betty. who's mr. jocularity?\\nBot:'s i to is to if. to that the, we. it.. the.., i to he. i is,.. i. to, of you he, the, you,,, a it to don. and.\",\n",
       "  \"User: mike, there's something that's been on my mind and i have to tell you about it.\\nBot: and my of i.? in's i, we't we,. you? to,?., and't of, of you and a a to to for the my was't my was but i. be but,., it it\",\n",
       "  \"User: i don't know, but nekhorvich was not a manic. get me a twenty on nyah.\\nBot:.., you. i this to..., you you for is., the. the to was to. i and you the a the i't for. i no, the... about.... the,. and to,'s\",\n",
       "  \"User: no, sir.\\nBot:,, we' to,,, that.'s. we, you a.,, the, but you i you,, have'm,., the i to i. your the the, you to't. and you i i.\",\n",
       "  \"User: shhh! this way!\\nBot:'t. like you the. the?,'t we don, don it! my't've and, you,'t you, it don't. my..... is'm, i you., but.,, it,, you.\",\n",
       "  \"User: you were gonna run through the law enforcement databases for a match on identifying marks.\\nBot:, and and, you it you, i you! you is it. of, you, in.,'re's, to we we you a- to, it, and,. have and. to!,.. i,,'t\",\n",
       "  \"User: i just saw a man walk out of your room!\\nBot: if, you can. is you -- just me you your if. a have., i, it, that the i this't we i i of i.. i, of i you you,, a. i you'm have --,\",\n",
       "  \"User: why, sure!\\nBot:... it... that, was that it me,'s. i a i i,'t, to,,'s i. you to the the you this. the to and i,'s., i, i.,'s,.,?\",\n",
       "  \"User: dance?\\nBot:'re. is you the to i you you, a. my.? a your you i. a,,,, me i to i and my,'t, a, have i in the, and to, that,. i. you\",\n",
       "  \"User: because i don't feel like sitting in a rubber room for forty-eight hours.\\nBot:, i.? a?,.! a of i what i to i're and, to a i i your i you've the we the-. i.., you that if of, a of.. i.'ve, you\",\n",
       "  \"User: she must have her little joke. you're not going to take that seriously.\\nBot:. i to i i you the i i the,.,. you's.,,, don don i, a the but i've to., i and have have and it i,.,,... in. and but\",\n",
       "  \"User: no, thank you.\\nBot: i i we is i and're not to my,., to was.. this to the,.? the a.,,.,,,'t,. the i i i i you you you. with a to.. i\",\n",
       "  \"User: stop that dog!\\nBot: you if of the have a to,!, to,, it you you,, we, that, oh, we is a,'t!,!! that.., but,! but i i i you.'t,. was\",\n",
       "  \"User: it is fish.\\nBot:,'t i't you a. you the.'t,, the be. you of.. you.. so to it, my, be you to, a,,, i -- the. in,. have to of the the i\",\n",
       "  \"User: took preparation.\\nBot: the. a this. the i it. the the it,, it that the,?'re, it the,, you. do i a to...'t, i., it. the you i. in if but, not....\",\n",
       "  \"User: oh mom...\\nBot:, i a she to a,,'t.,'s what in you you the to. it she.'s, what the the to. you i. to i're this but i?, to. you you,,.?,,\",\n",
       "  \"User: you know, you're pushy, fella...\\nBot: the, this i...'s. for you, i you but, you't,.,, was,, have! in to? to of have a you. you you,'t the what't but, you'm to't, want i\",\n",
       "  \"User: no. you won't be able to do it. he will rise. he will rise and you... you will die.\\nBot:, i i to you, what i.. you, it me you this,.? i to i. a,?'t.,'t, don for,... you a, you't i... the,,'t we don, for\",\n",
       "  \"User: what's the charge?\\nBot:. my i, don i to don you i, you't you and... that. a...>i,, <>>>>></>i you> <u <u>>>>>>u>></ <\",\n",
       "  \"User: a little dusty.\\nBot:. a and, we the'm i is all you'm.'t you that don i't a of, me't it my to the i i can. i you, not you. you i you?, all, i for. a you\",\n",
       "  \"User: the arms dealer.\\nBot:'s the a we for, in., on.? of. is for't, don i...,'s, i.'s..'m, the the't it, the, a we., we't i i that of not i\",\n",
       "  \"User: ten, you count the prison hospital in ohio i walked away from.\\nBot: is i. i, you,. my. i. i i.'s.. and but i have you,?.. a. me a of i,, they. you you a i i. i of,,?..\",\n",
       "  \"User: stop that!\\nBot:'t.,, of with're this we are've're is it you't this the my that! are we the't!'t,,,? is your a are i!'t. the don!, i. and don!.'t\",\n",
       "  \"User: he ran out on me to be with you? well fuck him! everything worked twice as good without him. we didn't need him then and i don't need him now.\\nBot: with i a was we the and don. the's was, and, can't i't to. i i i you this do you you and i to't i i the. what me my of that's you.. a, you if\",\n",
       "  'User: red...strange?\\nBot:, a> <-uu theuuu> < <>> <>>>u>>uuuuuu>>uu>u you,uu you>> <u>u>>u <',\n",
       "  \"User: pretty clever. are you game for more?\\nBot:'m. can you is the. with to if i is to't, i.,,,. a, a the the my a, i the you't't in. the that the you i can, you can's you. i i\",\n",
       "  'User: you think the extra strain caused it?\\nBot: i the i -- to to i-, in, and this it i, be your the you.. that was, the i. the. the,u.. to -- the to can. to i of. a. and and the',\n",
       "  \"User: you up for that?\\nBot:., your're it my a i. you't'm's but to. of do. your what -- we i., i! in i the i? you to we to have., you and't!, -- don,, i\",\n",
       "  \"User: they are a terillium-carbonic alloy and i can fly.\\nBot: of he i, in we,,.. that the's,,'s, to,. a it to.,'s i the i i,.. i have you i,., you but,. that, as,, they\",\n",
       "  \"User: you're going to break up with lisa, aren't you?\\nBot: what i, -- to. the a i we you i in i -- you't't it you you, it we, don. -- was is we and! this,,. to to a the't. -- no i i. you you\",\n",
       "  \"User: it's the strangest thing father.\\nBot:, the,, i,.. to. you,'t in -- to. have to. --, me.,,,, we i have to't. this of you.,, for.. i it i, it the the\",\n",
       "  \"User: nix.\\nBot:, we,.? that if. all,. your the of a a, i'm you a i it i. all you. to my. you's for but. the a. don. and's i you's...'t you the\",\n",
       "  \"User: i don't recall siberia being this warm, steed.\\nBot:, we.,,! you a a, of are to,'s you i're..., to,, your it the for. you you, i i a you the,, we,. but,, but we but that. i\",\n",
       "  \"User: pretty girl.\\nBot: if me it you., you to't. we i i i i that to i for it. i't.'re's.'s,'s the it don i.. you? a. that!. a, you. you. of\",\n",
       "  \"User: i don't know...\\nBot:'t'm you.... like i't me,., i,,, to and the,, be i a and. i, the have? with the your i the that.'t. you have you,,,,, don't\",\n",
       "  \"User: i've gotta...i've gotta...return some videotapes.\\nBot: i in it, for..., i., don.,, for but.'s the,. and, to, the, what your,,? this'm have. it, to you., i have's a i that, that\",\n",
       "  \"User: mom! we're eating!\\nBot:. a your to!,'re.. i i,, and all i't, i you your the.,, no of, you to you we don..., you, i don't i you, and, this.., you\",\n",
       "  \"User: well, congratulations! good luck!\\nBot: you i't i.'t i,, a you you?'s i you i me i i that you i. you the this,. you., i in'm, well and. but my. you it i.'ll and you the\",\n",
       "  \"User: yeah.\\nBot:, the i, me, i. can be,.,'s.. your i. my the i. me if to,'t the., you, for's to i i. just. and's you're.,, you,\",\n",
       "  \"User: got it.\\nBot:... the the to i,....'t i.'t. the i i your>> this to>,>,>>>>>'s to>uu>uu to> < <u</u>>></>\",\n",
       "  'User: it went to the goddamn fbi and they didn\\'t find a goddamn thing. it comes back a week later and one guy in the dallas police department suddenly finds a palm print which for all i know he could\\'ve taken off oswald at the morgue. there\\'s no chain of evidence, bill. and what about the tow guns actually seen in the depository? one an enfield photographed by a newsman and the other a mauser, described by deputy weitzman... maybe, just maybe, lee oswald was exactly what he said he was bill - \"a patsy\". take it in, what a, you a and you, to, have you. you,..,\\'s in\\'s a, get the he a i, you, he, i.\\'s i he, i.\\'s, of i\\'s the a',\n",
       "  \"User: the red...? you're totally gone, aren't you?\\nBot:... be,'s.,... me in i that,'t the, what.. this you.! i you, you... you the, to you.'t? to not., your,,, know i this the i. the\",\n",
       "  \"User: yes'm.\\nBot:.'s't, like.'t, this, i,, that it the you i a you. you. a.'s,?'t i, have. that is is for i i.,,. i,, and.'t to\",\n",
       "  \"User: i tried to tell you louis... that night in paris... when i first came to you... no-one can refuse the dark gift, louis... not even you.\\nBot:,'ve. i i,, i a.. know to me i. i,,, that,'t.,. but you,. i i, is in you you. of, but, the'm, i i.'s.\",\n",
       "  \"User: no.\\nBot:,'t you i i you.,'t what what the, you i you, i of., i you. that't! this you'll,, don and to, of i the.... to. of and you, you you'm\",\n",
       "  \"User: they're bypassing engineering...\\nBot: that're a to the it a of. to <</>uu < <></>u <>>> <>>uu></, <>u</> <>> <>></u</u <u\",\n",
       "  \"User: my god, we tried to save her...you can't know...you can't know...\\nBot:>'s,>>,>>u that't i you> < the,.'s this>, you>>>>u iuu.,,uiu...>,u you</u>u tou's you\",\n",
       "  \"User: well -- it seems to me -- i remember when you paid me--\\nBot: --, you the. that for to--, to to and and. for a you want--. be to-- the,.'t. i--'s in. in. the?.,!, it to -- i,-- your a\",\n",
       "  \"User: that sounds kinda gay, but since you're a guy, i guess it's okay.\\nBot:,,, was i...,, i i. and that got i a and that's a me, i we, i you, you that you so you't. i this. i. you. you i. to..\",\n",
       "  \"User: no, mother! it's war! war!\\nBot: a. to i the and it to's you we you. it...'s the we. you you?... is that if, don i the't is,,., don you to've, this we the,, i me,!\",\n",
       "  \"User: all we got to do is hit some rough weather and you can forget about it.\\nBot: it the the don,, we that's you,, you the you that the you. with? and,, a. you in me that a i is, i you.'s,.. we,'s it'll my but i you\",\n",
       "  \"User: i've already solved it. i've hired a hit man.\\nBot: just i. you i don i you,. are. you i. a i i.,. to for. a,. the the't i?'t and., me. i a you the the i?? we in the i\",\n",
       "  'User: is he making any progress, doctor?\\nBot: the, is of a i i don., of. do,. do,.? in you to the you, a the i.. the. you you,. you if have the i i it to i to i i. the',\n",
       "  \"User: it's not your friend. it keeps you sucking. remem- ber the old bum's lungs?\\nBot:'t a and i,..,, the you, to?,'t., you, this the i the i and it,., i, the the of, the i. i, to't, that, the, in you\",\n",
       "  \"User: is that the manager?\\nBot: the- a... a. be a the we to to to. you. a,!,'s i,,, and to i you you to you the and in and to,,, the you you if is, you a\",\n",
       "  \"User: that's right. now who needs to trust who ? trust me, when you're ready to work the controls, i'll put you in the hot seat.\\nBot: my my not,. in ... the in't you,. this i.,'m,. i,, i..?.,.'ll. the. i,.. but you.,. you of't. i? i\",\n",
       "  \"User: really?\\nBot: you have it, the if you you....... to we the, and i.'t, the,.,...'re,.'m to... a to i in. i you've i, it me the i in! you to i\",\n",
       "  \"User: i see. and when was this unholy alliance joined?\\nBot: don the will. is,'t. the your. not, i. have a the,., the, we,. is the,.. i the to. the, the are,, the to is the,, i.,\",\n",
       "  \"User: a little dab'll do ya. now you know how to get there, right?\\nBot: this,, a,. we'm,. a', you're that,,,?' i, iin',,.. you. you,, if, if we a.,'- that you'' ' you\",\n",
       "  \"User: come back in a week, it will be squashed.\\nBot: the. i.,., you your to. be you, you we.! the't't'll a it., you you't, a you,, is, it a,'s --,? this to.!'t you --\",\n",
       "  \"User: no, i can't. i'm sorry and all, but...\\nBot: of't..'s we a you i,... are,.'re've no be that'm i i a we a i? i you i's i.., you i... are i i,.,'t......,,,\",\n",
       "  \"User: where are you?\\nBot: the,., i this.,, just, i, i i this i that if,, i,. you i i but you you you. of't. be if and with a you to.. the,'s. to your\",\n",
       "  \"User: brave sir robin ran away.\\nBot: was we me to a the you, you me, and sir -- --., a a!!,.,!. but!,, to it,,.'s. to me, well this,, we,'ll sir, the\",\n",
       "  \"User: hi daddy. i know what happened.\\nBot: you i do you don, you.'re are me.. the have,?,,,, and,, the,, to, you can know you a the the., he..'t. of i's the't if,\",\n",
       "  \"User: uh-huh.\\nBot: the, my the. of i for, me,, what i i we if, what,. you a' the the? the i,. i. i,,., is the. all i and that he to's. but\",\n",
       "  \"User: what?\\nBot: don. just this!'t i you in this you i., a. that. of.,'t have if all and have. the, i in!,. you but., you? not in't don,,, have i\",\n",
       "  \"User: a man of honor dies, but never apologizes. i'll see the captain hanged before i apologize.\\nBot:, is they the the the to is to. your,, and be, the to i.,,,.,., if the it,,. to,. a. to, a the to,'s., this have the\",\n",
       "  \"User: not in months. i don't even know why i bought the damn place.\\nBot: you this you just'm. is my i,? to you for a., it can if... was. me. i you.. i you'll,'s not you i to we, this don't you,, a the\",\n",
       "  \"User: you're gross. see that guy?\\nBot: the of i it in, and the and,.. the the a to to.- i're, don's you,,'s.'m. it is.. the a i don the the't,,. you the have a but\",\n",
       "  \"User: something like that.\\nBot: of a a. my're's i me. you... do?,? the's,'t have, this i the, you>>> au>>>,,>> you,,>u. iu. <</\",\n",
       "  \"User: raymond, raymond, lower your voice! what's got into you?\\nBot: --. the we -- and the i i,.'s.?'t -- i. i -- you to, i i!,. it, and --'t don is the,. i, this. we in're, i,'t the\",\n",
       "  \"User: you've already been that. c'mon.\\nBot: to just for i a and a -- -- to --'re all -- you i you.,'ll have that, i we have're -- i of -- -- me. -- know't, -- we's't that, in, to., i\",\n",
       "  \"User: don't ask me, but he's on his way.\\nBot:, i, that, i the. that you,,. you. this i that you and you i i it you and don,'re., but that he in. is you's, a was i the, i the. in is\",\n",
       "  \"User: sam? andy gave sam a nice big desk to park his fat ass behind.\\nBot: all i in?'m,.... the don know. you're's a, you', know're't it the, no. like. the what.....,. you,'... ...'re,. i to,\",\n",
       "  \"User: what the hell....\\nBot: you to for are's to.? about i i this! you, you, i, you not.,. of. you, i you i. with the the, itu the of a a. that. me,,.,\",\n",
       "  \"User: ah. ah, his wife is. ray: what time do you have...?\\nBot:, a? you the? with't, you what,.. you.,'t of was i but, don me in i in't i to, me you i you you and me's i., you are,,. the i\",\n",
       "  \"User: ... just a perception.\\nBot: it a ... i i just don.,. the, a, you what i., you of to ...,'t don. is he he he the,..u i the to you, a the,. we. the. the\",\n",
       "  \"User: ...i got lost, mister.\\nBot: with me it,, i. my.'t of, a and have,,,,. and a., you ... of't that to but,,'t to's., a, i i you,, --,,, you\",\n",
       "  \"User: well, surprise, surprise, i've been on the payroll for several years now. i still have an office and secretary. no one even batted an eyelash. do you realize what the high turnover is in a multi corporation bank in new york ?\\nBot: you, i a, to you. i in the.. a to.,, i as a., of. my. a of in's of they.,. i a i don. the the. the, it you,'s\",\n",
       "  \"User: i promise you in time, she'll become your home ...if i could offer you one piece of advice?\\nBot: i her my.? is you is you i have i you and.'t you. the in her the you she. and,,. to, the. she the to, no, i no, and i. this. my that you\",\n",
       "  \"User: too bad?\\nBot: what, the the it, it it't for, i, i,,. you't, you in the i. i of i for the the,. to, you it. you i he.'t can,. with my in was\",\n",
       "  \"User: yeah?\\nBot: don a a.'re is, i a was the i., the. you. can all. the you a me it...? you. your, don i this. a i, you my i.. my you..\",\n",
       "  \"User: isn't there something you...\\nBot:?'m don. the i....... the, i've the, me my you you. the this, your i. the, < < <, < <u <> <u <> <</,u></>>>\",\n",
       "  \"User: why the hell did he do that? what the hell did i do?\\nBot:. you't i you't. my is a. the,. all to he i i, you. is. can. of, i i..'s? know he to, is, he's my, the i.'t the you\",\n",
       "  \"User: but that wasn't me. i didn't mean to do that.\\nBot:... you what can,. your don. i,. is? the you, the you to's., i? i and. you to i i have but i i your that you, you, and. the the you you,,\",\n",
       "  \"User: she grabbed you? impossible. the precogs aren't even aware of us. in the milk all they see is the future.\\nBot:,, it she the of and's me i a in. the. i was she if i. the you, i is to of, have the,,, a.'s to, you're.'t,, be the,'t,\",\n",
       "  \"User: south central.\\nBot: for. in a i i that i the that -- i, i the i if,, --'m't your but can,,,'s you,,. -- that, to,.'re -- you you my a the the it i.\",\n",
       "  \"User: i wanna go home!\\nBot:., i i your and you for i have. i we you if me'm i i you. i no's not i. the we the have and don.'t don know i know't,!'re're it know, you, and\",\n",
       "  \"User: you'll be rich!\\nBot: you. of we i you --, and you's the in don i we,,,! you want do, to me --'m you!, if do if, to to't if, you.'s to my. that the.'m\",\n",
       "  \"User: do you think he could hack a gibson?\\nBot:, i i i. you don's, and for,'m't but. the's what have he the it you,, the it to, can in a you what a be a a.,. you to't to,,.,\",\n",
       "  \"User: what's this country coming to?\\nBot: and, i you a i. a, it, you,.., i, the and,., and all,, be your to a i you if you, it in my,.,, i it i i to a of\",\n",
       "  \"User: i don't know. why are you into wine?\\nBot:'t.,, my'm don but.. a to,'s have is. i you... for you to,'s? this't you you, have to......, i i. you. this'm, be,...., a\",\n",
       "  \"User: mrs. semple is entitled by law to one-third of the estate.\\nBot:.,, my.,. we if the i to,. it we the don, and, your to's to,,!,, are and, the the to, i,'t a,.,. the, to you i\",\n",
       "  \"User: hi. good.\\nBot: i i to a,. i i your i don but i, and? a know my. i you. a what. i of,. the. can a're're a. you. of it me it,. your, i i\",\n",
       "  \"User: want some help with that?\\nBot:, all, a,'t't i that have this to you. you for of,, i if to't and for. that. don, a, a, i it my the've and he. we if to we. it, and\",\n",
       "  'User: \"mitch?\"\\nBot:! your\\'s you was....\\'s,. a was and what\\'s you to, a\\'t\\'s. the it the it thatu. you.\\'s your this, i. a and it, i, don all a is of the i',\n",
       "  \"User: no. not at all.\\nBot: of your to the you i. a you? i. like in't --, i you the but all if -- have you not --'s, you and and i the the -- my i to., my -- you, i your -- a\",\n",
       "  \"User: short of wearing a wire, i'll do everything i can to help you throw his ass in jail. and in exchange for my help, i need permission to leave the country and immunity.\\nBot:. but the i, you i,,. for,'t. the. i's is it. and....... your the the in the, i, and, the i you a be,, i,..'s the i?\",\n",
       "  \"User: do you know what he's on probation for?\\nBot: you? the i't, i i. with's's i me he. your don can. to the, him. the, i we all for't. was we?,, i. the it you, i i, in i the\",\n",
       "  \"User: what -\\nBot: i that that you're the the i. of a you a. the're, all, i. the i to,'t.'s,,. a've the you in,? i've i you. is? i,, we,\",\n",
       "  \"User: what do you want?\\nBot: we know the you you a to. not's we you,, i,,. the. the. i don you i i... about the't. and't. do and,, we in the the have, i know't\",\n",
       "  \"User: the thing is, we've got a real opportunity here. you turn me in tomorrow and we're both fucked --\\nBot: of don and -- is in, the've -- i -- you. a's't to --. the, of to you've to i a it.'m the you i! you to -- you., you know, a.'t your a\",\n",
       "  \"User: what was your name again?\\nBot: the that i of!! all.,, in me to to of this the, but, i, is. it what do,, the. i! a. but.'s i i my the they'm we. you're you you\",\n",
       "  \"User: he'd kill me. he'd be right to kill me, too--the kind of guy he is.\\nBot:,'ve the to know don. it a, i me the. i, but--,. the for's this the i a to've! he'll you?--, me't't and,, a it him. me. you.\",\n",
       "  \"User: i taught you that.\\nBot: you i, you i. can.?. the it., the i i your to was, your he of and know., a. a for know've don i i i my don. have my, i and this the, you\",\n",
       "  \"User: i'm sorry, son, but you must have me confused with someone else. my name is roger murdock. i'm the co-pilot.\\nBot: my.. the's's the. the,. is.,. you, i the i'll i.., the,. don., they be i. i is is i,.'t... all he't.'t\",\n",
       "  \"User: piece of cake. she'll be there.\\nBot: was i't but just.' is,,,,. like.'m to is a a of,.. i,,, i i,,, she the don the.'m. it, i a't,., the the\",\n",
       "  \"User: i told you we had plenty to talk about. shall we sit down?\\nBot:,. you't. of're of in i.'s a your you for to i we all a'm to your you have you... to in the,'s this you, you, and,.. i but to you don the\",\n",
       "  \"User: dr. jones?\\nBot: -- you to and,'m the, in, it't i you't. was -- like -- and. about i you --, i know. and, was, -- oh, -- --. to -- --'m'm,, i. --\",\n",
       "  \"User: don't worry. i'll respect you afterwards.\\nBot:. i to., not me,'t, but for you..'t that i i you. you of.. to you. of not and i., to't you to you, you., you'll.? i i,\",\n",
       "  \"User: the seed that land on good soil is for them who hear the word of god... and understand the word of god. not enough for you to hear what i'm sayin', you gotta understand.\\nBot: a, a, it, a you.'t you i my, it?. you, don to, that,, have... a for have, you you you i but a, to the?,. i of., to..\",\n",
       "  \"User: yeah... okay, stand aside, you guys! you're usin' up my oxygen!\\nBot: for. that it it was get know to's is-'s but you you this?!, you. a of. i i i. to,., you.. you't. know,, a. and we't you,,\",\n",
       "  \"User: too young for what?\\nBot: this, a i just my the.,'re, is in is, in i was the it,, you, i, a the,.. in and, i're a i a can,, don're? is no. a a\",\n",
       "  \"User: alright... susan, get buckingham on the box. i want him to look at it. and tell jock taylor at thwick, jensen... so sport, the falcon has heard the falconer...tell me more...\\nBot: a't. you you don,,,. the' be but and i.'s't? it, i and,.. for i if my a me! you,'s i,,'s of to i,'s to you don,\",\n",
       "  \"User: what?!\\nBot: you the,, you,.. to.,'t and're he you it to a, -- the i was you i to if. to have, the's the a,'s but but, i your i. you,. the to\",\n",
       "  \"User: <u>someone</u> offered three million dollars bounty on dr. lechter's head.\\nBot:.></</</ <u the>uuu>>u</u <u <u> < <>>uuu>>>uu <uu,></>>>>uu> <u>\",\n",
       "  \"User: look it, mister... you wanna have your way, you take it. i'll do whatever you want. but you gotta let me go. you can't do this! you can't keep me here!\\nBot: i it you we know it.,., i,. my't're you you,... me a and a i in you me. you you., what you't you.... you?'ll, we.'t to., you\",\n",
       "  \"User: what is it, harold?\\nBot:., to have. you it i i. i. you're't're, to you he,,'t,'re can.. of don. i can,'s, can and's to you. i.. your is i..\",\n",
       "  \"User: i had it at four.\\nBot:. i. my. the... the me, we.'s i, to. it to have.'s you... you i. you...'t and? you't,'s't.'t. you...'s. i i this. it to\",\n",
       "  \"User: get that idea out of your mind. it will only lead you in the wrong direction.\\nBot: what to, this you we're,., you, if your and and is it that the,. me, the's, have i was the. was your., to of, you it the't've you., i, the\",\n",
       "  \"User: m'lady... what kindness of you to visit a stranger.\\nBot: what.?... with,. with, you't to it'll, you that, with.' it in with.,. a you. the of i, i,,, this to a, you,, the i you in but\",\n",
       "  \"User: yeah. and no more tommy reina.\\nBot:'re, you,, oh it i to, i a.'m the we of to, i's a're, to, you i,, i,, i was's to'm i, the i,., was to my. i\",\n",
       "  \"User: well, i don't think i can remember it.\\nBot:'s, and the is you you know you i i but't that you's if you a me for to can of. be'm. this to't? can a but i i a in,. the i you.. you i you and\",\n",
       "  \"User: well, it's a disaster. i don't know what to say, doctor, i am floored. how dangerous is the operation?\\nBot: i have i.,,., be's, that you, i,? i in to we if the you we. i -- you,,. you i don, you. the but, --.. -- your i it this,\",\n",
       "  \"User: i'm sorry. they're just starin'.\\nBot:.- the'm that i., the.'s is't i,'t your he not of. i you.'ll the't't your to'll. for me the know don i you but, i't you a me't you you's\",\n",
       "  \"User: who knows?... another one has it that she entered a store in troina. this information comes from the storekeeper himself who stated that such and such a girl had bought i don't know what in his store... at troina.\\nBot: a to,, a and to i a the? of i, m a, my., you. a,,'s... it no you,'t it, you,.! in to this m she was. i a i, a\",\n",
       "  \"User: yeah.\\nBot: you i but's?., a. like,, have.,? you. in? all and all was a a a all.,, this you in,'m, i.,'t, and't know i me it you you\",\n",
       "  \"User: yeah, it's all there, to the pound.\\nBot: i was to,,. just't,,'s if you in i don, all in you you.'t? all. you. we the to my. you,. of.. me i,. i you you,'s your know\",\n",
       "  \"User: i wish you had. i'd rather be deer hunting instead of freezing my ass on that fucking grader.\\nBot: a.,.,'re all. the it.'t,. you to he you i.. the to you you.. and to're, all for it.. we.., my? you. do you, what if of\",\n",
       "  \"User: no way they'll find you on a five-minute signal. and no way -more-\\nBot: i the. your -. a- to!,,, in the i, i,'m the,, i all this.'re... the. of the!.... the's you,, be, to'm to,'s, we\",\n",
       "  \"User: sure i can't interest you in anything else?\\nBot: i you the and,,. it i. what if was. and it and, to i -- you to i can and to. i. --. to that a to to you,,.,. it? i was and, you\",\n",
       "  \"User: alvy.\\nBot: a he the he.'re just is't the you. you,, i is your., if to. all don. with't,.,. you in is's to you i you not the to we'm't you. to that\",\n",
       "  \"User: we'll forget it right now. finish your drink.\\nBot: to. don the a, -- a to i and't you but we i but of.'s -- are --'t'll, you you i i. a my the i the, to it don and i what i and you my you,,\",\n",
       "  \"User: the hospital.\\nBot: you't't the to. the i i., she it. it i, to,,. the. i i. the,? i.,.. a'm,'t you., to, you, me, your. she\",\n",
       "  \"User: i'm doing you folks a favor --\\nBot: --'t this's,,, that have,.,, i -- the't, that,, a you you have is what, and but, you of of i and you i, i you it this this. a., i you\",\n",
       "  \"User: go? there's a potload of money here, pal. you got three major toy companies...you got the guys from burger god over here...\\nBot:, don i i it't'll the you you,,' you... you know' and it't you't to i,. what,... a,'t,, you this,,'t't, the,, you., you,\",\n",
       "  \"User: he was. ray's with the f.b.i. now, he switched over.\\nBot: i i your's we have to.'s,'re. your don i i i don're but i.'re., to. the. have the that,,, that don to i, what i this, your is you to the that\",\n",
       "  \"User: control your men.\\nBot: me you you't't for are don of you to,.,.... this's a we do't a i this in for i me. this we you i, i't,'re i't i and you i,. it the can\",\n",
       "  \"User: <u>one</u> set. everything from midnight on--\\nBot:</>>>>u</uu,u <> you></u.u</</ don,uu</</>>u</u>u</'t> <u></uuu</>>uu a\",\n",
       "  \"User: how'd you make out on the twenty- seventh floor?\\nBot: of a -- do it -- -- of the -- we, a to'll, -- i that -- a.'s i. -- --,, i i i. -- i i i's the your i i i't --,'t? the i\",\n",
       "  \"User: how concerned should i be?\\nBot:, to a the i., i you the i can i'm and,. of of of? a i., i you. in, all you, have. of.. and the my're, is the and a you and.\",\n",
       "  'User: since when did this shop become a fascist regime?\\nBot: i. do the the the the,.. that., in. and,.? you, your. you i? was be we of all the i i, the my,. i my the- and i and the a i the',\n",
       "  \"User: what was the money for?\\nBot:'t what... the if. be do you, i in and and it i your in i,- you you it this i, we a't this of. it, the for this a're, you it a. and a- my you\",\n",
       "  \"User: why me?\\nBot:... to to the, i? to your're my... the't i and i i...'t...?... you... that? you of, you...,'t...'re?, i you to't what you't,u...'s is\",\n",
       "  \"User: i could think of better places to meet her, instead of here. he lives on the whole top floor.\\nBot: the not you.'m a,. i't., and i the of don is you and. the. you is, is to've the i,,, the a you's if you i. to the i, of.. and\",\n",
       "  \"User: the trap door. that's how he escaped the fire...\\nBot: have i my. i i.''t to'm.'re? the. with we....... the,. to to?,. the. we have of and, what i in the. if we,,, a, you you\",\n",
       "  \"User: i'm self-centered, i'm weak - i don't have the will power of a <u>fly</u> on shit...\\nBot:> i>>uu>u < you> <uu> iu>u> <>>>>>uu>>> theuuu <u</u>u>>> theu>></>\",\n",
       "  \"User: shut up!!!\\nBot: of and i''t what, i you.., the i, and to,. what you to. don no you. i,' you'll i my don i to i! you't i no't of know, to it's\",\n",
       "  'User: assets are anything of value a company owns. sometimes the pieces are worth more than the whole. by selling them off, i make a profit.\\nBot:,, -- the be a not, the,- the the,, don,, in the i -- to?. -- to?? you. the -- you a., you,. i, --,, to you to you,',\n",
       "  \"User: okay--we'll take a statement from all the gis before they go back to post. you can get the story from otis over at the club.\\nBot:i'm i, to don to you,. and this i that you he,, but's. i, the. the you. the of.'t you've. the's,, i the you'll you. the all't, --\",\n",
       "  \"User: look into the convent records.\\nBot: the. the it.,, of the. it the and and as, to. the you. have. to i the? a.. you? the the,'t a of it. but, you the of i are i as to\",\n",
       "  \"User: no, the typing kind.\\nBot: and.-,?,.'m,. for me i! the, if,, the the don't, and to of i you. is i not i., you that,. it this, but's is,. i i\",\n",
       "  \"User: come on, charlie. we gotta have a top guy. otherwise these wars ain't never gonna stop.\\nBot:'re. and you.. i i.,, a all'in to.,,. and, i a in don!?.,,.- don i we't'll a to a, know the this'm.,. me\",\n",
       "  \"User: let them go --\\nBot: you to i you the -- my it i the if -- -- -- i you the's're is you -- --. me, you i i i. --. is. the,'s -- of --, you, my't that -- -- the\",\n",
       "  \"User: wake up, norma. you'd be killing yourself to an empty house. the audience left twenty years ago. now face it.\\nBot: the this're, i i?.,,,. you i you but, me i you're they, i. you it you don i. you i. i. i the. this to's. can, and. i,,\",\n",
       "  \"User: dr. allen, could you please tell mr. kelson what you heard as you tried to enter mr. birdson's room?\\nBot: are i to...,,, you that don what, you. it! a to., i and you,. with and not't.... to the.'s the! it he to i, this we, it it.?,\",\n",
       "  \"User: just a minute, neighbor stone. i promised you money and all that money can buy. i don't recall any other obligations. but let's look at the contract.\\nBot:,, the..,. a'm we the of.'m the. with your, i i we.,?? i, the.,,, that you me a's't,. to. you, and the'm a to\",\n",
       "  \"User: we'll be all right... we will...\\nBot:!'re we this to, the., you to? to,'t we you the you the in the't't we you,, that all in, it>uuu,, but...>>>,u itu,u\",\n",
       "  \"User: hurry up, you're wastin' my time, what the fuck.\\nBot: the we to that-,'s't i your i,..!! i it, a,..,, i. this!... you i you, the' you all it if, to i' the, you' to you\",\n",
       "  \"User: we're stuck tight!\\nBot:'s. the... on, i.,'s. my'll't, the. your, you the of., all. your what's i that!'t my,,'t you i in've, me i>,, i i</\",\n",
       "  \"User: oh my god...what did he look like, the man?\\nBot: me't we you to't what're.?,... you't've in not don i,, to you what to, to me... for. you. you, a.. to have, i,. it you,, have.\",\n",
       "  \"User: how can i see her, to know her?\\nBot:. the, know in, a that it't i't not. you., the i the you,, you, and. a i i, and she of i. was, a't i to a you, i i you, was\",\n",
       "  \"User: you should see the other bitch. what time you got?\\nBot: you the.'t. what a you i. the to but you have for. i to to't't't to! no all't i you. in.. the.'s.'re you do, the. i,. i. this\",\n",
       "  \"User: how's this a plan? how're we gonna get a car?\\nBot:, you. a the're i,' you i, it you this it you to.,'m. be, and't i, to't don i, to't,'s, i. your i that. to. to., the\",\n",
       "  \"User: well, honey, doctors are sadists who like to play god and watch lesser people scream.\\nBot: a,'t a're but't a, you i.'s of that. i, you, the,. but!, i, you i. and, the and you the a, to, the!!'s,'s to a you\",\n",
       "  \"User: no.\\nBot: in. you's he, you. me i know's, just i this the to we i. the i the,'t the's it're? and is the but's.,. you me we... it can he, the\",\n",
       "  \"User: you'll see.\\nBot: you have'll you you you i i my to and i i you for don the i i you. this. of you't my,. can to to -- the this.. just your me i, i you that i want to.,\",\n",
       "  \"User: oh, yes, yes, yes, i did... i wanted to talk to you. i wanted to hook up and talk to you. about what we were talking about in your car.\\nBot:, i a you to i.,,,, it't. the i you but i that to. i what i the the.,'t be my't not've,'s if you. that can's what i to. i you to\",\n",
       "  \"User: well, if you love him so much, why didn't you go see him play?\\nBot: you. to, i't the, you you the. and, can. to to. that't you,,, was is we and in the to. i not?.. you,, you i and i me a, i?\",\n",
       "  \"User: dashboard.\\nBot:,'t i i, to in...> of the>>>></ < <u <uu>>> <>u>>u> <uu < the></>u>u>>>>u>>\",\n",
       "  \"User: pointing upwards look...\\nBot: you. to,u, to my,u the. have to' my the? and'' and we they,. i, you, i? the a the have you...., a..... the,. my.'\",\n",
       "  \"User: hold on, hold on! everybody calm down! it's the tow truck guy.\\nBot: a, you. of't's we it,'m't? this i.'s,.' for., we, that,...' you,.'s,'t he' in youin.. it, the. me? to,\",\n",
       "  \"User: sir, how about souvenirs?\\nBot: i'll you don,,, is. to you're,,,,, have! all't a,, the a the of. to a i have!, the, have,. of the,, the..,,,\",\n",
       "  \"User: agatha...\\nBot: to.... this,'m of, in the. you't,... it it're have're you't...u,>>>> the>u>>>uuuu,>></ i</u,>>>\",\n",
       "  \"User: end of the line.\\nBot: i, i. in you you to's you,? i not. the not,? a the it you. you we i.,, and be to, the be'm.,..? it'm have't..,,\",\n",
       "  \"User: look, glenn, i know you cool, but you don't have to give me no tone of voice, okay? you don't like what i'm saying, you can get out anywhere along here you want.\\nBot: and,..'m,,. all,'m'm and. you., don,'t,, i,, i i, the..,'t,?'s.!'re. the.. i i and,.,?\",\n",
       "  \"User: you know - i had a job once. i used to work in a bank. i had been training ... i used to have a boss ... mr. don frio ... he wore a toupee ... i wonder if you'd hire me if i came in here and asked you for a job ...\\nBot:, he,.,,, you. it the i you i. it. i, you. i, i the, i of, the that's you,.. my you to. i no in're, you i you you what\",\n",
       "  \"User: maybe that's it, then. everything's upside down and backwards...\\nBot:'t, i you this...,. do and my the. you>>uuu in,>u <>>uuuuuu>>u it,>uu> <>>uu>u>>\",\n",
       "  \"User: bye, leif.\\nBot: i this'll the. the, you,, but., we, m what i.. a i,,'s.,.'s and'm! you, to, if of you,'m,.,, don this if of,\",\n",
       "  \"User: what do i get out of it?\\nBot:,'s i to i don i the --, have i the i, -- to. i.'s'm i.'s the i a, to's, it to i and the., of we,'re, you to? you my,\",\n",
       "  \"User: no!\\nBot: that i, you'm but, of and! it.?. you... to the in the to,. we you,. to i i.'t't, of me,,, of't you but if! to in is i's\",\n",
       "  \"User: why you mad at me? you needed back-up, so i backed you up. i was about to take out ricky tan and those bodyguards.\\nBot: your a my for in the be. the the., the me'm i,,,,, is's you.. a i the, i you that you are to you that, me, the. it don it. you's't\",\n",
       "  'User: how can you <u>say</u> that?\\nBot:,uu></ < <>>>u>u> <</</</>u>>>uu>u></uu>> theuuu</>u</></>>>uuu>',\n",
       "  \"User: thanks. so which one are you? sister bruce? sister doug?\\nBot: just, i i are me to, to. a,,'t the, i to,'re, that i,.,., you?'m that to the? you i for i no,....., you'm. i,\",\n",
       "  \"User: he didn't listen? he was a fucking candidate! he was your responsibility. he shouldn't have been there in the first place, stephen. you burned him.\\nBot: i, your and if,, and. you. a,'t,. i.. and but to,'t't!... was're,'t you. you we.. this., the your.,..,...'s your\",\n",
       "  \"User: i'll tell you what... i think it's all you've got.\\nBot: a and i you and you i to a't a, you's. i,, this we don... do this and the?,. you. i you you,,,....? a to i have, you, you. it\",\n",
       "  \"User: i don't know.\\nBot:'t you the have you i. to't'll can.? for i to a, to is if i i i it i the is. with my i my this if a, you but. you. is. you.?,.'s\",\n",
       "  \"User: as in one minus one equals zero yes. where are you going with this?\\nBot: the. don, i i, but. i, all, this if and. he to,'t i it i. you. in to?.. the we's., we he have a the, of. a,, we?\",\n",
       "  \"User: what?\\nBot: the is a,., the to the!... to i. the, a the,, know's, you, we the, i'm be. be, i, you, and, a,. that my and? with a and\",\n",
       "  \"User: is that why there are more men on the walls?\\nBot:'re i.? and the you, to's a if don. the will we't? for as to they, the my,.,,. the a,. and, to. the, i. have. will. the a.\",\n",
       "  \"User: how did you get in here? and what do you want?\\nBot:. to it,'s if he to we to i the, i. a. to, have.... we the! i you i you, to do. i! i you.. i, you not,. i.'re\",\n",
       "  \"User: uh-uh.\\nBot:, the a all and i, i's we. we i it i you.'t. your that,., it that. what,, my, it,. i to what i,, for...,,'re you't. of\",\n",
       "  \"User: suck my ass.\\nBot:, the we, and,, a, me,'t but all we this't't is to,'t i,'., you i a you's.. that of. you. and. my''re.,, you're,\",\n",
       "  \"User: not the whole time, of course. i --\\nBot:'t. not -- like't's you't it! to?, the, was,!'t be the but, and i i we i!'t.. my don you.'m me to?, i're't you you, in!\",\n",
       "  'User: it all went so fast. he was out of his mind and then all of sudden there was this screwdriver. i only wanted to defend myself. you have to call the police...\\nBot: the, the my he, it,.. he... be to.... is of a, my the he for! don and,,. my to,. the to.... it. the,. a. i..., i i',\n",
       "  \"User: i didn't think so. because in spite of his race, this man is extremely valuable to me. hell, i forgot all about this beer. you want one? how about some ether?\\nBot: the, the you.'t if i.. i't.. you. we.,.. a the. of of the of you in if i i't. you you you't's can.. for,., the i i\",\n",
       "  \"User: what friend?\\nBot: a., a i'm. a i, i that,.'s i he the. your --,, i you what you to's'll i't it the,, to. with, i i.. we. i. you,\",\n",
       "  \"User: me?\\nBot: the i! you're a you. it i i what my.,....,,'s. to this i.'t is if you, to. you...> <u the to <u <> of.>>'s youu\",\n",
       "  \"User: i don't pick up any life form concentration down there. she'd better be right.\\nBot: to the we we., she you. my you. a a,, of.'m, that. was the i we for. a, you i i i. you don i,.. we it in,.'t you i,\",\n",
       "  \"User: who?\\nBot:.,'re., you.. to that in you we the. you't you., have a don's,, it was's... to...? the if>u,>>>>></ <>uu>>\",\n",
       "  \"User: that's a question i usually like to ask you. your secretary phoned.\\nBot: you have your. you i. your you, the., i i when's, m.'re i, a and is, a to i. you, with, don and..?, to.,,'m the the of of\",\n",
       "  \"User: en route? why? we weren't expecting you for another three months. has something happened? <u>has something happened</u>? do you read us?\\nBot:u.</u. <uu, andu> < <u></>> <u ofu>u <>>> <u</>u</>>> <>>u < <>></>uu\",\n",
       "  \"User: thank you. my suit -- beth said she fixed it --\\nBot: i i you -- you i me you but --'re you i i. of -- you not that's no,.'t to her,, the.,, you a, it, you i but --, that her? -- i --'t\",\n",
       "  \"User: mr. president, a real pleasure. they don't let us out much, you know.\\nBot:'re... the this,, i in the the not we.. the you,, i if, of, the to't,,. not,, the?. and i, your the of. you,,, are a..\",\n",
       "  \"User: ambrose just pulled the memory card out of the digital camera and put it into an envelope, put it in his inner left jacket pocket...\\nBot: you it to, of what the.? a,? the't that.. a,... a for,.... the?, the the the., you. you i i you.'s's we! the i,,. i\",\n",
       "  \"User: otis!\\nBot: i a! a i just., you i, to i the i, i of of for! in.,'ll're you my, but and i.'t. i the, do i the me- we,. but,. i\",\n",
       "  \"User: you killed santa claus?\\nBot: you!, i they. the,'t the you.,, a i i, the't a. the i i, you, be!. are the are's. don,., all,. i i. the, you i\",\n",
       "  \"User: marky, ricky, danny, terry, mikey, davey, timmy, tommy, joey, robby, johnny, and brian.\\nBot: the i we you, i i, i she's.'s. i you,.. i's the you's. the't?. you. was, she, he know. know. you but you. the she,'s you,\",\n",
       "  \"User: ...apartment. no, no. please. you don't know who we're dealing with, i, please believe me, they...\\nBot: to i we don the's your -- you the for in the i i the thisu i i's,!..'m -- was but of they you,,. the you is we-. you you to., this. i.\",\n",
       "  \"User: she already told you, she doesn't know.\\nBot:'t she she's we, the what a. i the we i... i the't you this.'t this she, she to that she,, and, she..,... to she you, she i.'t....\",\n",
       "  \"User: oh my goodness... bobby...\\nBot:.,....,,, i the, and of i that i the it oh to't. i i, this,, don i you't're't, i...'re you.'t you i. and't the what,'t if\",\n",
       "  \"User: what are you doing here? get out.\\nBot:'t in?'t.,'re i i know's do,'s for i the? to'll,. what the and this,'ve i i,'t you,, i!!'s,,,, the a and the, is me\",\n",
       "  \"User: he's not coming to take us for a ride, either. come on, let's make a run for the car.\\nBot: the with a i a, a to.'s a and, i i, he to it?, my.'s, it i i,, you know.'re.'ll i i he be i,'t, i,?., i\",\n",
       "  \"User: my god, you're going to use her, aren't you?\\nBot: you.. in.. can was you,, you the, you't what i you'm you.?,. know't... you you a to've me it you this,. and i., to if. i this\",\n",
       "  \"User: well, what am i supposed to do?\\nBot: you,, to..., you you you?. i... and this, it have.'t don, have me't... ituu. it i you you you's not,... you't.'s., you this we...'s\",\n",
       "  \"User: nothing's wrong with my skin.\\nBot: a's,,.'t, to if, you to, just that's. a's not't, i,, and're. you, what the that. the.,, i, i. for. is in't.'s you\",\n",
       "  \"User: joe! what happened to you?\\nBot:,. to! the? you? you, i't you the a have, is't,. is you. what the, if!! to and a! but a i. you, i. but i's we you, you you\",\n",
       "  \"User: football wasn't the kind of life i wanted... for ten years i'd be by the phone waiting for a call telling me he broke his neck in a practice game. and if it wasn't that call, it would be a call telling me he blew out his knee or suffered his third concussion. i've seen way too much of it in my job... i can barely take it when my clients are in pain. i don't hate the game. i admire the amount of skill it involved and, like everyone else, i was in awe of how he could play it, but i couldn't give him my heart and then what can. you're in to a your... about not't to to i in. you have you you's not have can to a?'m you what it a you how in i the in i and. and we you'll. i of\",\n",
       "  \"User: report to dr. innis at the clinic.\\nBot: the a this the's.. you and the it,.., and on. my? the,,. the, this but the i the.,, that't be in, i i. the as this. that a?.\",\n",
       "  \"User: yeah, well, uh, you're not so smart, chief, 'cause i'm moving out to l.a.\\nBot: you... it you's, you, what he.'m you, to.'m, and you the,, you he to but,. this it'll you. i. and you know what....,'t was no you..., is\",\n",
       "  \"User: you promise not to say anything?\\nBot:. you. do. that, we a. do a, it i if you what i you you that the. i. to the i have in your,, i have the,'t, you i a. and,, my, was\",\n",
       "  \"User: it's his fear. the squid. he's manifesting his fears. making them real.\\nBot: and the of have the the have was don, and. to, but the i that a of the you,, to we,,, i he. i a to. to's, they was i the i. the you we in.\",\n",
       "  \"User: yes. very much.\\nBot: the just and you and.'m you do and to? you me i i, the a. you. to, don i i -- of my i me, the, to the.,.. but, i. to to,, is\",\n",
       "  \"User: yes. and people will live in the absence of truth.\\nBot: the,. about the.'s.'t..,? of? this? are.'s. --'t., the was don, the -- your you. are the the, of all, you've -- of, -- you,,\",\n",
       "  \"User: landon --\\nBot: a -- to's a i a of, all's -- you --.'t. a?? you you i and the the. -- of i is we my, the'm they this that've it i -- to..,? of,\",\n",
       "  'User: i plan to. you want a tip?\\nBot: do. in the for this and we....,. in i don you the your the,, all,.! all. have>> < <>> <>>>>>. <>>>>> <>>',\n",
       "  \"User: you wouldn't.\\nBot: the.'s this do, and't,.'re. was what.'s i you.., i but of i i's he that. are i the i for that i the you i, was.'t, don when know..\",\n",
       "  \"User: no, what?\\nBot: of you you is i. we all this you... a, you, we...'t't. is't know you, you you of, donu i,,>'re>'re'tu andu</ iu>u you>>\",\n",
       "  \"User: huh?\\nBot: i,. so to that i, you just.'s. me,? was.,,'re..., and and,.,,'re's. i, to.'t i,., was to've, in're,, just\",\n",
       "  \"User: the passionate one?\\nBot: was, the a the -- is in. can i do we. the they was this,'m i't i can a. the. -- the -- all the, a.,, you and, we in to're in the, you the\",\n",
       "  \"User: liar. mummy keep still and daddy moves on top of her. that's what they do when they know how.\\nBot:'s,'t the i.'s i,. we you -- the all, the,.. be for you this,, i to -- i. the a,. to i..,. don in.'s --'t.,,\",\n",
       "  \"User: what?\\nBot: for!'s to,' that i do for you the to you you't. a you don to to me to we.,,'re,, i't. i my i! my.'t the you you!?, me if,\",\n",
       "  \"User: martin, this is an order! open the door!\\nBot:.. i i.'s that are,'m we a and., you you my and't you to, we for a in i't this. don, my's don?. you i!,, i you your' i we but\",\n",
       "  \"User: no... i mean... i mean look at these. i've got to lose weight, i'm a blimp.\\nBot: to. i but,,, this i a,!...'t. of i! you i in, don, and you what,'t, you i you...'m i what i. you'll,! in the a this to!,\",\n",
       "  \"User: i told them what you said about the script...\\nBot: don and to and. i have the... you. to't for, a to you's't. don a and., if all, is, i the but, you in. <u. < <> <u <>!u\",\n",
       "  \"User: saunders said--this whole thing was *his* idea to get graft--!\\nBot: but, his---- the*--,-- i i i't------'s you-- he* my,*-- my. he* of't----,, * the--'s a--,--,--, the to i\",\n",
       "  \"User: sorry azteca. here you go, fellas! fresh dirt! alley oop! shouldn't we be wearing gloves? i mean this dirt is very...dirty. doesn't anyone think of hygiene? boy am i hungry. i'm so hungry i'm seeing double. it looks like there's <u>two</u> million ants in here. when's lunch? tomorrow, or the day after?\\nBot: the <u, that <</ you i you is <>u>uu>u i, we <>uu the't,'s i>u have</</, we>>>></ i</ to>></ the\",\n",
       "  \"User: i know a short-cut.\\nBot: the if for i? in and,... for to the'm, the. you.! this. a, you we i a. for in. the, my you you in, the> youu> my, have>u> you\",\n",
       "  \"User: let's get a cab.\\nBot:, for'm't's? you i i.,'re and this! know and i to i my to't, to, this'm and's, i we what to... the the you,, you. this. the what you what don\",\n",
       "  \"User: unfortunately, we've got nothing to work with. it's harder playing detective now.\\nBot: that. a, if you.'m. i't we it i.. you for we i and. to the, i i the was, you in i, of, you the i i...... you to if but. it't i\",\n",
       "  'User: i have heard of the arrogant male in capitalistic society. it is having a superior earning power that makes you like that.\\nBot:,. to to. i have i if,, are i they of and my would the,. i.,, if, this and to. my i do. is i, i and are my, of the,. do. a',\n",
       "  \"User: what's up?\\nBot: of i. i what to., it to you of, i. to and the's to you't, it i. my but's's know and, my i and don me a to you, you for,'s you,.,\",\n",
       "  \"User: -- i'll tell you why. it is because miss nicola anders, supermodel with a sag card god's gift to cinema, has it written into her contract that all cherry mike & ike's be removed from her candy dish along with strict instructions that any room she walks into should have seven packs of cigarettes waiting for her three of them opened, that there be a personal jacuzzi within eighty paces of her dressing room, and that any time she travels, her nanny must fly with her first class.\\nBot:, --,'ll but's. is., what you to of! a the to i did! -- was have i what, what to of what the to. to what to to it of -- the we's have to and i is what\",\n",
       "  \"User: i met a man, and his troubles were greater than mine...\\nBot: we...-,. the what't>u.,,> <>>>> a <>u <>>>u < the>>,, <>u iuu>>> <>u>u <u\",\n",
       "  \"User: i'm not gonna debate you, jerry.\\nBot: my we a a you i you'll don'll, get and if. you't's!. i i,., i and this but. get the your you and..,'re, and i, you and,, the you,\",\n",
       "  \"User: you believe me, don't you?\\nBot: the, to's's, the,,'t but in,? your it is you,. i a to to. the. you have,. be, a of, i i what i. the. the we, a.,.\",\n",
       "  \"User: no thank you.\\nBot:,,, and. the's. a i's you don we's, to be.,? of in was he, the you, i me.'m,., i's. i and was you.. in. a of you\",\n",
       "  \"User: that's not what he meant.\\nBot: he you's have it know you, that that, him you,. i he't the the but your? you, the.,. the he. it. the,. of. i that's i don i he... you\",\n",
       "  \"User: open up!\\nBot:,, this i to, i, to and the you you is, the don, this you, are don! was the the, -- i i't,. don you this a, you i. a the've you,.,.\",\n",
       "  \"User: not true. i think i'm making real progress on the microchip.\\nBot:, i i is your what a i to of you to. of to to your do,.. have i, you? the is of that for,, it.? i. i we?.'re. the,, for..\",\n",
       "  \"User: bye.\\nBot:, this's? with are to it to a'll i i't?, a i. my,, don, i, but to this, the i,,, to don be your'm you.. you,, but..'s\",\n",
       "  \"User: i thought you were against fighting.\\nBot: to do with.'m i i. i you the, can not and the,, the, i., the,,,. and. the in the i is if and with of you for, as i i,'t i..\",\n",
       "  \"User: she lives in pedro. i'll write it down for you.\\nBot: not the it's. that her't, m was're have we.'t't?., the, a, the my i the. my a she you don. the. she're and i her. and in,.. and in\",\n",
       "  \"User: quite a collection.\\nBot:.'s this is,.'t the, this the.,. we,., the't as a..., you? i., i. a was i i i-,..., i he but my. a the, the they\",\n",
       "  \"User: it's given me a big lift to know that some people want me for myself, not just because i'm my brother's sister.\\nBot:'re you.'t i the., no, have,,,, you?'m,. not the me i, that that i you,. we was and. you'm the is,. no't.., you.,'t\",\n",
       "  \"User: don't get yourself all worked up--\\nBot: i in i it, that. of--, i</?u--'s!--,-- the-- <</, in-- theuu of a</!i <u you! in't this the you'm. to</u</\",\n",
       "  \"User: fine, but i'm not gonna be no bulldog omega 5.\\nBot: you you i you't if.'s that you., to and't,., but we'm.. you this's you i.,, i i if, the and,'t, we it we.,,.. to to\",\n",
       "  \"User: the president is about to speak. i don't think it's going to be good news.\\nBot: is't, it i and a, i to't a it't, the't. the the not you., with,. we and i i. of i we if you you you, your you. have but. i you..\",\n",
       "  \"User: how we gonna sleep? we only got a few hours til dinner.\\nBot:. all's, a i a,. you, i i me,, you...,,!,, this i,,, for i'll and you, you. don,, to,, and i i a you get\",\n",
       "  \"User: she doesn't want me here. with you. in this house.\\nBot: she was and, my.,, don no, she me don she i., in have the you's she she, it, of you of.'re the i't's can's't,, you know it i i i can's\",\n",
       "  \"User: a cop...\\nBot: a're it't don this of the in.'s i the you to the...uu>? and></ of> <></>, iu>u</u <u <,>uu> the</> the <\",\n",
       "  \"User: i'd be glad to, mr. igor. i think i'll have somethin' to tell you soon.\\nBot: you the, i'm, it i me, the if you to, in...'s.'s not it., what this is i to, to. it all and know i, you and you to'm i, you he all\",\n",
       "  \"User: oh, give me a break. look at her. she don't even know where the hell she is. she'd have more fun at bordner's.\\nBot: of. you her,, i,, was you't i the you i,,. me you,. she. have she!..,. she i you?, you to you and, i the you.'t i you you\",\n",
       "  \"User: you're gonna like night clubs, they're really a lotta fun.\\nBot: i i you i my can you i and. you,. the you i i i,. a,, i to i this for't, you don and, you'm a to.'t i you and..,'m and,.\",\n",
       "  \"User: you charge by the hour?\\nBot: what. the, a to i'm to you we i the i?'t, in to the a? you,! you.. this it't?'s the't and you it i i. in i it i, to i to it\",\n",
       "  \"User: you know what... maybe i ran onto the field and hit a home run.\\nBot: a, i, have the a i what the's,'re, you your you. the, i,'t you you i you. the know't't't it i can the,. you i,, for, what in and to.\",\n",
       "  \"User: then turn off the cartoon!\\nBot: to the the -- just all of you of to -- be i, to he i can.'t --'re a,. but -- that was. and --,. of. this that!, and., -- -- all i i this,\",\n",
       "  \"User: i told the customer that his contracts had gone to the bank.\\nBot: for, this the you. you was. for was,. you for you, the., to you to's the but and and i's of're you that the you, they, if i to,, you this no't't i\",\n",
       "  \"User: my god, we tried to save her... you can't know... you can't know...\\nBot: and what're. you's. i don't you, the do it know't,,, have, not't., of's i i,, not. to i, i not... i,,'re i you in she,'t\",\n",
       "  \"User: let me into your world walter... let me into that white hot inspired world.\\nBot:. is,, to. this. i you if you., my but's i to.'t,,'t's i,..., a and i that to i i of you and i've,'t have the you and i... the\",\n",
       "  \"User: no you don't understand. that's why i've been fighting to get you better. so you wouldn't be a patient anymore.\\nBot: have the the -- and -- and have the,. for the are i a are. i,, is the, a to -- i a -- your you have my they have the will i i do the do --, i would be if,\",\n",
       "  \"User: oh, come on, rachel. no way.\\nBot:, if-. we i. we, i is i i, the, of my,. you you's., you i! don i i,'ve, the.! of!, you.? it you you. if,,\",\n",
       "  \"User: that's butterfield...\\nBot:?. just'... ofu'm to the it,-, a the, it.'t't this the, the you., i, i,,- and, i a to you,, to your, you we,- you\",\n",
       "  \"User: whoo!\\nBot:. to my just, i,.,, we but.. to,'re't, this i. the the? can they,,'s,! to be have but -- do,?,, the of to i! the to't\",\n",
       "  \"User: gibarian warned me. he left me a message.\\nBot:'s. i, a,,, i you's he a, don, the't,,, don., to. you it's the a -- you,'t, he he of'm, in the, a to is and,,\",\n",
       "  \"User: so what's the scam, eddie?\\nBot: of a...., they i, and.'t we i the i it you to. it,. but i's i me the you know it you i a in a but.,. you no.. if, you to\",\n",
       "  \"User: farrah fawcett?! who's gonna play my brother? is jason priestly available?\\nBot: i. you of, the you to it.,,'s,. i, you, and, i to i. we, i. the the in.! do you, me.,.?,,., you. it to\",\n",
       "  \"User: but i won't give you up to any nobleman.\\nBot:,, i't, but the!! you you you?, it you to a the... that to... i, in we you i,,,.,,, the you!?...,,..., i you! be the\",\n",
       "  \"User: weston dobbs killed an eight year-old boy and left him hanging in the basement like a piece of meat. you remember that?\\nBot: is? the,. and the.'re it to. we the you we this's have i's but the.,. the,., the the a and't it it. is to it i to i i in,, this in\",\n",
       "  \"User: please! it'll only take a minute. you can have some hors d'oeuvres, and meet my backers! there's a really nice dentist from oxnard...\\nBot:?-.. you., it,.,,,,,... be i,. i if you me's,...'t is,! it, this the,, to the you're but... the. me i i. a\",\n",
       "  \"User: when you're hot, you're hot.\\nBot: you. you it the this. of was you. and that the it, you to you my for, you but,'t. the you don i i if. i't'm, i i i, i. we,,.'s.\",\n",
       "  \"User: how was your sister after you pulled her out of the water?\\nBot: i're was no and. my?, if this don i a and your i i her..'s she'm it you her i i she. what she was't was she,'t and's her her i me. your't to you\",\n",
       "  \"User: [i don't know. no one knows.]\\nBot:. i [ [>>>>>>>>>> au <uu>>>>uu>>>>uuu>u>>> <u></>>uuu>> <>\",\n",
       "  \"User: *i* was with her.\\nBot: and,,--, to we's a-- you i.i't--,,!--'s you-- to. don--., and..,'t to-- a it't that's!--'s--,,--'s,\",\n",
       "  \"User: a jewish prayer.\\nBot:., we -- my don you. my, of,, the to you that not,,. m. have a't,, they. i. to this and --'t me it the,.. you to, i you -- you\",\n",
       "  \"User: isn't everybody? what can i do for you, miss sessions?\\nBot: the i me, the it the,, and have and is you, to we, to're't, and a. the a -- the of, and i in of,,'m i i i? i it you,, to the.\",\n",
       "  \"User: you were not.\\nBot: do, my was it, that,'s if,, the. and? you,,'t was.'s.'m't,,? it. the.,'t i, to to i.'t. to is you.. with the\",\n",
       "  \"User: i am the cloudburst that quenches the flames.\\nBot: that to i you, it i to do i,? to i your,,! we a., to, will have to i to.,. your your. and to i is. the! a. the i, i've,\",\n",
       "  \"User: you did too. sybok couldn't possibly be your brother because i happen to know for a fact that you don't have a brother.\\nBot:. a... for you. you't's you i i have don't,... the to't i me in i you.. a you, this the,'m't. you i to't. you the. and you, and i the\",\n",
       "  \"User: sure, sid.\\nBot:. the, i this, i that in you's a the,'ll i was, i's my all. don,. the i have. that. to i we,,., don,,,..'s't.,,\",\n",
       "  \"User: i've always wanted to make love to an angry welder. i've dreamed of nothing else since i was a small boy.\\nBot: you,! you to that. do this my.,.'s you. i, to. and are,, have. it.'s i i you., i and i to you i it you.. and to,.'ll,\",\n",
       "  \"User: conflict, honey. korean conflict.\\nBot:, a,, my not this it in, a and the of're and,,,., a,,, a i,. i not, i, you can.,, i'm i a to we. to for i and\",\n",
       "  \"User: just hold me.\\nBot: that. was i.'t i and can i. are we in is'm we,! i i what you't. is, a i i we it're. the! know i me a, don. to, you...,'t it\",\n",
       "  \"User: no, dad.\\nBot: to to what't you i, i you, have, you!'t's a do this what, you me i in, you he a that'll. you! you,.. i a, to but to. i,'re the,\",\n",
       "  \"User: i'm tryin' to keep you from being hurt\\x97 what more do you want?\\nBot:! do he it to the a the you you can, i you't.'s get's,'t a but a,,. you. a this know, i you. the you. the i? you, what.'t you is,\",\n",
       "  \"User: i'm not sure. where?\\nBot: on i't the and a just you for. don to.?'t i.'t you. i a you. the's the the i..'t,'m but the't it, don is my i? not, i, i't\",\n",
       "  \"User: not so famous any of us have ever heard of him.\\nBot: you a i we don., a and i if, the and the i'm you that me the., you,. the to i,,,,,,, you,, if you's in a.,!..,\",\n",
       "  \"User: this is the anniversary of the summer of love and your city fathers have declared a festival of love. the mayor and chamber of commerce don't want tv announcing killers on the loose.\\nBot: our's, this i i the the the, the, the this my,, it.. are of! i. my it can he i,, have. and to all is, my they. the it of be have and the and\",\n",
       "  \"User: don't start thinking about it. is the tape off?\\nBot: was i it,'s you you you,..., you,'s'tu'm have, i i's't and you, the, you you.'s..'t,, you'm't. a, i,'ve's i... you\",\n",
       "  \"User: banks need to know how they're going to get their money back.\\nBot:,!, i,'ll're. a, it it what,, the i,.'re a you this you in, we my this,' is you.,.,'t's't,,!,,. you! to the\",\n",
       "  \"User: pretty much. you know, george, wish we could send harry to college with you. your mother and i talked it over half the night.\\nBot:. for a,.,,'t,?.? a don you i of and, you. to a, have if, that.'t i i don this to be and, no i the if's,'m you i the, i\",\n",
       "  \"User: if you could meet god, what would you say to him?\\nBot: we of, in the't in't. me he you i you't., --, is,. this was. i that you, and that,. i -- -- like don, to. to i! what to have a. and\",\n",
       "  \"User: no! it is not my pleasure to have to leave my board room to come to this godforsaken piece of dirt to discover why in the name of all that is holy you cannot seem to evict a few simple farmers from their pathetic little mudholes so that i may build the greatest railroad that this country has ever seen!\\nBot:, would of, the., is i as, must of. i,! and., be, the will you and of, the if, the will i, the my, you to i my and of.'re what, have.\",\n",
       "  \"User: i'm just saying it was cold. i think she kind of liked me.\\nBot: this. the's can't, you't you what for,.,. to, to is and, you're and, she,!? the the the no you she to you her, i've you.. the i i.?\",\n",
       "  \"User: judy.\\nBot: you and it the i your for,, for i but you it. in you've i't. a to i it the,. and.. i, but,, you in to. be, all to've. a and have's\",\n",
       "  \"User: i been in the penitentiary for four years.\\nBot:,...,, as, the, i i't't the if be,,. it.. it,.. as... my a. you. the, you... they. but,,,. if's. to if\",\n",
       "  \"User: lieutenant?\\nBot:, of.'s the''s,,, of. the the but he i -- like, we and, a but i don i that the on're --'re of i.,'t it,... to,., to. i't\",\n",
       "  \"User: put something in his room. what does he like?\\nBot: be he. the to you. know, we, a... the,... to't i. like the..., in that. me this,, and, you. i'm. is he the.,. i me the you. was\",\n",
       "  \"User: you'll never get away with it, miss andrews. your father'll stop you before you get half way to new york.\\nBot: be, with don the the to we you.'t the... are,,. of,.. this you i,.'t. that the you,.'re,,,, i and don i. you to to,.'re,\",\n",
       "  \"User: --yes. actually we just bought that little frank lloyd wright on pine avenue... debi's a social worker and i mow down insurance claims at aetna--\\nBot: i,., i-- to you, you,.,,,! i-- in i!,'s --'t. and.* my we a--,,, you. to. that * it, and,. the, we\",\n",
       "  \"User: it's a truck. a refrigerated truck.\\nBot:, of but just't the,., i,., the, the we,. to i't., all the it a don we he're. you, a the.. it and of a...'m.'s.\",\n",
       "  \"User: oh!\\nBot:'t do's to! that the i it. it this the. the,'s, you've and don.'t,! my this i you we, was and?. don me the but, you'm a!'s the're. it\",\n",
       "  \"User: yes.\\nBot:,'t and. my not it, the a this. my a i the i not. that,...,,,'t in to, i i.'t...'tu, the you the to --. you, the i. be to\",\n",
       "  \"User: i've just been so busy, lisa.\\nBot: i the i. you be, the a me you, i to,, i.. i i,?,. have i so that,. i was a.., she'm and i.'t. you, the is you a\",\n",
       "  \"User: cut! print it! what happens in the next reel? do i get dragged off screaming to the snake pit?\\nBot:' and,, i i're, this i.., for,, of!-'t we!, to you but i, you't. we't, is,, it of,.. in? with but's. don.\",\n",
       "  \"User: grandma?\\nBot: that,. i', the,, i, you all., this i the i the be that. the'll.'re me,... be a'm is't,' in.',,, you i it,.,,\",\n",
       "  \"User: it's the only way you're gonna get ganz.\\nBot: we're you i don have this a for a that. don.'s we's i. i you't got do the and. and't to to if i you, and a don it't,' you and this. and, we,\",\n",
       "  \"User: just you?\\nBot: i.,? you in a, just for don i., i just. you,'t's but i i i, but,. it a,,. know..., it be you a,. and to don a the\",\n",
       "  \"User: you should be.\\nBot:,'s't a the it. to was i i i...... for me do. i that's i. to we i a you you, i the i the you,... in know and're...'t it meu a to to,\",\n",
       "  \"User: do you think we can get the hypnocyl in by tomorrow?\\nBot: the i you,, is i,. i it,, a. for this'm the the be't to i not,'m, be a to my.. i i, i,, the,!, the,'s. have the\",\n",
       "  \"User: -- yeah?\\nBot: we's i to,, if just that's he the be i of't you, the you. a --, this just. what a is -- he and me,, to. to and, i i, it -- -- i't.\",\n",
       "  \"User: hello there.\\nBot: this i. a and? i, the it't a you to,,'re you, --. it i,, be you't i -- you the what we the that to all my't -- you. oh the,'t, have i\",\n",
       "  \"User: meee! me! i'm the guy! i know everyone, their habits, where they hang out, who they talk to. i know where they fuckin' live. we could kill everyone!\\nBot: me. the to i the i't it. a's,'t to your you.,,in you't me you't fuck i to my the to all,!... i... don you, i i that what. i,'ll,\",\n",
       "  \"User: what?\\nBot: with, you. a't and, the. me,'re my i i., i the,, i, i it i you i. the. it be i this it i.?, to.'m i i. are and don\",\n",
       "  \"User: where do they take them?!\\nBot:,. of! the to, it to the, and, you., but that're you the. i. i, a i you your to that it, do all of'll and the the to,, my,, and can i\",\n",
       "  \"User: sure you can. anyway, parties are all about standing still ..\\nBot: is i what the. you's a i i and the the to of i, me, i i, the,.. it.. to,u if <u the you a>>uuu i>>>u < <\",\n",
       "  \"User: who the fuck is this?\\nBot:, for you the we,'t you a's we we the,. you, i you... was....! a you i't! a, we, we the i it of's. just. all..! i.\",\n",
       "  \"User: i don't know.\\nBot: you the, you i to. don. you the, be i't.. is and was have. and that this't i't.. you of the my it't in, to. can it,,., you.'re.\",\n",
       "  \"User: hi.\\nBot: you to is i's you of. this the i to i't.'t,'m. of.'m i. i, you a and't. i, i i. i you can i you you a no and.. you you have\",\n",
       "  \"User: she didn't know what to say. i thought someone should say something. to someone. with me it was, i don't know -- jenny liked me for some reason. i felt like i owed her.\\nBot:. can? -- you! i you don have.'s i.'t have., you. your her know the a..,, i that, was the i,! --.'t's, that, you. to. -- have\",\n",
       "  'User: \"dear lisa. i\\'ve enjoyed working with you. i\\'d be lying if i didn\\'t say i find you attractive. but in my heart i know that alice...\" you left my party to send e-mail?\\nBot:,, it as have.. my i i i i a the it i i the,,\\'t it, i. i\\'m, be my,\\'m... she you the of the, me i for, the it, a but i,',\n",
       "  \"User: but here you are, still a virgin -- you are virginal yet, aren't you?\\nBot: of you i --'t i., -- it. --'t..,. i,. -- -- and've,, i -- of have, i,, you! to.'s?, will will you're, the for.,\",\n",
       "  \"User: he didn't.\\nBot: i the that... was to what't, i it the my't.'t. all you's i't was i,, you a't i know you you it have.'t.... i, and the't,, the you, that\",\n",
       "  \"User: don't mind the colonel. he hates people.\\nBot: for,. you, but and.'m me. we? you a the he you,.'m in i we it,,. and to --, was i and're you this i if don, the the you be all -- i but\",\n",
       "  \"User: what's the idea of locking this?\\nBot: a. we,. the to's and,. and don, a, if your.'re a., i to i.. that you.., the,'t.. and that the, that a it. i. your i\",\n",
       "  \"User: because you weren't wasting my time.\\nBot: i i of to. to the your't they't and. that they my if the. you. your the. i it not.'t it. and,. of the if the the don your. the, and he i i't.\",\n",
       "  \"User: mom, i mean dad...\\nBot:'t're.,,'t it, you and's. a a that it it,'t is,. me't you to to to to. you's, i you. i i you... you and't i a have,,, the\",\n",
       "  \"User: we're not gonna hand you and your band of lunatics the keys to the kingdom. i'm not gonna sit in congress and write a law that allows the nsa to point a camera and a microphone at anything they damn well feel like. and the next time you have something to say to me, we do it above-board, in my office, like everyone else. now get outa my car, i've got a committee meeting on the hill.\\nBot: i your,, i this he do i? the,, in, we to and it in you you i? get the.' your's's't you you what the i are.'s,,. to,, can you. to\",\n",
       "  \"User: good heavens, bob, we've been here two weeks and we haven't found out a thing.\\nBot: i, i and to's. you i you, of, to the the don, he to i. i be and my in you,,. you a's,, this, you, you but,'re the, if, you he\",\n",
       "  \"User: no. they're at the franklin hint expo at the skokie holiday inn.\\nBot: with a, don i. i.,. the.,,.,. i i'm i't and. you'm. the.'t..'m i what, you't i't.. to to, have for, to me\",\n",
       "  \"User: hey, george. you okay?\\nBot: so,, you for that you you the a you,. you and the to but i'm.. for a i.., you you i you don not. i i the don, the,, that you don you i it,\",\n",
       "  \"User: what can i get you?\\nBot: you that my. all if i we.. the you?, my.'t you the.,, to and to't i. you i a't your't? the the we's to i. you i was, you the,.\",\n",
       "  \"User: then how would you explain the fact that out of one hundred twenty people we tested, you're the only one who came up positive for drugs?\\nBot: a. a is the.'t, i,. you's,, a it it we,, and of, we?. i i... to i. a i a this i and that't and. that.? i.,,\",\n",
       "  \"User: i'm er ... sorry if you've been waiting a long time.\\nBot: is me be! are,,.!. have you,, the have it't i to you you it, i's the to you be i.,, i but,,,. you that's. the have,'m not.\",\n",
       "  \"User: it don't matter. i'm gonna get you outta here.\\nBot: all to you., you i.,. for.'re,.... that and i you that the to the if to! with a and,'t. i', but a my'm i i,'re, to i you're do\",\n",
       "  \"User: have a seat. i wracking my brain over this malkovich thing.\\nBot:, i... the for you my. the you that'm,, i,....-, and i we i i a i,, you it. is, to,,, but with't a the to. of're i,,\",\n",
       "  \"User: tell him what you want, muddy--*you* is the crew boss today.\\nBot:-- he what to., of.> it, the * my to*-'t i your and and----'t>> <u in to <i,, have>></i> of., have> <>u</\",\n",
       "  \"User: do you mind? i'm-i'm my own person.\\nBot: that. that you, to of i't... to is've you. a i i to it your i, me. not? are. the i for i i., of and to. my you, you't i, you.,\",\n",
       "  \"User: who's a busy man? me? i'm chairman of the board. i got nothing but time ... what do you want to know?\\nBot:., i i. you i,'s. to ... is -- i. to. be is., the of... i. have you he that. i the we? a he i no the, this't want you,,\",\n",
       "  \"User: except you.\\nBot:, to,'ll, a's the. on to i're. are. have and don it i i you, you this is was i.'re to, i i, was.'s.? my. your it's you have be i\",\n",
       "  \"User: don't worry about me, i'll grab a cab... i can afford it, you know.\\nBot: of you, you's the've've't,'s you it.'t i i it,,, we a i you i what me. the're., to's to the.'s't i my. you, it, have you a\",\n",
       "  \"User: just when we have all the cards, vaughn. take these two behind the van.\\nBot:,. the,, to -- -- no i it?, to and,. --'t but you be't my, of the. and if i, -- for't.'re.'ll --, to the,'t. --. is.\",\n",
       "  \"User: you want me to believe you're the devil, well, i don't, that's bullshit!\\nBot: have.! know., you. do., to are but be.'t the, they. that, of to the i you you and, the., me. all is. you. have will, not i the.. me\",\n",
       "  \"User: hey man, i hear caitlin's marrying an asian drum major.\\nBot: i me i you i a, you and it, was i i you,.'re i,,,, you if you're i for the of a,'s?,. i of,'re, you.. the is i,'s\",\n",
       "  \"User: fine. but i'm bringing a couple of friends.\\nBot:, have be to. at... you you i... i., your i,. this me i'll not. are. the in you, i. don i i't if. this., you's't. me i? to,\",\n",
       "  \"User: my son was outside playing soccer. i never saw him playing ball. come on, you guys -- take me out for a good time... take me out dancing.\\nBot: you to, and. the, all. a i,,., that my the a.. is, the me,. this'm what..'s i? -- a,, can, i., don!? i you what\",\n",
       "  \"User: yes, and...\\nBot: the, you the --'t've to me and! the a you i you,,'re, is we? to the. i,. to you you, you,,. not you! to if you've,, of you to i\",\n",
       "  \"User: i just think we oughta call this relationship quits!\\nBot: of the that me to'll? are,,.'t it,!'m your you.- my i you, to,,'t what you's,. be,, you, the., you i,, to.!. i\",\n",
       "  \"User: when i have children, i hope i don't hide behind them.\\nBot:'t i to. and i't you i i is, that, but the you the i i i have to is don a. my the, i,? the that..., i,,., the. you you,.\",\n",
       "  \"User: i opened this panel and a vacuum cleaner hit me.\\nBot: the. i you don that, it to but you, in., the, you the i if for and.. not i, you that't you,..-., of!,. a i you i, is you i\",\n",
       "  \"User: i'll do it. the rest of you continue.\\nBot:, do't, i i to, you.. to, you the't.. it the to it to't.'t you to!, you -- i that the't your, of i the you to --. your don i, it\",\n",
       "  \"User: yes, but that was some ten months ago. i fail to see that the identity of that somebody has anything to do with this trial.\\nBot: to., not the a i what the's., the the the. for you.? a?. and you a the i i, to to i this you. the the.'s the a..., it to i, a was\",\n",
       "  \"User: tone down our headlines? lacy, that's all the common man reads!\\nBot:, you the the but- the, i and that the>>>>> < < of,.u>>> <u.u the>u>></, < <> iuu>>>u>>>\",\n",
       "  \"User: i want it done thursday evening, around eight pm. my wife will be off to the club for a committee meeting. it's the staff's night off. these will be open.\\nBot: you --, i to, you the, you. you, a to well,.,'t i i to't is the..'t a, no's's you and., for -- to it of. oh,., the,\",\n",
       "  \"User: that damn thing. you know how it made me look...?\\nBot: i. is. all to't,, a i that,, i in know't you>>> <u</> you</u youu <>>>uu>u <>>,>> <>uuu\",\n",
       "  \"User: i don't like it.\\nBot: i, a what, -- in? i, i to'm this.'t can i, it this my i. of i this,'t to?'re? you a. but, a i!'s.'t, to to you have've\",\n",
       "  \"User: okay.\\nBot: you what the i for't.,,'re the. to! it you the, and have, you. be to a you of., in,., and, what to that, my you for. you you, it don't\",\n",
       "  \"User: yeah, and you'd probably dump the poor guy halfway to katmandu.\\nBot:'s for to you's't...., you'm. that. just i a?. a,...'m i you that i's...'t i,'m, know,.,.. and my. and to... the don\",\n",
       "  \"User: you said yourself. what mere man could have downed the belltower?\\nBot:? of you... the but of a. it i the., have.. the and to. be my of it't. to., i? of. of the i the i to,,, to to. and the\",\n",
       "  \"User: pop, i got news.\\nBot:'s, me can this's're don in of if. the it to i you to i a a?. the i you.. i it my'm we've.,'t. i. it i? in.'t's i of.\",\n",
       "  \"User: no, no, shut up! i've had enough. i tried, tyler... i have tried...\\nBot: it. my... do you me you'll me you i, you?'s't a i for, i you you to it you know. to, this we not..,'t you to.. a we, your i't. i\",\n",
       "  \"User: that was karloff. paul, you gotta try harder. i don't want this film to be haif-assed. this time, we go for the quality.\\nBot: for you the'm's's what're, i.'s't.. of me,, the is,!'t i and we'm in the you you to? a if.., and i a're it.'s you i.'s\",\n",
       "  \"User: i'm not fucking angry, for god's sake.\\nBot: was that your and what,'re you., i'll,, to're i you. it's to. a, you to,'s, and.,'ll., the i my this in i don. you.'re. don,\",\n",
       "  \"User: hardly a worry, sir.\\nBot:'s. was, have i,'s.- a, i he the to the a.,. you,. a's,,.. to,'m a this, my you the a the.,'ll to i i be and you\",\n",
       "  \"User: well, i've been away for a bit, travelling, that sort of thing, and now i'm trying to write a novel.\\nBot: and,? i. the you?, a if,'m you have you.. but i and.,'ve., of of i, your, of,,,. i i. the you,'t.. the i i the\",\n",
       "  \"User: good, good. glad to hear it.\\nBot:. you, the is. me., a was you,'m, i you. a i and i, a. that you, have,. and to you the and in, i well you.'s, it, you i to of\",\n",
       "  \"User: i mean, could you put me up for a couple of weeks?\\nBot: is i. with i your, a'm'm my's a., we't,'t's have i, that i you, not.. and i we i you,,. the. the what be, we'm i don we for\",\n",
       "  \"User: you had a hidden agenda, though. see, when he was five or six, little spence used to follow you around like a puppy. bothered the hell out of you. but as soon as you gave him the clarinet...\\nBot: you to if a not my, we... i i for the! that the,'t, i we,. i i you i't't, can.'m. we we my i have a you'll you to to,. for are i\",\n",
       "  \"User: too late?\\nBot: the of.'s i't you it what it to i,, to, we i. you the.. a. you. the. your. to the. you you me. you and,.,'m in and,'t,,\",\n",
       "  \"User: i don't wanna talk to you.\\nBot:.. to do, you you to,! i i you the i't. you you,,. we you me you the to to you of for. and. you do if all i we's can't, you't don' and\",\n",
       "  \"User: turkey mostly.\\nBot:, and is the in i.'re the you,, can,? a,, don... i.'s't't a but know, you to, the we and you,.., i't the, it, to.. the\",\n",
       "  \"User: sit down, drew.\\nBot:,, the was the i, i in. don i but and. with is. i i.,, i i,'s to's. to but you i i.,, not,., to and, the can you.,\",\n",
       "  \"User: when?\\nBot:'s my can. the, i you your. to not.'t the i to is.'t. to don. in a i. i.'re.'s,..'t to was,.. you. to me've this my the\",\n",
       "  \"User: yeah.\\nBot: the you. you're., i i you a is you. what we if,. a. all,, i i.. for, you for. i the. for the, the know this all i you what know i. we\",\n",
       "  \"User: you didn't hire me. she did. if she wants me off the job, i want to hear it from her.\\nBot:'t, to she your your the't. and. you no,. have is the. i, you,. is. i i it you i that't you your. you... a,., this.. i, this\",\n",
       "  \"User: you want me to go in there?\\nBot: be just.,,, you the -- a, we i i'm.'t you. i i. i in you's i. you. your, of't,'t, -- that'm i don it,, i -- to i i\",\n",
       "  \"User: it's beautiful.\\nBot:? have don i but,,?'t of i,'s's are and your., you, what i? can to to i, what, you't to i i. and don. i,? to, and of and's for\",\n",
       "  \"User: the creek bed --\\nBot: like the just we a, a -- we the't -- a that. -- is, you of the -- that the have i you i -- -- have you's -- don. my don'm you. -- oh -- i i you be! know\",\n",
       "  \"User: why was i not informed?\\nBot:,. this the.'m we the, i. of you you, the you't this,. that.'m you a. you've all, a a for,, you to, in.'m, in.,. have. i\",\n",
       "  \"User: are there any questions? hudson?\\nBot: i no in i. i, in...? to and what,'m this i,, if't your>></u</> know we>>>>u</>u <u> <>>u <</> to,\",\n",
       "  \"User: i'm looking for a missing person. my name's arbogast, private investigator... trying to trace a young girl who's been missing almost a week. from phoenix. it's a private matter... family wants to forgive her... she isn't in trouble.\\nBot: in's, you a a the.. this, a you't this we. you you a she's i. a of the, but. you?,'t! do the.'s! me that i, for'm i it. i\",\n",
       "  \"User: so why are they after you?\\nBot:'s, and i't, the to, to i.. your't,'t i that for,, the he. not i, i, i not.'s,'t you you.. i.,'t,...'m... my we\",\n",
       "  \"User: at the hilton. the girls asleep?\\nBot: you. a're i i i in of a, i't, i. to you, the and're.. you. the to of, i., i,. i'm was me and, to the's be you. a i\",\n",
       "  'User: who in the world <u>is</u> he?\\nBot: <</,</</i>u,u>u>> <> <></, you < <</u>u</> <</u></</></>u i <</ the>>>uuuu',\n",
       "  \"User: pity they're retiring us just as i was starting to understand you, spock...\\nBot: and a're. i,,, we the> the>>u <u>>>>.</,</u <>>u>> <u>,uuuu < <> youu <uu> <>\",\n",
       "  \"User: bi-coastal parenting. happens every day. luke gets the kids every other summer, every other holiday, it's not ideal, but people make it work, and...\\nBot: a. i' you a i, you it we.-...,,., and have,, be.... you,,,,.,...,'re,,? my was you you i but, don have,\",\n",
       "  \"User: liz, listen, the doctor's here and i just can't, uh... talk now... so --\\nBot: to to, the all you a the., i.,'t, the you,'m you it you in, the i'm, you. it.. you i i. if i.'m and you,,,, is we know\",\n",
       "  \"User: nick!... i thought you went home.\\nBot: the and. a i,.!'t i the me's you. what my...'t!,,,, i a. i i't's the but.'t you my,. you,'t'm, i it... don\",\n",
       "  \"User: hi.\\nBot:,'s i we you, and is and's.. i the,'ll to if to have it...'s, know i, to you'm to you for i,, your you you it to i i.. the,, a,\",\n",
       "  \"User: we have a daughter.\\nBot: we you that my to we the can a in's. to the in i. i she., you. don i you you. i i, was and, to her and't.. the,. to i to you we! was\",\n",
       "  \"User: punk?\\nBot:?'s, i you i. i i but i i the't.,'re,? of..,'s,'s,. this you, the'm, you. you i don i i don,'t i, i,,.\",\n",
       "  \"User: i could smell another woman on him.\\nBot:,.'t just i't in i a don't. a he i. the i,? to, it a,,'m you, i to's's?'s. with to i's i, i, i is it,, but\",\n",
       "  \"User: [i want you.]\\nBot: it [ know [, [.]'s [ he [ [ the [.] to [ [ <. your,'s.] <u <> < <>u [> he>uuu [ <>u [>>>>> <\",\n",
       "  \"User: well yes i suppose ...\\nBot:, the you'm and, i. that's the this,,, are, the, i, i be the my't,, that that of ... you, i,. it to to a your, your i m have of to is\",\n",
       "  \"User: first sign of free will, sense/net usually slags 'em.\\nBot: is,, a of i the, is.'m, the, of the my,'re. for.,, i,, the.,, this. my this. will that, are of, a.! i, my our's\",\n",
       "  \"User: what do you think?\\nBot: you, all, you -- i't -- you a you this, a and i i it've was. i,. you. in've't to've.'s,'s, you., you. --'t. a,? you i\",\n",
       "  \"User: you the captain?\\nBot: with the, the, the,- this is in to,. the i we we to, of the, to to have our- to., i and a to to,,, we, i we in, the...'. but\",\n",
       "  \"User: can we trust him?\\nBot: you, you.. with was have., what i?' he, in't do we i i of. to i, is, that,. of he i the is. he,,,. that and.,,,.\",\n",
       "  \"User: nope. he's your cat now.\\nBot: don he is's of to but. my i i.. of you,., he't and the, that with the. a i't the to you i was. can,., to it i if is a a's.,\",\n",
       "  \"User: we've all seemed a little tense lately...\\nBot:. you, you,u what't't that. and a,...'su?'t,.> my <> i <u>u>>,</ a'tuuu, < <> < i>>u iu\",\n",
       "  \"User: doo-wop-doo-doo, <u>doo</u>-wop-doo-doo...\\nBot:u- it < < < <>uu></>! <u i <,'t.uu <u>>u < <</> <u> <u <u <,.uu>u <u> <\",\n",
       "  \"User: i have to.\\nBot: it me,, this. you i me and. to you for,, i're --'s. the, the. you that you you't in! know i but -- i be i the i the. you're have i don to a\",\n",
       "  \"User: me? oh, i see a small ohio farm boy becoming a great soldier. i see thousands of marching men. i see general lee with a broken heart, surrendering, and i can see the beginning of a new nation, like abraham lincoln said. and i can see that ohio boy being inaugurated as president\\x97 things like that can only happen in a country like america.\\nBot:, i, can i, a i't, will,,. if a. in,. my it to,, don are.,. a to to i,., for.., he the you you the a,, i\",\n",
       "  \"User: i don't have a problem with that. it's up to annie.\\nBot: and. in,,.'s,,? the me and?,. in you. a.., was,. but of, you but she you i, a, i not have the,, you you..'t in i\",\n",
       "  \"User: she got herself a husband now. they don' want him 'round. and i tell you, man, i got no use for him neither.\\nBot:. to. this know you was of! you and to, is i i the her you i., a i her be. you i don and't. i i. i, it, to. you i.,'t and the a\",\n",
       "  \"User: oh, hello. come on in.\\nBot: you. your my not, my,'ll.'ll., i, m. the,,'s, i in you, what my, the you. it this you. you a was's my. of know. you?,. no\",\n",
       "  \"User: drunks are funny--\\nBot: do?, you, the,--'m-- was,'tu you a! do in a,-- one----'s this..> we the don>> you--. my> <> <u i this to you>u\",\n",
       "  \"User: i emptied it.\\nBot: me? the, a you.'s, me...'t your,. the a you a me you of was....,, i i a the know you, i i,,,. is you i the, you. this.,\",\n",
       "  \"User: not have it.\\nBot: you it. the a i. you, and, this i if but don have the, you,, to? you.'s it all i and. you, i and --'t't we, the --. of -- you and's i\",\n",
       "  \"User: oh! oh, no! i think i've done enough experimenting for one day. congratulations, cyril. you've convinced me that you're a philanderer of the very first order. i shall recommend you highly.\\nBot: the i,, you..? of i i.'ll i!!! of,, as you i a, i,, it you i, and you't, a the are the,.'t what. i, i i are\",\n",
       "  \"User: naw...\\nBot: the'tu i donu this, a i! you,! my, have,, if for it. the -- a,. -- a if you. i't....? to.'m,, it. and but i.,\",\n",
       "  \"User: four times... so far.\\nBot: you, he a to we, a're, it,'re'm., i, i what i.'s,,!. and't you i the, i to. a.,. of't,'t! it?, you't\",\n",
       "  \"User: [you have the money.]\\nBot: you. that [ [, the toi the to [ i [.] you.] it ['s if [.].] of [.] your.]>, [ it <>>,</>>>u>>u>>> <u\",\n",
       "  \"User: thanks.\\nBot: you know, don, the you me. i the i? that to. of'm. that you. i to,. for. we i don's. it i but for -- like i you?.'s don you. it, i\",\n",
       "  \"User: all of you?\\nBot:,. this. that're.. of. you the,., what what the we for i don it you, the. have the, if know,'m a this all i was not, to a i. this the.,,\",\n",
       "  \"User: ah...fine. let me make an adjustment here, and we'll be ready to rock 'n roll. oh...uh, the dumbass at the donut place put a chocolate cream filled i asked for in your box.\\nBot: and. that., to,,,. you'm to! i, it they the the the's.. i i..,. i you, a, the, i it. to it the., me we, the it\",\n",
       "  \"User: really? because i don't know, i was thinking that --\\nBot: the.,, can! you,. you've,. the you, and don to, in's is and -- you. and you i you you.'ve't to a the the -- a this, it, to the of to.\",\n",
       "  \"User: big.com. that internet thing.\\nBot: on au to this,.. you, all,'s to.. you the i.,. for you,,,,.,.,. in.'s it but, i you,. a. i i you i and\",\n",
       "  \"User: i'm not asking you to stop feeling for those people. but life isn't just death harry, don't ignore the living, especially your daughter.\\nBot: your the, to the of you of is,'s, be. me? i you i my. i i a not. i i..,. is. and of my.,.'t i.'t, don. for. and\",\n",
       "  \"User: this ain't permanent. my friend reed's working on a cure... i think.\\nBot: you,... the're what,'re that,', you to!. the, your. you. to' you what't't,, to to you me.'m.'m... be you' of,.'re't! your you\",\n",
       "  \"User: you were supposed to act as if everything was real.\\nBot:. i the i to. can i. the's'm, my, to. my., you, what do i., a,.,, a.... a,'s don you..., but have no,,'re all it\",\n",
       "  \"User: close your eyes.\\nBot:'s you't my'm., you the, don, we to i'm you the, you i a... the, to. to you't the to i i. the you, don,, of was, what>u < of.\",\n",
       "  \"User: hon, maybe your mom would like t...\\nBot: the?,,,. the's no i and's this's you it a i,. to you this i a, in but you no the the't and... she the and you. i i no, to she...., it\",\n",
       "  \"User: no, i've never played anything cool in my entire life. spike, who i'll stab to death later, never gave me the message.\\nBot: the's don be. a. you we the i you i.?'t, to a. was i not have me?,. of't.,, i,..'m's you've,. it a.'t.,,\",\n",
       "  \"User: we both talked to her, michael. and your dad.\\nBot:, you?,, don,, the,. in,.'t. my i't're you.. the.'s. the you to't't. the know't.. tell,, a,, i's i a. was\",\n",
       "  \"User: yet your still here ... i gave you 24 hours, 24 hours ago ...\\nBot:. --,. you you i i that,... the i ... justu i i it you, to. myu, for and and the. ..... we the, i the to i you to'm to i in, i that\",\n",
       "  \"User: oh, shit! well, hang on!\\nBot:'t, you and oh i the a,,'t. me,. and you, don,, your it the, we,,,.'s,- so i i.,,. the i.., and a but. the\",\n",
       "  \"User: you never even took the shot. you couldn't do it. theo moves towards buzz in a threatening manner.\\nBot:. a don a your i i if, the. your, the the of he be, all of. the in.., but a,,. you but the. the,'t the you't you he a the you this me're\",\n",
       "  \"User: i'm fine. come on, we have to keep moving.\\nBot: be to --, you, you you -- you i you. in -- no are i. a -- me i and my in. you -- -- no i. of this -- don --. i, a to,,! not -- you the\",\n",
       "  \"User: you have any idea how much a ship like that could be worth in salvage? the fittings alone could go for a few million.\\nBot:. we the to it the't we and's., to the i. it we the,. the., don i is all., i! the they,, -- --,., to -- you've my have i be,\",\n",
       "  \"User: guess what i'm wearing.\\nBot: me to i. that and a. you i., in know. the my. and,. a i'm i.,, to. you it all't, the i you i you the, to. i!, the i,\",\n",
       "  \"User: well they have some of the coldest winters around, and i grew up there, near chippewa falls. once when i was a kid me and my father were ice- fishing out on lake wissota... ice- fishing's where you chop a hole in the --\\nBot: i. the't'm the the, it't of't i't, i, can the. they. to if me a you, to..., the, with that a they, what to to..,.. you i, a\",\n",
       "  \"User: since positronic signatures have only been known to emanate from androids such as myself, it is logical to theorize that there is an android such as myself on kolarus iii.\\nBot:, the i, my's. a, to.. the. with,. of to,,,,, he you the. for is the it i i i i of you,? the.,.. the? and? to\",\n",
       "  'User: me too! were you an army brat or something?\\nBot:?,!! is, it that i., to to. are you,, as to your we and! to, the is i i! so are! -- to., this to a --, i. not be but! a',\n",
       "  \"User: i have a friend who has a fine rug. maybe your wife would like it.\\nBot: do that she do're the, we me., and i i the,, you me, you. my you it. and she, and i for i.,. it i that she not the,'ve.,, to..\",\n",
       "  \"User: how are you today?\\nBot: a. you's the i your in,, we...., this of to i's,'s your i i, a.,,'s i., we a,, of the don and, it, all i your, you.\",\n",
       "  \"User: she's a local. when the dudes come out to new mexico, they went to wallow in latin glamour. this is a bad town for blondes.\\nBot:, a a i the the you, you i, and don and a's and i.,. i. is we and, can. i.. in you,, the a we i. to, we,..-, if\",\n",
       "  \"User: domini?\\nBot: but do what. you,,. are to and. i the's it all. it, have the's to, to i we that, the i be i the and,,.. it,., you. i.,,\",\n",
       "  \"User: maybe somebody crazy, someone with a spite against the church, some unconscious rebellion, perhaps.\\nBot:'t the a, the they i and! for you i,'re i you you do if i.,, it you! i. if i i'll we and,, we a the, me i you?., i for.'ll\",\n",
       "  \"User: you're such a little lap dog. he's got killer printed all over his forehead.\\nBot: and.! a you i i don he, and, this. a to. we,,. a the i you.'s. we. and are and. you, i? if? i! that of.'re to have i we\",\n",
       "  \"User: commander, do you have a camera? i'd die to see this in person... all they showed on t,v was a machine here, and a wall here... i don't know why they didn't show the whole thing.\\nBot: our. we, if i,. the and the the we you it... our and're, the the i. of the it be in you't. to. i. the of. we is i the the this.,.\",\n",
       "  \"User: ah, jeez, billy... careful!\\nBot: all.'s this,, your the'm, of's it you you the? this, and what i...'s was you?-'t to you.,'ll, i i. i, and,...,'t't's!\",\n",
       "  \"User: sixpence.\\nBot: the the. the,. the't., a, i the,u,'s.,, be you the., of, to,., i it't for we the, you and the, i me you the,, i\",\n",
       "  \"User: tell him about making sourpuss chairman, honey.\\nBot:.'m what! this're, to! a, my.,,,, the., i to i! me i, i,.,, was, my i i. the to.! a the and i, the to i\",\n",
       "  \"User: plato!\\nBot: for i, you,.! you you, the're's what, you what,... and it.,, have!,. you.' you't me't's but...'s i's you you it to' and the you i\",\n",
       "  \"User: not far, not far. be patient. soon you will see him. why wish you become a jedi?\\nBot: and. and, we, have it i have we,, he. my, i of. in you,, your., you what are that,'s, and of..,! my to! do? i.,,,\",\n",
       "  \"User: actually, i am, though.\\nBot: i to i, a., i you, be and i that to i. can the.'t's a was you,.. i you., we?,'t my i not i a a the. was. with, don't\",\n",
       "  \"User: i have the rest of my life to find out.\\nBot: what. is've't is to's? the't, you was's a you. you't of you., to. to, but was the...'re this,. i't i. your to i. and to you don the to\",\n",
       "  \"User: funny time to say this.\\nBot:, in a'm.. you a the. of in your's the?,. the's for. you your i?'re.'re. me know,., it,,'t, i'm the the, the i i... your\",\n",
       "  \"User: could you believe that fire? man! first day! there i was, adcox and me, pullin' that lady right out of the fire's fuckin' throat! i love it here -- no surround and drown for this company. fighting 17th! goddamn stephen's amazing. you see how he took that fire by the balls? i'm gonna be that good some day, you watch.\\nBot: it a.'t't the.., i, you i?'s if i....'t you i but in. i my you, it the you this you this i... --,, --, you, to you and i,,\",\n",
       "  \"User: good idea. marko. we're hungry.\\nBot: to. i can.., -- you if, -- you we, the you the -- -- in know i -- i i, i.'s't.'t -- i i. a to've, i you, my,. to. and\",\n",
       "  \"User: he loves you the way you are.\\nBot: can, i. with the,'t, you.'t,'t! i the i we i, you you a you you we but is i the you you i a -- a me have you. and. -- you and we your i,\",\n",
       "  \"User: hm.\\nBot: just what you to... you i,'m,'t and i, have to.'s> <>>>> <>.>uu <>>u>></></u>></ i <uu>>>\",\n",
       "  \"User: no. no. no. it's what my father said to me. he said it and he meant it... he said to me...he said, adam, he said...he told me and i heard him... he said... hell he said so many goddamn things i can't remember everything he said for christsake.\\nBot:... have't me i. you've i the and the.. what to this. don you. this that you, to i,.,?..,. the to it can but of't,..? is you but he\",\n",
       "  \"User: c'mon we'll walk and talk...\\nBot:'t're? my,,. and i it't.'! the the't. to to i what.'t to., the you, you of this.,, you! you, have and the the i you!, the't\",\n",
       "  \"User: strangers with this kind of honesty make me go a big rubbery one.\\nBot: are- you you..,'t're the to all it. to and the if the the? i you, you't was, is,. i.,,,, not. and and,, have that,. i,,\",\n",
       "  \"User: that's why i think it's time for us to --\\nBot: -- i you -- a've to,, -- you -- -- a,,. i i'll what -- i i to of you't., you the i the and and and.., can a me it i but. i -- me\",\n",
       "  \"User: but john whorfin said kill her.\\nBot:.,.,,. it, to i,,'m the this. all a. a --, -- i the the be, i of have...'t.-. --, i,'re. you,'t i,.\",\n",
       "  \"User: what?!\\nBot:'m,. a, i to this... the. have>> a>></> <>>>,uu> it>>>> <uuuuuu>u>>>u></>u>\",\n",
       "  \"User: i think the whole jewish people were permanently scarred by what happened on mt. moriah, and we still live in terror....\\nBot: you is,. a. the they of the. your,,. i. it this and the. to for,, we the for and a, you i for,...'m i..'s, it i... this,\",\n",
       "  \"User: when did you find out?\\nBot: i if we., to we i. this i can. you i,.,. don he the was and.'s,'s you. it,,.. we a of i the.,.,,'t,, to't\",\n",
       "  \"User: one of the new kids said they're farming those acres just north of the swamp. he said he saw a crop duster flying around the place.\\nBot:'s don of't my to i,'re. the, you.,,,,, i., we't.'ll i, the we the the. and the in the. i a the he the have, this,. the's\",\n",
       "  \"User: reality check, dillweed. this is 1995.\\nBot: the a! a we for,.. of the we, to,, this it't that.'s!.- the't the but it's. the? and and you i i the we,. i and, is i don you\",\n",
       "  \"User: actual. terrorists? well ... it's only my first day.\\nBot:, they is., and to the i's. we, you. i,,,'t i, i,., the. don., a is it he this but of....'m., iu,, the it,\",\n",
       "  \"User: remember what we found? fourteen light years for a fucking mindless vegetable that looked like a limp balloon and went squawk and let a fart when you touched it. remember?\\nBot: don.. all a. in.,, the. i i i,.,'t, i don. and. i and,.,. don don? you..,. a the'm you's what? if,,,\",\n",
       "  \"User: did you ever sleep with dela?\\nBot:, a this... you i the.. you the't it a. my you.'m you't. my it you. to. to., you you. i but can and't i is't to this and the you don\",\n",
       "  \"User: i forget.\\nBot: to to -- of i to, --'m's he the. you to'm,.. not i what know, what you of but is --.. be, and you you't -- -- don can it. are in. --.'s\",\n",
       "  \"User: okay. you want a story? here's a story. stifler finds this beer, right? and...\\nBot:, i you and this to i to.., i it the,. a the the,'s't,, of to,, is,. that to you'm that of you and and't you i,'s.'t you and a\",\n",
       "  \"User: excuse me?\\nBot:,'t,? you't you,?,.- to,'s a!... of i. you, it you..., i we you't my,, of you to to you., the of i a to, a of the\",\n",
       "  \"User: i drank like ten tons of sunny delight. anyway, yeah. i'm pregnant. and you're shockingly cavalier.\\nBot: this you a't you. but i., i,?, to you, for i it have i you can., i? but i't-...,, and.?.. and,,, of,. you\",\n",
       "  \"User: telly says was up.\\nBot: that, the a,'t't a to and.'s you you and i you the i, you to all.. the to, i i i. it i to. if. is in,, -- the, i all it i we\",\n",
       "  \"User: when did you know she was the one?\\nBot: of to i, me she the't what,'t i i, the. you she to..'t, i it her the. know..,. to. this, you's have i. all, she i you and in she\",\n",
       "  \"User: i wouldn't know what to do with it if i did.\\nBot:,,. that the don't?'m.,! this to to and. of the you,,, that?., i you i a, you this you i.! to, we? with i i,. the to a\",\n",
       "  \"User: york just turned up outside. we're trying to get him into infirmary.\\nBot: you you i he and. with this in a, a, i he you. the... me. you. to not to it your have you it. and can for we're i, he he?.... you my you. in.\",\n",
       "  \"User: i'm gonna stomp your a--\\nBot: to the the' a, get'll'm's>. we,u></ you what a></ i the.u> a't a < the--'s,.uu</u>> < <,u i, we i\",\n",
       "  \"User: yes she is.\\nBot: is a with, i she a your a. my. she you she. she.'re she to,. a she't you i to i we've you i she're don, i if and this you i to a be this, you\",\n",
       "  \"User: i'm going to get him, i promise you.\\nBot: of.., you? the, we't it't to! of the.. i do. in,? you to,. me. to that i your that you i,. he is you i and, you he,'t,\",\n",
       "  \"User: we better call the doctor... listen. i'll say how it happened, part i saw.\\nBot: i. my me you i. be't,., but have is! a your it, the, i of. to you. this i, that the't,, you to have you i., was's not you!. the\",\n",
       "  \"User: yes.\\nBot:., i what the of,, but. be my i,.., this,,, a,. a. to the,'t. the have the i and the to you,,., that don all you have, i\",\n",
       "  \"User: i'm going to a movie, kiddo. see ya'. you and matt have a good time.\\nBot:,, i to't you.,,'s,,.', the,' you you, i i but. '. the, you're, i,'t, you, i't't,. get. is a, and.\",\n",
       "  \"User: no, i just usually eat my lunch on the crapper. saves time. out with the old, in with the new.\\nBot: a the,, i have me, and it i i you.. i the i i and is that, of we it i i for,.?. have you don., you have you. me what'll i the't, you\",\n",
       "  \"User: i'm alright. but you can sit.\\nBot: a you to, he to the to.'s, my you i this't, is in i to not be you the'm. my., i.. you to'm. i i was with you but.. to your he.'s\",\n",
       "  \"User: tell me something, stamp. tell me this one thing. how much is a nigger supposed to take?\\nBot:'s the the,, i, i what you, he --, you. -- the, of! to this, they.?,, it i you. -- i,'t -- the. i a i my i.'t -- for't\",\n",
       "  \"User: unless he or someone else wants him to get caught. maybe he never ordered the weapon, lou. somebody else did. it was picked up at the post office early morning when oswald's time sheet shows him clocked in at his job. lou, come alive. these things are not adding up.\\nBot: i don was,,'t't was i the the you the and's the to't you for't i i it and you, that,,. don that a you. to be. was,... a for,'t..\",\n",
       "  \"User: clean?\\nBot: you..,'s you. your i i you i't't,. the you to the,, i of that,.,, --. know,'s. was to's is.. all this.?'t i the of it\",\n",
       "  \"User: my eye, is there something in my eye?\\nBot: i if. of a to if, it the i you.'s,. in. do i's i it that. i that you of.,, the was's. of't and i's and..,'s.. that,\",\n",
       "  \"User: feel? i dunno... happy.\\nBot:'t with. to. this it i the... and i have the to a, if.,., if was to't the. i, in's you to. of you in, i you?. for my?'s.'t,\",\n",
       "  \"User: when do we talk?\\nBot: and you the, but you.'s the i it you he a'll i i. the. i. you i's. the i my's to the the of, you,. is's... the you. i. was...\",\n",
       "  \"User: that's right. so, if you know it, why are you in trouble?\\nBot: me the i the,, can i not...'t i and you're it you to we i.,'t me i the. you have and i was, you!'s you for the that. the i. want? know.,,\",\n",
       "  \"User: so, it's worth the wait, right? what can i do? rent a huey? have an airlift? it's not like you can put it in a condom up some mule's asshole, right? how many peasants would that take? a line stretching from here to mexico city --\\nBot: you the --'s to don but. i't to,, it i,. a this, i the you don't your the have i if this it we, and the a i i you. but? the, the,, -- you\",\n",
       "  \"User: here. buy bullets. kill. kill them all!\\nBot: the that,, you., i a he you to, a,,. do the'll,, i! of that, and! you have,.. you,. i. you i to, it! the my.. i\",\n",
       "  \"User: jerome...never shy. pisses on command. you've got a beautiful cock. i ever told you that, jerome?\\nBot: was my. you we a.? and,'t the to. i to you of you.'s,. it. i the to? my. you you? is i's, you you i don. i, know of i the a\",\n",
       "  \"User: i don't know you.\\nBot:. your i.,, you i, you to what't the, you... you.'t what, not this that it was, i i don,.'s, don, and.,..... you you,'s is it.\",\n",
       "  \"User: i was friendly with sue lefferts, but we weren't really friends. you know what i mean?\\nBot: all, all you?'m'm... to and to?,.?,..., it what?, a i i the't a. i,., not,. we, for it, of!.,.\",\n",
       "  \"User: nothing.\\nBot: you just just for, the a the, i,.., my in what, you. a's your i you,,. my. the i to it.'t to i? i! the you't you can, the.,\",\n",
       "  'User: the day abraham lincoln died. hence \"abe\" sapien.\\nBot:, have. the. we to he i the a the, a i.,. it..,,,, with,., the and a the,. a,, to to you,? you the, i, a.',\n",
       "  \"User: 'fraid it's too late.\\nBot:'t and ', the that, but,, the,- is the,. the they,... you., to'...., you,, the,,> a>>>> to>></ the>> <,\",\n",
       "  \"User: short range scan.\\nBot:,. the to of't,, my and the this., you. the you you you.'m the my it, a,. your i a a the, a we.,?, that,,, of,... you you\",\n",
       "  \"User: just one?\\nBot:?'m it.'t,'re the a't. the,, you?,., you i. and? i to. i it -- to.'s is of to i? you, be, the i your you what the the.\",\n",
       "  \"User: your 'foolproof' way is going to land my ass on the front page while you're basking in rio.\\nBot: the! i... and but you of and the i,., and a., we! of the is is' your in the, and,, the i..,,.,,!, i i't...'t.'t\",\n",
       "  \"User: i'm rambling. i really like you. you make me want to talk... i don't know what time it is.\\nBot: that i, you that i it, and... the, was if't to is to the i you, a of... the to to, to to and and not's i..?, i,? i i,.'s a was\",\n",
       "  'User: the \"old man\" plays politics harder than anybody else.\\nBot: this the for.. we,. like,, the the\\'s he. to you the i the,, of,\\'s was. and and you a it a,! with to we to and you. i i your of in for of',\n",
       "  \"User: because she killed herself!!\\nBot:?, i and the you did't it to,.'s, don. is...'t, the for you to. she and you't're were, not and it to, i and to. the,, i was i't. if\",\n",
       "  \"User: i been studyin' a situation over in lobo, take two men to handle it.\\nBot: and.'s.,. the,,., you of the a. this, i., you't,'t't to it they.,.,?. i a he the i., the you in i i the your,\",\n",
       "  \"User: why are they doing this, mal?\\nBot: what you your't the the do, to we. you it're't... of the..'re the -- not if a. you., i've know, i i if i's, to and i.., and do to's\",\n",
       "  \"User: what do you want from me? would i swim across an ocean for you?... would i walk across the united states for you? yes... yes i would. you know that.\\nBot: you but. have this your't not.. the't you a we i and the, the you..., the the, you i you i.. i you that i the.. the.'t,....., i\",\n",
       "  \"User: good.\\nBot:. of,'t, of that me.. i i you it i that. just you to you, to to? a my,? you it a what't you, but's a you. not of?. i.'t..\",\n",
       "  \"User: you know it's for you.\\nBot:... in don my., my if of.'m,. you. you. you was.,, to i,'s have is,? be -- not me to but,, you we the to it, your. to the you,\",\n",
       "  \"User: shemp is right here in this room...two minutes from now, and at exactly 9:02pm, we'll catch up to him.\\nBot: in the, i the i a, this but, i it, we the and. that my your to't's...-... are i't.. is.... you it i but, it't,'t?,'t i she.\",\n",
       "  \"User: hello, hal.\\nBot: a i of it't're that, this my?, it's, i my for i to you that'm it my to. you you., what.,'s you't to, you my. i that're. the, the you\",\n",
       "  \"User: was that like a homo-sexual remark?\\nBot:, he. that what, my you't... of, for the my'm to't's.,..,'s, to,, for a is, he,. was a. and..,'s you we is. the you\",\n",
       "  \"User: so the truth is more important to you than your life?\\nBot: you.'s i't don!. of'm.! of?, i.,,! to't,., i,, you,. i know to we my in is and. me't i.'t you. and what a\",\n",
       "  \"User: in the bag underneath.\\nBot: you, you? a. a and,'s is you not i.., you i. a..,. i'm? me to all. you i're to for,,..'t all,.'re,,.,\",\n",
       "  \"User: you're good.\\nBot: was you't your., i. the i. a,. a., this,. with i you and you a,. the i i. i can the in you the. in if you you,, he,. a,\",\n",
       "  \"User: to who?\\nBot: and and to to me a you't of,'t -- i is are't what is i -- is --. a --. be,,'t,,'re're i i want of the to -- this you i, you, --'t a\",\n",
       "  \"User: go on--give 'em to your friends.\\nBot: this--'s i* to weu-- it---- ** *> you the' my a--*'s, * the--> the don,> a--! the don's.>>> <i. toi's--\",\n",
       "  \"User: do you believe in them?\\nBot: is you't the.,'s't you the i the'm, do you you the --'t was but i it and i and. i i and. to -- you what you you a?'re i to to.. of the i's\",\n",
       "  \"User: what did he say? he'd buy them.\\nBot: you, a. he you you.,, a.., of you?'t, i?, i the with i a if's we my i you,,. was,.. that of a and. know i what, i\",\n",
       "  \"User: found on carl's boat, too. starboard side, second cleat from the stern. but it doesn't match carl's lines. it matches miyamoto's. perfect.\\nBot: the the the was a... but in. all.. my the with the's,. the, but of, of.. i. you, the you to, the a... that the i but that'll. i\",\n",
       "  \"User: well, are you satisfied now? can we just lie and talk, huh?\\nBot:, you of, we're a. the i,,,'t, to i not this not.'s to,,, a, i.,, i. have of you but, i a and my. the.. a? i\",\n",
       "  \"User: that is correct, commander. and he is most displeased with your apparent lack of progress.\\nBot:. the and to, he i a the sir, the have is, the to, the, to a the to. he, he's, have.., have. my the by the to the they,, the i, you the\",\n",
       "  \"User: it plays in 50 states.\\nBot: and'm, this but.. to i.'s a? we's of to-. the,,,.'t. to the, to. for i and'm,'s of but all with. that,'s the,, to,\",\n",
       "  \"User: i don't know what his game is. he dismissed every one of ruth's proposals. and sarah, we weren't unreasonable.\\nBot:,., was,. my of, a the we, a but, the's. he,,. you i... is,, and the. and. i is if.. be a., don if., i..\",\n",
       "  \"User: so's this. hey baby... oh, nothing. what were you saying?\\nBot: a, to what it's, i you it,, i, this,,,, know, to, i the. i i a., was, you a a,!.,. you't. was?'t i this you\",\n",
       "  \"User: you got a little girl?\\nBot: you't don i you i don to've't i to it. the,, i, i the i to.,,,. don a and you but,, you? to it and i's,. you. you no if you\",\n",
       "  \"User: what's happened?... why did it leave?\\nBot:.'t,... be, the i,,'ve. with. not...!... a and't i you i,'m you. do't we you to of it the i was., you you't and for you, you? a\",\n",
       "  \"User: is it that obvious?\\nBot:, in i i what i'm a be of's i don we for., i don i. do. the you's. i. i all the for. you you and. we i, to have't, is but i,,\",\n",
       "  \"User: what ten thousand?\\nBot: to the. this the you't's's you. the a., i to,'t,. the the,. with,. with. you, i,, of to, to this to i't,. you., we it\",\n",
       "  \"User: speaking.\\nBot: -- the was's't'm your i and i to. it my i you -- be a i the've me you you,'s. a your i. -- -- just, the we're i have for i't have the a i but've\",\n",
       "  \"User: he said he filed...\\nBot: my.-, a's's we you you, the but, your,, to. a and, and. in don know of, if his him i of the to the's a's.,. what if the a what i don\",\n",
       "  \"User: things change. anyway, you gave up your claim to that love the first time you stuck your dick in maxine.\\nBot: it, the i,.,, a you. that of don you don i you, the, i me, i,'t,!., i,,!., you,! of i it. all be.,, we\",\n",
       "  \"User: i lied. when i'm drunk i lie.\\nBot: you i you.? this! is you don i you! the what't a.?'re i you., you of i, if know't i it, not me it we of, have you of the you.! this,'m\",\n",
       "  \"User: the medieval philosophers were right... <man> is the center of the universe... we stand in the middle of infinity, between outer and inner space. and there's no limit to either.\\nBot: have>uu <>> tou.>>>>>>> the>>> <> <u,> < <>></>>>>>>>uu></>uu> <></\",\n",
       "  \"User: it's safe.\\nBot:'t,'s.'t if. the's i. the. the. your we to to and.'re this. to'm of., you i., i for we., don you'll was have to you this,, this have\",\n",
       "  \"User: i meant everything.\\nBot:'t, i i you i the the you, i have i's, i'm but,, it a., -- don i the'm. that -- that the have my of,'t?'m, i. it i! you -- i\",\n",
       "  \"User: who's the head honcho! who's providing the smack connection!\\nBot:, you this. the the that it.... that>> <</iu <>>u>uu and>>>u <>> < <u></> < <u <uu>>> <>u\",\n",
       "  \"User: we haven't had a wilbur here in a year or so, have we? we used to have *dozens*!\\nBot: all to't, the?>>, the the you of <> that,>>>> <>>>u>> <>>u <> <u,u>> you <</>u>></u>\",\n",
       "  \"User: as long as internal affairs wants you to, i suppose. sit down, nick.\\nBot: if, we,? for a do, don you and the......, this the this to- the but the the and,. to to,. a. the he i.'re.'s.'t i,.! and\",\n",
       "  \"User: ...but first, you have to tell me something...\\nBot:'s, me? i, it you,u you you,. we,,,, i -- like that know it, that you i the i., this it it was.'t, i i, was.?,, my to\",\n",
       "  \"User: i know you think i'm too attached to him, but still. i am close to gary. and you're the most meaningful person in my life. i'm going back to the comix place, why should i be killing myself.\\nBot: and i, i's the i.., we i, the, the, have. is the if,,,?,,.,'t... all.. the we is we the my not. i the.,.\",\n",
       "  \"User: mr. appleton, i have reason to believe you're holding something back, and that just rubs me the wrong way. sir, are you a communist?\\nBot: to with, the, this my the, of the a will but? a. the your the, and m to to, and i, you, the to if as to m you you and the of it don,'t to. your,\",\n",
       "  \"User: crazy with greed. not crazy. not like him.\\nBot:'t the i, i, what you. a's this,.,.,,.!, you.'t the of to we,. the the the, i.,. i's're,,. you!.! your you\",\n",
       "  \"User: okay, okay, okay--\\nBot: to the, to in, just. don you you do it that you.,'t you't to.', we,--'s.'re it you that i to but>>, of a but of you <u a't butu\",\n",
       "  \"User: what the child?\\nBot:. the your. to a are to i i i'm. it are. a -- it,'t,. -- to and a that you -- a the, you -- to a your and't't. to it't the,, -- my\",\n",
       "  \"User: how much time?\\nBot:, the,, i just to. it, i's it for. you a. do for i to, and's in it. you'm. you what for,,. we. you you he'm you. to, the't you\",\n",
       "  \"User: no! i swear i'm not!\\nBot: that are,'re! a, your to i i your, you'll, it, it i you,. you i don you i the the'm you a the to to you you, a,'t. a't you, to i i\",\n",
       "  \"User: and so missoula's prodigal son returns.\\nBot:- do to you't the't me, m we.'m that my,,.. you don, to.,. m i we a i me the,, m,, that the we you i,,,,, is me\",\n",
       "  \"User: sure. they're like anybody else. they got work to do. they do it. only they happen to be the best men in the business.\\nBot: and don you, in just, you,.'t..'t all for you. the're -- of i. i a., i the't, you'm that if. i if. the in you i, to, to? i\",\n",
       "  \"User: uh-huh.\\nBot: of. do a,. for you was you a, if,.. a, the, you i, the we you, i you you.,,....,'m the.'s't you if i. don you't\",\n",
       "  \"User: go stick your head in a tub of ice water. see where she leads.\\nBot:! the i's me't. that.,,. the, but,, it have i and i i to,'re! what-, but no,? i?! i. i, you, a. you i,..\",\n",
       "  \"User: all this, this is a woman's version of what you would like.\\nBot: and, but and,?? you. is. you,, that.'t. your,'re the. the.'m i. i you,.. you i., don. i't you of. we? of you't it\",\n",
       "  \"User: cliff brumby. he'd seen the film. he wanted to meet doreen.\\nBot: of's,, the, and.. we you.'t, don, don. to,., you's the. i i this a to the i your of, a. the and in.'t to you?. it but't\",\n",
       "  \"User: no, no, no, i gave it up ten years ago...actually it gave me up.\\nBot: i! me,..? it it't you, we for,. i me the we it you i don the have you you for me you i i, i the my but,,, it and, is the, if the.\",\n",
       "  \"User: i'm sure you would.\\nBot: is not you you.'t it don, the you you i you of i, you..'s..'m that you i this. don of, for.'t'll. of that of,.... i of't if i?,\",\n",
       "  \"User: lookin' around.\\nBot: know. a, you you is. ' the-.'t i a' i', don,''s're'm,. my., a the that're.,,, the,,'. this. no, what,'s\",\n",
       "  \"User: i loved you, madeleine.\\nBot:. you your, i. was're a have,, don. like. a't, i,. the,,.'m,, this. is have can! the,,, i have was the the. i, but,,\",\n",
       "  \"User: yeah... he was lookin' for you.\\nBot:'t,', i i to,'t i...'t to me', you? you a you.'t. you't my you was,.'t you, it i?, a it, the the me i we we., but\",\n",
       "  \"User: what of it? i'm going to die in casablanca. it's a good spot for it.\\nBot: the. if, to this, to. to,, you't. we of, we the.,.,, the.. i the be't to the you, to a can i what i the i. the... with\",\n",
       "  \"User: no need. i'll call again.\\nBot:. this! of. to the i's not to i. do not do i.,? that all i't't.,, for i!. with., but.'s, the... all and're, it'll.'t i\",\n",
       "  \"User: truman? it's me, marlon. i need to talk to you.\\nBot:, can it what,.'t can for, i of, you., i,.... that of,,, to and is to'm...,, you you you to, don've to and i you....'m,\",\n",
       "  \"User: samhain.\\nBot:, he'll he. a he, have you.,,'s to we!, i't,,, i the,'t? of of to he in have the i, and'll to i i. i't't,. you i\",\n",
       "  \"User: ...but i still have the choice...?\\nBot:u i, you, i the i have the you, my me i he you the have a to's for'm you..,., to, he. my.... you you't you. a you and was, have a's\",\n",
       "  \"User: ... perhaps there is a way... i have heard tales of another power.\\nBot:, we the to i, have and the for, my i,?, we i,,'s, that he it. for, and. this,,, a,. the to we if i is to,, to the, not\",\n",
       "  \"User: these dogs'll calm down -- you just have to come in --\\nBot: the the -- this,'t -- my you that's i. a -- it! you., this in'll it?, and is, me. all you. is'll the and i, you i, -- and. but this --,\",\n",
       "  \"User: that's all you meant?\\nBot:, you,, if, the, -- be you to've. of, -- we i you this i the i. i i i -- i -- are's your the.'re, i -- are if. i't the. that the if\",\n",
       "  \"User: i guess.\\nBot: i,'s the. the. a't't? the you,'s and...-, what iu., we. it your...u,. your you.'s the i., you a i's i but.,'re you\",\n",
       "  \"User: hurry back, please. i'm sleepy.\\nBot:!.,,,,, you a you.,'s, to.. a you i to of the't i,, that, to the it,. to't to a'll's. you you. you don,, you is\",\n",
       "  \"User: so, you must be the red dragon.\\nBot: to to,, you i. i i i in't.. is to we. in., you'll the,. and,. a,. of. you you i,,. for you.'m i,,'s if.\",\n",
       "  \"User: well, now, maybe you won't have to.\\nBot: and the. your?.'t's,. a what you the of., to but't and... is me't. you that i. the,......, i't it's, i know? you a. a have i the\",\n",
       "  \"User: i don't think it matters. last nights victim, christie eastman was found in a warehouse on the outskirts of town. the night before, debi rutlege was found in the center.\\nBot: the i to, you. and., to.'re that.. the the all, in? the i the but. they. the it't.. to,.,,. the of your, are a i of, i to\",\n",
       "  \"User: i guess we won't.\\nBot: the,!... in,... you that that it?! the.,'t's this,u. your, to you to.. i, you and!,?, your it't to, you the i to if it. you\",\n",
       "  \"User: who's gonna do that?\\nBot:. the're't you just. it to got. the to. the, get it you i,'t't. this,..'.,, i' the. to't,., all i,,. a,''\",\n",
       "  'User: can i make a quick call?\\nBot: we. the of i, it is. to. and, that the what,. a for the, the this a you a, to it a that i but i a no this the. this.,., and, the we i',\n",
       "  \"User: me! jim--how--?\\nBot:-- just,--,. a't.---- the--*--,'s to're and, and you, the--,--,,----,---- my- of.,,--,,. i't've----\",\n",
       "  \"User: can do no right by people. come to take, you wan' to stay, leave you stay, you wan' to go. rahtid!\\nBot: be you to i m you you.'m of. i you to i my, you you. i,. a. the!'t,, me,. i i i't,!'t'm i you a. of me i,,\",\n",
       "  \"User: it sounds like a wonderful place to live.\\nBot: the the in we the. your to., the to he the you a, i of, and not. a we you.'s,,'m a,, for. the.. a're.,., i you to in,\",\n",
       "  \"User: i don't know, cole.\\nBot: i'm't't. you,.. the. to, of..,'s to i. my.. you.. to do.'m. all to i i... for.,,. you....? do of of me\",\n",
       "  \"User: there's only one problem, tripp. we don't know his real name. we just made it up. in fact, we made the whole guy up.\\nBot: we. but's.'s, on i't know.? i and.,! i the't you of it of that, the it for, i't a, you to for, he this you i you. if the!! and\",\n",
       "  \"User: yeah, they told us this was the best.\\nBot:,, i the you,, my i,, don't i i my,, don't it i you. you't,. that. my, it a. you. i i to, i don i i don that i you.\",\n",
       "  \"User: i'm afraid i have to insist you leave.\\nBot: i i. be,!. you, but a....? my i, we, i... to you a, a you a to, that the. your. to.'t.,, i a to't i a you's and\",\n",
       "  \"User: this is a business. get the fuck outta here.\\nBot: all,'s me?, the the the i, i,'t you'sin, you't,, the'm and the the..,'ll.'t a....'re you you you'll.,'s, that a i you don\",\n",
       "  \"User: she must make a glaive.\\nBot: the i'm don you of? my, i, you. to, of the're?'t,'m you, my i i she. is she to to,,'s the your... this? is in to my, you,\",\n",
       "  \"User: never made so much money in my life. but my upbringing doesn't allow me to enjoy it. i did get to argue a case before the supreme court.\\nBot: the to not be i.. i., in your the't, in the i? to to, have,'s is you the for. to you. for i have and, you the you is't a is i is you and,\",\n",
       "  \"User: it didn't work?\\nBot: that,, is you've's.... the,., i we, not... the...! my'm of to,. i't i? the a you to? you you this and you have.,, you you,.,\",\n",
       "  \"User: that's right.\\nBot: i'm but just me you? you,? do and'm a. this, to we you you,. to if, you's a not, in've. and, have have it. the and you the the't i i i and\",\n",
       "  \"User: i thought you wanted to buy spectacles an' fancy clothes an' all.\\nBot:'t- my, have i i to you you i for,,. to.,. to! to't the, your', in, my for the i, you, and..,,, we..!. is me\",\n",
       "  \"User: what does that mean?\\nBot: is is you't do was. to. i, but you, be that to's. not it.. you,. in, i i, to of but, i. -- -- the --,'s in my i of the't?\",\n",
       "  \"User: eighty-<u>nine</u> percent favorable, is based not on <u>events</u>...\\nBot: <,. <u iu>u <>uu'suu></u <>uu>u <uuuuu <</></>u the>u <u>> <>u> <u\",\n",
       "  \"User: well, don't you worry, cause that <u>baby's</u> gone take care of <u>that</u>.\\nBot:</</ a>u></u the iu></</>uu < the>,>uu,u> <uuu>u>u</ iuu</ <>u>u</ thisuuu\",\n",
       "  'User: ...what do you expect me to...\\nBot:>.</</ the, the></</>>></</</u> <>> <u <u>>>u</u> <uu you <>>>></>>>,uu>>>',\n",
       "  \"User: i don't know, look around.\\nBot: a me of i i that. you. you to what my in't was a was it don,. can a'm it's you i's i to to can your to i i.. if the don,'t,,. you.\",\n",
       "  \"User: seventeen minutes.\\nBot:. a the, i and if to., what i, a? of the't, a's's. this i be that, the,!? i, if and. you you,'s i- the,,,.. of\",\n",
       "  \"User: i want you to see him immediately.\\nBot: of what me, you, my,'t, is have., don. the i not.. you the i. i the't.'t we the. with,. you i a to. a,, to -- like, of,\",\n",
       "  \"User: i want to see you, too, francis... should i come over?\\nBot: this're, the i you, you'll't me i you's? a you to if you. to,'t be, to i..., and,'s not to, you you it i me a.,., i we'm.\",\n",
       "  \"User: i worship you.\\nBot: can't the i's i, do, you i you in's you my,, but is my,, it i.,,, i we i. you,,, don. you. are to i the it of you i as\",\n",
       "  \"User: don't think i'm weak, just because i'm a woman. i have power. give in, stop fighting me, ethan. i always get what i want.\\nBot:,, are't we this that, is i, it to to you but a in to you.. to, a,. to. to i i, they a you't -- your i your we you to. the.. to a\",\n",
       "  \"User: yeah, me, too...\\nBot: my. what you you you. the was you me you no i you i, this. to, the!, i, i,... in,'s,'t. you don's...,. a?'s you. it i....\",\n",
       "  \"User: all right, hooker, but you take it on the lam, and we'll shoot you down on sight.\\nBot: the't a, you,. you a. you, i.. for,, i. i.. you. to and,, you,,,. to, that i to. it't you i but i and you don me\",\n",
       "  \"User: sure.\\nBot: the't just that to the'm the -- that that, i is,'t -- the was -- oh it've't -- you what i in. with,. a for we --, i't. to to't and. i i, i\",\n",
       "  \"User: it's important.\\nBot: you, you we you the i my's'm do the a the. that. the's me don to. you,. the you i i i?. to the, my, if a don when it, you i't can,.\",\n",
       "  \"User: flagged books cover every topic the bureau deems questionable... communism to violent crime.\\nBot: i,, he- you i.'t, a. you --,. my they.,'re, it the, a, in you,, you they, of --, on. a, you. a --,, on's.\",\n",
       "  \"User: one thing bothered me.\\nBot:, for we. with... with., the i not you what in.,...'t., i,.'t.? we this't....... was. don, to we you... me the!... the you don. your\",\n",
       "  \"User: i think we'd better shut off all access till we can find that file. just to be safe.\\nBot: a to!, that. the, i and...,. you,...'s. you <u't</uu>>></'s> you>>> that>uuu> <u i donu>>u>\",\n",
       "  \"User: and you sent the document forward to sandefur?\\nBot: we,. i but a of what i, the for to have. it,,'s, to,'s and be, to of i i of, the is,.,, and be, you it, that the the,. is\",\n",
       "  \"User: your daughter.\\nBot: and my. it, a have the.'s is that't's,,'t the., the't,.? are.? are i what that you?,'s the it, if know, for. you... you and a...\",\n",
       "  \"User: i'm glad you feel that way, major, because you see it's a team effort... doctors, nurses, enlisted men... and i feel responsible for my whole team, and i want you to know i'm satisfied with them.\\nBot:.,,., to you,,.... as, i it..'t the i,, not,, to to to't the the... the.,., of to a me you, i the i... i\",\n",
       "  \"User: it's a motherfucking shame.\\nBot:. to and it and in.,'t don your the for i.'s this. just to're to,, of i.,, what?,.,,. it a you it,,.? to be the. my.\",\n",
       "  \"User: fine...except when mom was airing gage's diaper rash, he walked away and got into grampa's study and pooped in grampa's favorite chair.\\nBot:, the... have i on, the,.. the a, just, a. youu we the., the,, au's,, a. it, the,. you's my for you my...,'s\",\n",
       "  \"User: if you don't, we will. it has to be total, deckard. that's an order from as high as it comes. got it?\\nBot:, to i the and to we is will, to, have i i's. to i my to the and a i.'re we this,., the if,, will you --... the. of,?. have we'll we\",\n",
       "  \"User: what the hell is this?\\nBot:, i,,'m i of the you's. we. you he for him, the the't my have we to what know,. not.,. my, don you he you! in and the that i to,, me's\",\n",
       "  \"User: do you know why you're here, james.\\nBot: i i'm can's,. my. to,., but've a'm,..'s,,. know is to that,.. this...'re. this you,'s to'm't you. be for. and.,\",\n",
       "  'User: no grape could be more intoxicating than you, my dear. but we make due. to your charms. skol.\\nBot:, as,. it, is., the your are,,, the the.. a,, my, to,.,,, for the and,, a if be the.,! i they, to i the but,',\n",
       "  \"User: god knows.\\nBot: of i'll -- you you. is -- my -- we to -- the'll.'s the. my, to that -- -- all the that. are i. you you it -- i if -- my. have. i i -- in i you\",\n",
       "  \"User: if the incident happened the way you say it did, there hasn't been an infraction.\\nBot: with,, i i i to., not, your the, i i. i don for.. to it all. the the a have't, have i?.. you we of this. was and... are i the that i\",\n",
       "  \"User: i\\x92m afraid the only pups currently available at such notice are brown and trained. but they are all very cheerful and have been thoroughly checked for diseases...\\nBot:, ares. and the? he is?, your to,,. are our. a, you., the of.�'s it of.,� the,, i your to the, what's. with i of�.\",\n",
       "  \"User: i'm trying. it's weird, that's all. i never had any good luck, until i met you...what if it's all just another bad dream?\\nBot: to i you i, i of,'m and to.. your...? you't... i my you... about, i you. you,. to i you can, i i i's, i're i!... to a a.\",\n",
       "  \"User: married? to anna? you ain't got her in trouble?\\nBot: you.., you you't?' you to? i my. you your a. it a she you,?,'m you''t? you i and' the,...'m, i. the me the a i't you'\",\n",
       "  \"User: jack. i said the kids are asleep...\\nBot:. with, i and's... i you i you you? i. i'm you is, i,, my to-?'t. do of't? it... to but's that. to, my you., to! your's\",\n",
       "  \"User: lonnegan.\\nBot: you. i he., was and the,,'t i i't. a to i the i!,'re. you't, you, we,. it, don i i i, you the, i, for to'm!...\",\n",
       "  \"User: no snacking between meals! off you go! now -- what were we saying?\\nBot:?'s the't's do -- not that.,., i i -- don -- a,,,'re it the that's, of to the,. and i. that i i. a, you. of you of,!.\",\n",
       "  \"User: i'm sorry...\\nBot: i. that you you?? i. the. your the that.,,'re.'t? you,, and i you...'t you you.,...,, you you the., a you in i i i don no the\",\n",
       "  \"User: yeah. i got some stuff for your cut.\\nBot: a i. like, like the so, you you i to you't,. a.., me.. a i,.. i don.. the, the the he you, you, the's. is it,,,\",\n",
       "  \"User: i know it's yours.\\nBot:'t the and you... me you, me. you't you's the we i a't the're if't,, you you, i, don. i you.'t, you a.,, i the you't i to i,\",\n",
       "  \"User: how's everything?\\nBot: of the that i the, if don i i to we..., i'm.,. be,>. ofu,</ me it>'re this,uu>uu...u. i, you i> <>>>\",\n",
       "  \"User: it'll come. it needs us. we're the only thing left to imitate... give me a hand.\\nBot:'t. the. a,? don, that're to.'s a you, was it a,..'s,, you to you,,'s not you,'t the and your...., to? the't it't you't\",\n",
       "  \"User: you have nothing to lose but your feathers.\\nBot:, the i i the.,, can in i i,. to, what i this...'s,, for's and i you what that, i.., the't't and to and your. i i a the if,'t\",\n",
       "  \"User: shit. let's drink to something else. let's drink to fuckin'. say here's to your fuck frank.\\nBot:. this,,... to. you you' a',''m what you,, i you., and, you i a' ''' no're you,, you know know't you, you','re. the.\",\n",
       "  \"User: this is chaz speaking. sorry, but we are not home. our present location seems to be only halfway to irth. remain at your posts and stand by. that is all.\\nBot: we. that. for., are's.. i. have have the we.'t the the my't i. i,,. and will., in be?,.. -- don you,, are this i to.'s\",\n",
       "  \"User: there's more, isn't there?\\nBot: the,, i's we. is, a of you.'t don this for, my't i, you and. i., -- --,'s, a the't -- like -- i you -- to't it.! was,,\",\n",
       "  \"User: i see. mr. franklin, i must ask you and miss hayes to keep this incident with mr. gardiner to yourselves. there's no telling what he was involved in, and the matter may be extremely confidential. so please, not a word.\\nBot:, the to is we,'t,,, he,. i i to to that for with,, to to, the have to't, i..'t,. of, you -- the i., -- -- -- my for i\",\n",
       "  \"User: robbed?\\nBot: you don.. to and my., and's,'re it. of,. of. with. you i, and that,,,, it your i -- i. the you. you, we,,,. we. you\",\n",
       "  \"User: oh, barnett, i'm so sorry.\\nBot:,,'t. the to you in you the's,. like. you, the i you, you,? so the of, i., my no but. in i this was to he i he... a. a you\",\n",
       "  \"User: right here.\\nBot: your i i and this.. a., that. the't. i to a you,,, to your. a i for the,,,. to're and've me to, it the.? i to,, the,\",\n",
       "  \"User: maybe he'll ask your ma to marry him.\\nBot:'m me.'t i you. your. you. is i! this. to it to. a to you do i my i you i's.'s a are.,. we don i it a i but have a.'s're.\",\n",
       "  \"User: you heard the rumors about the pyramid mine?\\nBot: to is a be. that. i don,,. and to't, the a he, to they it i not the't to you,.,, the. of the. the the to we. but for he have a a.\",\n",
       "  \"User: from jewish folk poetry, a song cycle...\\nBot: to., the the for in. i i it, the. i. the the, i i and, i was'm the of it the,'m but you i,. and,, a to. but. you a, for,\",\n",
       "  \"User: no, of course not, lois. you just get carried away sometimes. believe me, i understand --\\nBot:, to and you's your i, in of me but's the you a you and the my, the if,, i i i've, i i, i the and to you but you i -- i, it i i me -- a\",\n",
       "  \"User: of course. are there others, mr. worley?\\nBot: and., in and to to,.,,. m it. are, is. is the. the,. my to. he,'s of are the have a i..., is,., the i to the,'s and\",\n",
       "  \"User: do you love me?\\nBot: to i a the,, i! it,, i what it not for,'ll, i i have i i i you,, a i't it you, i's, in! it,.. know you of., i i\",\n",
       "  \"User: i know. i know that. don't spoil it.\\nBot: with i. you.? i've a,,'ve. to i, have to i, have of i.'t to and you of. i to, the i of. of my this,? you i the can i you i the\",\n",
       "  \"User: sir...\\nBot:, and this.,, you to,... the to.,,'re.,.,,.' i you i... in, the this,. was're is i., to, a,, i you is to we.\",\n",
       "  \"User: she's still pissed at me and took it out on you. we should have taken it slower. it's hard to operate in the woods. much easier in, like a club. tell the girl you've got to go do something, leave her view, take way too long until she is worried that you're not coming back. just as she starts feeling awful, you come up from behind and touch her neck...\\nBot: to you. the... and in you't,. to your.'t.,, your i you. in i have a't you.. you i,, don for so.,...,'m a.,'re's to're this\",\n",
       "  \"User: okay, here's the duty. gieg, weathers, lapchick, schucart: scrape and paint. corry and stricklin have the brass. robinson, you're the galley slave. march you're on chain gang with barnes. johnston, solo on bilge detail.\\nBot: i,. and the the, your. the,,,,. a i you i! but i to, i i... it. to i.... the, don but and, for! you., you..., it\",\n",
       "  \"User: oh, yeah. but i still want to know what happens.\\nBot: you don. of, the, a i in the..'m all. was't i. the you you me you. don, the we the. i i,, if,. that,,, but, to you i't.\",\n",
       "  \"User: c'mon seymour, i'm trying to collect data here! don't you want me to find you your perfect dream girl?\\nBot:... i you you it, you. the't have and your,. you you i!, it!, you a a the i!?'t, a i,, it i., and i have you.,, and,,\",\n",
       "  \"User: no?\\nBot:'t, you i i. to. it the't, and the for, was i've't,, you, the, i i of're but and.,. the,.'re not't't, and., the you,,\",\n",
       "  \"User: as you wish.\\nBot:'m, but we. the your't,., this, the's't. you the not i what and me he in i, you., that don what to't, don the i's i you you, for he he was,\",\n",
       "  \"User: i was an indian, actually. man, that damn psycho paint...! if that's supposed to be mild, i don't want to know about medium. the planet earth. it's good to be back.\\nBot: of and we the., our and, have the i was and the the.. that the, to of,. i but my the they the to a to our. to the- you i and i,, you. to we i\",\n",
       "  \"User: it's ok. it's ok.\\nBot: you,'t,. you, the have have you.'re to don was, you the. the't and. is. the, i that you you me don, you? and i,. if the the,,.? the.\",\n",
       "  \"User: you're pretty quick with those numbers. how about the odds of me buying the first round?\\nBot:.,, and,'ll.,- to you. you're all you i. i you..,,. the you. i., i to. don. to i. the i of i i. we.. a to\",\n",
       "  \"User: i just found out why all those tele- phone calls. it is not miss desmond they want. it is the car they want to rent.\\nBot: this. i i no is i in. i i,... this.'t, a.. you to you a have't. be have,. you, we --,'ll,.? in a for,. the, and\",\n",
       "  \"User: relax, clayton. i can't hear you. i can't hear a word.\\nBot:,'re. to. the of a in of i i.,,, a. i you you. was to a have don't. i. the a to, the the me, to.? you you that a't i. all\",\n",
       "  \"User: please not, 'the two kinds of people' speech.\\nBot: and me,,. the what','ll ' me but is that i? your'm., me i., to i, i,.'s's. is a, it to i'... are the we and, we',\",\n",
       "  \"User: hey, how ya doin', cutie?\\nBot: my,. a to,,-', i it you- i't..., know.' you know,.' i i.'' that.! but,,, i,.'in',', to!!\",\n",
       "  \"User: wait, let me take that.\\nBot: i to? all, a we i i you,., in and i i's you i! you i me what of,'s., and't. to't to what i've't. the! i, i the'm've you\",\n",
       "  \"User: oh-hh, ohh-hh, lord, he's gonna kill me.\\nBot:, i. you,'t. the's,'m, of i if, the, the you,? your, i,,', the' and for. you,, you... of a,,, i no? and me.\",\n",
       "  \"User: i want to see for myself.\\nBot:,'t we'll the, this is of your to, the the,. i i i to you we. is. a, to't, i. you in't that is. the you. to i a he to. you i't\",\n",
       "  \"User: no it won't - no it won't!\\nBot: we a -'s,, you i i? the of a, i,!'s're.,, you, you you the's, that you to you, we.!. i, your! in you you. i. in if\",\n",
       "  \"User: you gotta go back there and talk to that guy.\\nBot: you the to, the, i and what to that a, he he the, you you't i't's, you, it's to don a i, to,. on'.,,? do, your.. with i.\",\n",
       "  \"User: the massey pre-nup has never been pene -- successfully challenged.\\nBot:, to to, to -- -- have,-'s -- the, and., of no.. -- like this,, the the, a be to's's to that --'s i i, the,'t'm and is's he't\",\n",
       "  \"User: that's up to you.\\nBot:? the, do the.,, don. was for i, it the?, don a not you we this. the're,,.'m was is have you all the not that that i you. do i i i'm we the\",\n",
       "  \"User: maybe you didn't hear what i said. i will not tolerate this infighting among the staff, i warn you that...\\nBot: it, the you're it.? a if i., a> my, <> <u i>u i>u>> < <uu <>u i <> <>uu>>>></ <i\",\n",
       "  \"User: okay, he's gonna clip israel, i just gotta outta there --\\nBot: you., you, a.'s i this's do i,' of i. like the you in, the i the and the you i'?'t i, i he.. know, this the don!'t you.'t --\",\n",
       "  \"User: the marble?\\nBot:.? to is the'm you. and'm he. you a'm. don i was and. of. to of i i. was, i.?, and and it a i i have.. you'm. you, this to\",\n",
       "  \"User: the wound all fused, cauterized... what the hell did this?\\nBot:'m it and,. and</, but to your you.,- a you, i,.... to, it't,, what.> <></>> < the to.u>> < <>u</uu\",\n",
       "  \"User: okay, thanks.\\nBot:, i,. to just and i. is.,, don, the in's you i, to i., in.'ll,.. you. know you't, you. you can i. the and? to you..\",\n",
       "  \"User: i think i can work it out on my own.\\nBot:, you we it. be i of,, and. you -- not can we this -- this the i. is this's you'm all. for, to of you it to of the i this a to don but --,. --,\",\n",
       "  'User: what...virus?\\nBot: it to...u,>>>uuu a <> < <> <> <>u <uu>>u <</uu>u <>> <>uu <</>uu <>></',\n",
       "  \"User: you're not going to go out again and drive up to that diner, are you?\\nBot: to i i i i not.,'s. the. do... you...'s the. the this. the. it. i a i...... you i, you i i't a we, to i't don...?....,\",\n",
       "  \"User: months.\\nBot: on a a i you do i,'t a i it.'t, but a a.. it't, i was the,, the the.,,. to not the, have, don's a the i, all not the,\",\n",
       "  \"User: maybe you could wait until i'm a wee bit stronger i don't think i could take it in my present condition. or yours.\\nBot: i that you, be that, is... i i,'re in we to to i i i. is.,.'m,'t that your,, the. i, i't in of,'m i,, what this to, what\",\n",
       "  \"User: what do you mean?\\nBot: the just, this you if not, the i it.... my, the i,>, iuu we.. my's>>>>> < <> theuuuuuu's> < <uu>\",\n",
       "  \"User: vicky, it's not a space shuttle launch, it's sex. so did you do the physics write-up?\\nBot:,,,, the my a i,. the the, the the,'re the we to. this the., if, to the with, my for, of the we our usu.'re -- i the of to...\",\n",
       "  \"User: he heeds a tourniquet.\\nBot: i, the him, the this i't. we i in, the if i you., i me is.,. with of your you you. i that is.. to you you, you., the you not the. i\",\n",
       "  \"User: you're telling me.\\nBot: for.'re we, have, this you if. the,!.'s that i. the you the all, the my, i and we, i! not,? you. of you are?'t --..... you you my\",\n",
       "  \"User: look, this is my house. i'd like to\\x97\\nBot:� the a i� like. to. i, we to�, and i�'t,! it? for. my you you't you you i. a of?. i\\x92 the,� this.,� the don your\",\n",
       "  \"User: let's go.\\nBot:?.,, what that of.. i i'm,'s is.? to the in to, to,., a't, the's you,. and,,'ve, you and,? i. that,. to?\",\n",
       "  'User: he was a local legend back in the \\'70\\'s. there was a song, stagolee kinda deal: \"this is the ballad of jimmy bones/black as night and hard as stone...\"\\nBot: to, you you. but, i, the, know but you i the my you and that i i be the, you.. i i. a you, me i don is the\\'t, a of,, the\\'t you was\\'re',\n",
       "  \"User: hey yeah?\\nBot:'ll'm. with don, the don i it to the but i. you you's'm i know you. do you i. me you i we. in. in.. you you i i for you you.. of you you if\",\n",
       "  \"User: yeah, but i introduced you guys. you never would've met if not for me. that's got to be worth something.\\nBot: my,. to what you i're i't.. you. i. you.,,, the to you,.., i i're,'s,. and.. and. a i,.. i, and you.\",\n",
       "  \"User: this is what my entire life has been directed at, this moment, this threshold.\\nBot: i,, to this, a to you i. a the have. as, a the,,, the my, the to,, the,'s, your,. the your to i you,..., as i we but,...\",\n",
       "  \"User: meet nick.\\nBot:'t, in have in. a, you i just., the... you, the a i't your., the be,.,. i. but i the my, i'll we of,. the i. a,\",\n",
       "  \"User: jake. you can call me jake. here and there.\\nBot:,'m'll,'re, the he he,. i for your, to'm don. and you you. you, is, me i you i. it is i. this to,, i i i',. don of. the\",\n",
       "  \"User: uh, we got a problem here.\\nBot:'! you you? a, this of i i don't my it if it're i, i to i was this' you...,,, it't of this you i?. the a all you we a to't to it me\",\n",
       "  \"User: it would be my pleasure.\\nBot:. you i he i i, me. a and, a you,.,. be. you'm if i he.,,?,,,. a a,.'t you this it with, this, and can, don,\",\n",
       "  \"User: so you're gonna call karen tomorrow?\\nBot: it to the and, have i,. a get. a the. you you this and i... to we.. like't, we you the you. you. i you. in.. a're. to so i you\",\n",
       "  \"User: maybe she did, gus. maybe she grew herself an afro and learned a left hook and put shoe polish on her face. let's polygraph her again and ask her about it.\\nBot: your was a. and,. of she i what. she's,. i to don have. have was of, to, to don it.'m,'re if... for't.'s't's i but's. what,\",\n",
       "  'User: shelly, would you give laura a quick hand with the \"meals on wheels\"?\\nBot:., i the,\\'t,, and of to you we-,\\'s the, the have to i,, of. and the i to be and. well with., you..,, i, but. don and we,',\n",
       "  \"User: you got it.\\nBot:. with and the the don i you the but it? just was is. the, i,,. have., that., all i of's's be, you, this me, to,. in you it to the,.\",\n",
       "  \"User: just worry about yourself.\\nBot:'t?, of... is i you if and. i in you, i you., to,,, don if...?, the to. to of. you, to, don. was,, to the, i the... you\",\n",
       "  \"User: he's not. he's looking for a flaw in us, john.\\nBot: he. the's. i, to, him'm. i.. you can., i. you my he? i.,, i, it i. don and the of.., i when, i know i,.,\",\n",
       "  \"User: come on. you can rave on another night.\\nBot: of me you, we's the you. you your what to you and a you- i,. you, i all, i you you., don i a of the., a. you that i so., the i, your\",\n",
       "  \"User: he seemed quite taken with you.\\nBot:, -- be be he and, what, the and -- to the to and the!'re to.? in i in and the --,.. -- know the for to. i't'll. the --, this, to't all to\",\n",
       "  \"User: so if i ran now, there's no way i'd beat you, is there?\\nBot: do you me and he my you we't but you. you. know the't'm.. the to a,'s but for, you't i the's! want have,. this! you to've,, we i don we to\",\n",
       "  \"User: look, kiddo, don't worry about it. i really don't care that much. i'm just not sure he's good enough, that's all.\\nBot:., have, you't,'m. don this be but you's my't don,. you, don, i'm..'s't, the, have, of's,?'t i you. it you i.'t're for\",\n",
       "  \"User: he sees himself in me! romeo montague, a young man of verona.\\nBot: the and what's he i i you i,,, i not, with't and's the,, he, in.. this i, you.?,, i have it you i is. in you,. to, you of\",\n",
       "  \"User: y'know, brody -- for the first time in years it's worth putting money into this town.\\nBot:. the i you. to,,,-'t't. this in it't,,,'s to you but a,, we and is and, you i. i' -- know you, i it,? -- my, i.\",\n",
       "  \"User: sure. thanks.\\nBot: you and, oh't. you the..., a i're,, the't all know,, a? you to don.'t to i the.., you i you don i you i, you, i to you've but i\",\n",
       "  \"User: yes.\\nBot: you you. i, don you i a you's be don in i of the., the you, and,'s, i, of you i.,'s was you have my is,. you. for?,?,'re to\",\n",
       "  \"User: yeah.\\nBot: i, if you. all the what this to the you i, you....., i to a. i you you what,'s you,. the. to't in. you the you, the you, know me my i.\",\n",
       "  \"User: mein dealer.\\nBot: you to.,., i is, the i this't it, you it'll that. for,, this my't to what a what'll in to. in this i, i the you my... i i. a.\",\n",
       "  \"User: shut up ! it's me.\\nBot: of is have,?,. i., the? i we don,..'t the i i,. of, my your the i. the. do you you. you for. you i and you i, of the i this\",\n",
       "  \"User: all it was wearing was a big old masonic ring and a rio county sheriffs badge.\\nBot:!! to! you, i a of. i don but't i you.,'s, you! i a of it. this, i my, i'll.'t, to, in the of!'t. the, that the you\",\n",
       "  \"User: no, not, not everything. this. i am the man in your life.\\nBot: you't is i, can me i?, my was. you i your. you. don't. the i you -- can.'re and., want to your to.'m the and.,. it,'re you to my that\",\n",
       "  \"User: i don't mean now. i mean before -- before we met.\\nBot: the we the -- -- do -- -- don don that don it -- i the't!, can the'm to!,? my's -- -- -- so's the --! don.! know you don's. the you i's but you\",\n",
       "  \"User: ... i have very few friends, chauncey... and benjamin's friends are all quite a bit older...\\nBot:! that,,'re i. i to you for,'s,!,. that?'t, that i i of i my you your, to't, but. you. you,'ll, i we i, i, a i.\",\n",
       "  \"User: what's he fixin' to do, ma?\\nBot: is the'm, what're a with and and this,,'t, a you., you don.'t, don' to's,'s.,. andin, i i,. him and.. it we this i. your\",\n",
       "  \"User: it was nothing.\\nBot:'s he the.,, the i you he can you,. was.'t.'s't., not i,... the you the i. your the, it, me if the.... for, was i me,. you't\",\n",
       "  \"User: love? love's just a pretty way of saying, 'i want to sleep with you'. love is bullshit.\\nBot:.'s,, it this, and if and you? in i. a't and the. don,.'t i's you.,...?, you i, you i you you i.. my you't what you have to have\",\n",
       "  \"User: what the fuck is going on here?!\\nBot:., don i get, the you you to,'m don!'m. for?,, it., i., i'm. you a,'m you my're to is you. to you for you you,! don that i\",\n",
       "  \"User: ...everything's comin' out of my pocket. i gotta pay for all these trips back and forth, back and forth.\\nBot:.'t, the't.'s, a i got if you. what you, of't and't... i'm the.,. you,' i i you of i a the to i a. we.'ll get the ' what ...\",\n",
       "  \"User: hey joey, i'm here with patsy and vera and sandy. and vickie just happened to come along. we're just trying to have a good time. what do you want from me? so, why don't you just take it easy before this gets out of hand.\\nBot:,,. i i you, your. i, you to, you i you so,. to. can not's and so. you, he.., the the what. you?.,! it,'s. you i?\",\n",
       "  ...],\n",
       " {'bleu': 0.004413604419327875,\n",
       "  'rouge1': 0.10144173407566995,\n",
       "  'rouge2': 0.005862992742342442,\n",
       "  'rougeL': 0.07904954054492745})"
      ]
     },
     "execution_count": 20,
     "metadata": {},
     "output_type": "execute_result"
    }
   ],
   "source": [
    "from transformers import GPT2LMHeadModel\n",
    "import torch.optim as optim\n",
    "from tqdm import tqdm\n",
    "import torch\n",
    "import math\n",
    "import json\n",
    "import os\n",
    "model_path = \"./saved_model_1/rmsprop_update\"\n",
    "tokenizer = GPT2Tokenizer.from_pretrained(model_path)\n",
    "model = GPT2LMHeadModel.from_pretrained(model_path)\n",
    "\n",
    "model = model.to(device)\n",
    "evaluate_model(model=model, test_loader=test_loader, device=device, tokenizer=tokenizer)"
   ]
  },
  {
   "cell_type": "markdown",
   "metadata": {},
   "source": [
    "Кажется, модель работает довольно странно, что подтверждает гипотезу о том, что ошибка может быть именно во второй версии"
   ]
  },
  {
   "cell_type": "markdown",
   "metadata": {},
   "source": [
    "Для реализации MVP чат-бота используем наиболее успешную модель из предыдущего пункта - сохраненную модель с оптимизатором rmsprop"
   ]
  }
 ],
 "metadata": {
  "colab": {
   "authorship_tag": "ABX9TyO6hBhyqx6l2P5Qq/f/lI11",
   "mount_file_id": "1DTQdvnljmhFxiSsIGJx2wgwDzAM9TZim",
   "provenance": []
  },
  "kernelspec": {
   "display_name": "Python 3",
   "name": "python3"
  },
  "language_info": {
   "codemirror_mode": {
    "name": "ipython",
    "version": 3
   },
   "file_extension": ".py",
   "mimetype": "text/x-python",
   "name": "python",
   "nbconvert_exporter": "python",
   "pygments_lexer": "ipython3",
   "version": "3.11.9"
  },
  "widgets": {
   "application/vnd.jupyter.widget-state+json": {
    "05650100304745759936bea5bb6f6bf2": {
     "model_module": "@jupyter-widgets/base",
     "model_module_version": "1.2.0",
     "model_name": "LayoutModel",
     "state": {
      "_model_module": "@jupyter-widgets/base",
      "_model_module_version": "1.2.0",
      "_model_name": "LayoutModel",
      "_view_count": null,
      "_view_module": "@jupyter-widgets/base",
      "_view_module_version": "1.2.0",
      "_view_name": "LayoutView",
      "align_content": null,
      "align_items": null,
      "align_self": null,
      "border": null,
      "bottom": null,
      "display": null,
      "flex": null,
      "flex_flow": null,
      "grid_area": null,
      "grid_auto_columns": null,
      "grid_auto_flow": null,
      "grid_auto_rows": null,
      "grid_column": null,
      "grid_gap": null,
      "grid_row": null,
      "grid_template_areas": null,
      "grid_template_columns": null,
      "grid_template_rows": null,
      "height": null,
      "justify_content": null,
      "justify_items": null,
      "left": null,
      "margin": null,
      "max_height": null,
      "max_width": null,
      "min_height": null,
      "min_width": null,
      "object_fit": null,
      "object_position": null,
      "order": null,
      "overflow": null,
      "overflow_x": null,
      "overflow_y": null,
      "padding": null,
      "right": null,
      "top": null,
      "visibility": null,
      "width": null
     }
    },
    "0e40046571d940fca67cb2c8fb0143c5": {
     "model_module": "@jupyter-widgets/controls",
     "model_module_version": "1.5.0",
     "model_name": "HBoxModel",
     "state": {
      "_dom_classes": [],
      "_model_module": "@jupyter-widgets/controls",
      "_model_module_version": "1.5.0",
      "_model_name": "HBoxModel",
      "_view_count": null,
      "_view_module": "@jupyter-widgets/controls",
      "_view_module_version": "1.5.0",
      "_view_name": "HBoxView",
      "box_style": "",
      "children": [
       "IPY_MODEL_65e1373f2671465f9f6f5c58098da987",
       "IPY_MODEL_172bf2fcc4844593aafb988fac954363",
       "IPY_MODEL_775f78370a3849acb3657011e14b6854"
      ],
      "layout": "IPY_MODEL_2c28877e2cdc4151a2f19cd4a6400d70"
     }
    },
    "172bf2fcc4844593aafb988fac954363": {
     "model_module": "@jupyter-widgets/controls",
     "model_module_version": "1.5.0",
     "model_name": "FloatProgressModel",
     "state": {
      "_dom_classes": [],
      "_model_module": "@jupyter-widgets/controls",
      "_model_module_version": "1.5.0",
      "_model_name": "FloatProgressModel",
      "_view_count": null,
      "_view_module": "@jupyter-widgets/controls",
      "_view_module_version": "1.5.0",
      "_view_name": "ProgressView",
      "bar_style": "success",
      "description": "",
      "description_tooltip": null,
      "layout": "IPY_MODEL_43d4221f8ded4cea8cc1dd45c334e901",
      "max": 2905,
      "min": 0,
      "orientation": "horizontal",
      "style": "IPY_MODEL_c21f1c5f98d64c99bff3122482b2c1e7",
      "value": 2905
     }
    },
    "218d6687c8394bcc9e728fd58c35a55a": {
     "model_module": "@jupyter-widgets/base",
     "model_module_version": "1.2.0",
     "model_name": "LayoutModel",
     "state": {
      "_model_module": "@jupyter-widgets/base",
      "_model_module_version": "1.2.0",
      "_model_name": "LayoutModel",
      "_view_count": null,
      "_view_module": "@jupyter-widgets/base",
      "_view_module_version": "1.2.0",
      "_view_name": "LayoutView",
      "align_content": null,
      "align_items": null,
      "align_self": null,
      "border": null,
      "bottom": null,
      "display": null,
      "flex": null,
      "flex_flow": null,
      "grid_area": null,
      "grid_auto_columns": null,
      "grid_auto_flow": null,
      "grid_auto_rows": null,
      "grid_column": null,
      "grid_gap": null,
      "grid_row": null,
      "grid_template_areas": null,
      "grid_template_columns": null,
      "grid_template_rows": null,
      "height": null,
      "justify_content": null,
      "justify_items": null,
      "left": null,
      "margin": null,
      "max_height": null,
      "max_width": null,
      "min_height": null,
      "min_width": null,
      "object_fit": null,
      "object_position": null,
      "order": null,
      "overflow": null,
      "overflow_x": null,
      "overflow_y": null,
      "padding": null,
      "right": null,
      "top": null,
      "visibility": null,
      "width": null
     }
    },
    "226a0818ae084343a5202d9a4b7512ec": {
     "model_module": "@jupyter-widgets/controls",
     "model_module_version": "1.5.0",
     "model_name": "DescriptionStyleModel",
     "state": {
      "_model_module": "@jupyter-widgets/controls",
      "_model_module_version": "1.5.0",
      "_model_name": "DescriptionStyleModel",
      "_view_count": null,
      "_view_module": "@jupyter-widgets/base",
      "_view_module_version": "1.2.0",
      "_view_name": "StyleView",
      "description_width": ""
     }
    },
    "22e2cb60b143443f906edff8cd1e8f9a": {
     "model_module": "@jupyter-widgets/controls",
     "model_module_version": "1.5.0",
     "model_name": "DescriptionStyleModel",
     "state": {
      "_model_module": "@jupyter-widgets/controls",
      "_model_module_version": "1.5.0",
      "_model_name": "DescriptionStyleModel",
      "_view_count": null,
      "_view_module": "@jupyter-widgets/base",
      "_view_module_version": "1.2.0",
      "_view_name": "StyleView",
      "description_width": ""
     }
    },
    "246e7e61acbd4ae992820bf0b7a3a3f0": {
     "model_module": "@jupyter-widgets/controls",
     "model_module_version": "1.5.0",
     "model_name": "DescriptionStyleModel",
     "state": {
      "_model_module": "@jupyter-widgets/controls",
      "_model_module_version": "1.5.0",
      "_model_name": "DescriptionStyleModel",
      "_view_count": null,
      "_view_module": "@jupyter-widgets/base",
      "_view_module_version": "1.2.0",
      "_view_name": "StyleView",
      "description_width": ""
     }
    },
    "28bbc981ca2f43fd8699578686e3ebc3": {
     "model_module": "@jupyter-widgets/controls",
     "model_module_version": "1.5.0",
     "model_name": "ProgressStyleModel",
     "state": {
      "_model_module": "@jupyter-widgets/controls",
      "_model_module_version": "1.5.0",
      "_model_name": "ProgressStyleModel",
      "_view_count": null,
      "_view_module": "@jupyter-widgets/base",
      "_view_module_version": "1.2.0",
      "_view_name": "StyleView",
      "bar_color": null,
      "description_width": ""
     }
    },
    "298fa49c47e044fc8d7a86d3aafb59a4": {
     "model_module": "@jupyter-widgets/controls",
     "model_module_version": "1.5.0",
     "model_name": "ProgressStyleModel",
     "state": {
      "_model_module": "@jupyter-widgets/controls",
      "_model_module_version": "1.5.0",
      "_model_name": "ProgressStyleModel",
      "_view_count": null,
      "_view_module": "@jupyter-widgets/base",
      "_view_module_version": "1.2.0",
      "_view_name": "StyleView",
      "bar_color": null,
      "description_width": ""
     }
    },
    "2c28877e2cdc4151a2f19cd4a6400d70": {
     "model_module": "@jupyter-widgets/base",
     "model_module_version": "1.2.0",
     "model_name": "LayoutModel",
     "state": {
      "_model_module": "@jupyter-widgets/base",
      "_model_module_version": "1.2.0",
      "_model_name": "LayoutModel",
      "_view_count": null,
      "_view_module": "@jupyter-widgets/base",
      "_view_module_version": "1.2.0",
      "_view_name": "LayoutView",
      "align_content": null,
      "align_items": null,
      "align_self": null,
      "border": null,
      "bottom": null,
      "display": null,
      "flex": null,
      "flex_flow": null,
      "grid_area": null,
      "grid_auto_columns": null,
      "grid_auto_flow": null,
      "grid_auto_rows": null,
      "grid_column": null,
      "grid_gap": null,
      "grid_row": null,
      "grid_template_areas": null,
      "grid_template_columns": null,
      "grid_template_rows": null,
      "height": null,
      "justify_content": null,
      "justify_items": null,
      "left": null,
      "margin": null,
      "max_height": null,
      "max_width": null,
      "min_height": null,
      "min_width": null,
      "object_fit": null,
      "object_position": null,
      "order": null,
      "overflow": null,
      "overflow_x": null,
      "overflow_y": null,
      "padding": null,
      "right": null,
      "top": null,
      "visibility": null,
      "width": null
     }
    },
    "332f06c593ff4d24903cbb5471a9e052": {
     "model_module": "@jupyter-widgets/controls",
     "model_module_version": "1.5.0",
     "model_name": "HTMLModel",
     "state": {
      "_dom_classes": [],
      "_model_module": "@jupyter-widgets/controls",
      "_model_module_version": "1.5.0",
      "_model_name": "HTMLModel",
      "_view_count": null,
      "_view_module": "@jupyter-widgets/controls",
      "_view_module_version": "1.5.0",
      "_view_name": "HTMLView",
      "description": "",
      "description_tooltip": null,
      "layout": "IPY_MODEL_7b12a1aeaa1b41e1ad8f4ad42cf3bbf2",
      "placeholder": "​",
      "style": "IPY_MODEL_7ded87bd50ff4785b064ca4514bba9ee",
      "value": "model.safetensors: 100%"
     }
    },
    "3c6421e147e447788916698387b317c9": {
     "model_module": "@jupyter-widgets/controls",
     "model_module_version": "1.5.0",
     "model_name": "DescriptionStyleModel",
     "state": {
      "_model_module": "@jupyter-widgets/controls",
      "_model_module_version": "1.5.0",
      "_model_name": "DescriptionStyleModel",
      "_view_count": null,
      "_view_module": "@jupyter-widgets/base",
      "_view_module_version": "1.2.0",
      "_view_name": "StyleView",
      "description_width": ""
     }
    },
    "42365c8e9f68463fab18cc604274c667": {
     "model_module": "@jupyter-widgets/controls",
     "model_module_version": "1.5.0",
     "model_name": "DescriptionStyleModel",
     "state": {
      "_model_module": "@jupyter-widgets/controls",
      "_model_module_version": "1.5.0",
      "_model_name": "DescriptionStyleModel",
      "_view_count": null,
      "_view_module": "@jupyter-widgets/base",
      "_view_module_version": "1.2.0",
      "_view_name": "StyleView",
      "description_width": ""
     }
    },
    "43d4221f8ded4cea8cc1dd45c334e901": {
     "model_module": "@jupyter-widgets/base",
     "model_module_version": "1.2.0",
     "model_name": "LayoutModel",
     "state": {
      "_model_module": "@jupyter-widgets/base",
      "_model_module_version": "1.2.0",
      "_model_name": "LayoutModel",
      "_view_count": null,
      "_view_module": "@jupyter-widgets/base",
      "_view_module_version": "1.2.0",
      "_view_name": "LayoutView",
      "align_content": null,
      "align_items": null,
      "align_self": null,
      "border": null,
      "bottom": null,
      "display": null,
      "flex": null,
      "flex_flow": null,
      "grid_area": null,
      "grid_auto_columns": null,
      "grid_auto_flow": null,
      "grid_auto_rows": null,
      "grid_column": null,
      "grid_gap": null,
      "grid_row": null,
      "grid_template_areas": null,
      "grid_template_columns": null,
      "grid_template_rows": null,
      "height": null,
      "justify_content": null,
      "justify_items": null,
      "left": null,
      "margin": null,
      "max_height": null,
      "max_width": null,
      "min_height": null,
      "min_width": null,
      "object_fit": null,
      "object_position": null,
      "order": null,
      "overflow": null,
      "overflow_x": null,
      "overflow_y": null,
      "padding": null,
      "right": null,
      "top": null,
      "visibility": null,
      "width": null
     }
    },
    "4407e24e168f425390b5ed12a851c48b": {
     "model_module": "@jupyter-widgets/base",
     "model_module_version": "1.2.0",
     "model_name": "LayoutModel",
     "state": {
      "_model_module": "@jupyter-widgets/base",
      "_model_module_version": "1.2.0",
      "_model_name": "LayoutModel",
      "_view_count": null,
      "_view_module": "@jupyter-widgets/base",
      "_view_module_version": "1.2.0",
      "_view_name": "LayoutView",
      "align_content": null,
      "align_items": null,
      "align_self": null,
      "border": null,
      "bottom": null,
      "display": null,
      "flex": null,
      "flex_flow": null,
      "grid_area": null,
      "grid_auto_columns": null,
      "grid_auto_flow": null,
      "grid_auto_rows": null,
      "grid_column": null,
      "grid_gap": null,
      "grid_row": null,
      "grid_template_areas": null,
      "grid_template_columns": null,
      "grid_template_rows": null,
      "height": null,
      "justify_content": null,
      "justify_items": null,
      "left": null,
      "margin": null,
      "max_height": null,
      "max_width": null,
      "min_height": null,
      "min_width": null,
      "object_fit": null,
      "object_position": null,
      "order": null,
      "overflow": null,
      "overflow_x": null,
      "overflow_y": null,
      "padding": null,
      "right": null,
      "top": null,
      "visibility": null,
      "width": null
     }
    },
    "44d676fcfaa842b7b4fa4787477159a8": {
     "model_module": "@jupyter-widgets/base",
     "model_module_version": "1.2.0",
     "model_name": "LayoutModel",
     "state": {
      "_model_module": "@jupyter-widgets/base",
      "_model_module_version": "1.2.0",
      "_model_name": "LayoutModel",
      "_view_count": null,
      "_view_module": "@jupyter-widgets/base",
      "_view_module_version": "1.2.0",
      "_view_name": "LayoutView",
      "align_content": null,
      "align_items": null,
      "align_self": null,
      "border": null,
      "bottom": null,
      "display": null,
      "flex": null,
      "flex_flow": null,
      "grid_area": null,
      "grid_auto_columns": null,
      "grid_auto_flow": null,
      "grid_auto_rows": null,
      "grid_column": null,
      "grid_gap": null,
      "grid_row": null,
      "grid_template_areas": null,
      "grid_template_columns": null,
      "grid_template_rows": null,
      "height": null,
      "justify_content": null,
      "justify_items": null,
      "left": null,
      "margin": null,
      "max_height": null,
      "max_width": null,
      "min_height": null,
      "min_width": null,
      "object_fit": null,
      "object_position": null,
      "order": null,
      "overflow": null,
      "overflow_x": null,
      "overflow_y": null,
      "padding": null,
      "right": null,
      "top": null,
      "visibility": null,
      "width": null
     }
    },
    "4d6455cfaf1240dcb1cbaaafa7801107": {
     "model_module": "@jupyter-widgets/base",
     "model_module_version": "1.2.0",
     "model_name": "LayoutModel",
     "state": {
      "_model_module": "@jupyter-widgets/base",
      "_model_module_version": "1.2.0",
      "_model_name": "LayoutModel",
      "_view_count": null,
      "_view_module": "@jupyter-widgets/base",
      "_view_module_version": "1.2.0",
      "_view_name": "LayoutView",
      "align_content": null,
      "align_items": null,
      "align_self": null,
      "border": null,
      "bottom": null,
      "display": null,
      "flex": null,
      "flex_flow": null,
      "grid_area": null,
      "grid_auto_columns": null,
      "grid_auto_flow": null,
      "grid_auto_rows": null,
      "grid_column": null,
      "grid_gap": null,
      "grid_row": null,
      "grid_template_areas": null,
      "grid_template_columns": null,
      "grid_template_rows": null,
      "height": null,
      "justify_content": null,
      "justify_items": null,
      "left": null,
      "margin": null,
      "max_height": null,
      "max_width": null,
      "min_height": null,
      "min_width": null,
      "object_fit": null,
      "object_position": null,
      "order": null,
      "overflow": null,
      "overflow_x": null,
      "overflow_y": null,
      "padding": null,
      "right": null,
      "top": null,
      "visibility": null,
      "width": null
     }
    },
    "4f5e2fea6a764d1490ddd235081b0cbc": {
     "model_module": "@jupyter-widgets/base",
     "model_module_version": "1.2.0",
     "model_name": "LayoutModel",
     "state": {
      "_model_module": "@jupyter-widgets/base",
      "_model_module_version": "1.2.0",
      "_model_name": "LayoutModel",
      "_view_count": null,
      "_view_module": "@jupyter-widgets/base",
      "_view_module_version": "1.2.0",
      "_view_name": "LayoutView",
      "align_content": null,
      "align_items": null,
      "align_self": null,
      "border": null,
      "bottom": null,
      "display": null,
      "flex": null,
      "flex_flow": null,
      "grid_area": null,
      "grid_auto_columns": null,
      "grid_auto_flow": null,
      "grid_auto_rows": null,
      "grid_column": null,
      "grid_gap": null,
      "grid_row": null,
      "grid_template_areas": null,
      "grid_template_columns": null,
      "grid_template_rows": null,
      "height": null,
      "justify_content": null,
      "justify_items": null,
      "left": null,
      "margin": null,
      "max_height": null,
      "max_width": null,
      "min_height": null,
      "min_width": null,
      "object_fit": null,
      "object_position": null,
      "order": null,
      "overflow": null,
      "overflow_x": null,
      "overflow_y": null,
      "padding": null,
      "right": null,
      "top": null,
      "visibility": null,
      "width": null
     }
    },
    "518d85760ae6444481eba215db18d382": {
     "model_module": "@jupyter-widgets/base",
     "model_module_version": "1.2.0",
     "model_name": "LayoutModel",
     "state": {
      "_model_module": "@jupyter-widgets/base",
      "_model_module_version": "1.2.0",
      "_model_name": "LayoutModel",
      "_view_count": null,
      "_view_module": "@jupyter-widgets/base",
      "_view_module_version": "1.2.0",
      "_view_name": "LayoutView",
      "align_content": null,
      "align_items": null,
      "align_self": null,
      "border": null,
      "bottom": null,
      "display": null,
      "flex": null,
      "flex_flow": null,
      "grid_area": null,
      "grid_auto_columns": null,
      "grid_auto_flow": null,
      "grid_auto_rows": null,
      "grid_column": null,
      "grid_gap": null,
      "grid_row": null,
      "grid_template_areas": null,
      "grid_template_columns": null,
      "grid_template_rows": null,
      "height": null,
      "justify_content": null,
      "justify_items": null,
      "left": null,
      "margin": null,
      "max_height": null,
      "max_width": null,
      "min_height": null,
      "min_width": null,
      "object_fit": null,
      "object_position": null,
      "order": null,
      "overflow": null,
      "overflow_x": null,
      "overflow_y": null,
      "padding": null,
      "right": null,
      "top": null,
      "visibility": null,
      "width": null
     }
    },
    "529539a3db54447491ea8405aac633c1": {
     "model_module": "@jupyter-widgets/controls",
     "model_module_version": "1.5.0",
     "model_name": "ProgressStyleModel",
     "state": {
      "_model_module": "@jupyter-widgets/controls",
      "_model_module_version": "1.5.0",
      "_model_name": "ProgressStyleModel",
      "_view_count": null,
      "_view_module": "@jupyter-widgets/base",
      "_view_module_version": "1.2.0",
      "_view_name": "StyleView",
      "bar_color": null,
      "description_width": ""
     }
    },
    "52f5694e00364514aad03f6c2092fb5d": {
     "model_module": "@jupyter-widgets/base",
     "model_module_version": "1.2.0",
     "model_name": "LayoutModel",
     "state": {
      "_model_module": "@jupyter-widgets/base",
      "_model_module_version": "1.2.0",
      "_model_name": "LayoutModel",
      "_view_count": null,
      "_view_module": "@jupyter-widgets/base",
      "_view_module_version": "1.2.0",
      "_view_name": "LayoutView",
      "align_content": null,
      "align_items": null,
      "align_self": null,
      "border": null,
      "bottom": null,
      "display": null,
      "flex": null,
      "flex_flow": null,
      "grid_area": null,
      "grid_auto_columns": null,
      "grid_auto_flow": null,
      "grid_auto_rows": null,
      "grid_column": null,
      "grid_gap": null,
      "grid_row": null,
      "grid_template_areas": null,
      "grid_template_columns": null,
      "grid_template_rows": null,
      "height": null,
      "justify_content": null,
      "justify_items": null,
      "left": null,
      "margin": null,
      "max_height": null,
      "max_width": null,
      "min_height": null,
      "min_width": null,
      "object_fit": null,
      "object_position": null,
      "order": null,
      "overflow": null,
      "overflow_x": null,
      "overflow_y": null,
      "padding": null,
      "right": null,
      "top": null,
      "visibility": null,
      "width": null
     }
    },
    "544939501fe042948fb6d22e874b3e5d": {
     "model_module": "@jupyter-widgets/controls",
     "model_module_version": "1.5.0",
     "model_name": "ProgressStyleModel",
     "state": {
      "_model_module": "@jupyter-widgets/controls",
      "_model_module_version": "1.5.0",
      "_model_name": "ProgressStyleModel",
      "_view_count": null,
      "_view_module": "@jupyter-widgets/base",
      "_view_module_version": "1.2.0",
      "_view_name": "StyleView",
      "bar_color": null,
      "description_width": ""
     }
    },
    "55d1de124b62455cb1e9e025685dc95e": {
     "model_module": "@jupyter-widgets/controls",
     "model_module_version": "1.5.0",
     "model_name": "HBoxModel",
     "state": {
      "_dom_classes": [],
      "_model_module": "@jupyter-widgets/controls",
      "_model_module_version": "1.5.0",
      "_model_name": "HBoxModel",
      "_view_count": null,
      "_view_module": "@jupyter-widgets/controls",
      "_view_module_version": "1.5.0",
      "_view_name": "HBoxView",
      "box_style": "",
      "children": [
       "IPY_MODEL_8129a244600d465f93fb5a9daf4062d5",
       "IPY_MODEL_e264372deecf421fa9f07eca3f00b976",
       "IPY_MODEL_5bc2d73c1dcb4fd8884c1e44c421fb18"
      ],
      "layout": "IPY_MODEL_c0d951938b00458ba83fca71bc084200"
     }
    },
    "5a22adbc59e64bfd81116d3b9dcb427e": {
     "model_module": "@jupyter-widgets/base",
     "model_module_version": "1.2.0",
     "model_name": "LayoutModel",
     "state": {
      "_model_module": "@jupyter-widgets/base",
      "_model_module_version": "1.2.0",
      "_model_name": "LayoutModel",
      "_view_count": null,
      "_view_module": "@jupyter-widgets/base",
      "_view_module_version": "1.2.0",
      "_view_name": "LayoutView",
      "align_content": null,
      "align_items": null,
      "align_self": null,
      "border": null,
      "bottom": null,
      "display": null,
      "flex": null,
      "flex_flow": null,
      "grid_area": null,
      "grid_auto_columns": null,
      "grid_auto_flow": null,
      "grid_auto_rows": null,
      "grid_column": null,
      "grid_gap": null,
      "grid_row": null,
      "grid_template_areas": null,
      "grid_template_columns": null,
      "grid_template_rows": null,
      "height": null,
      "justify_content": null,
      "justify_items": null,
      "left": null,
      "margin": null,
      "max_height": null,
      "max_width": null,
      "min_height": null,
      "min_width": null,
      "object_fit": null,
      "object_position": null,
      "order": null,
      "overflow": null,
      "overflow_x": null,
      "overflow_y": null,
      "padding": null,
      "right": null,
      "top": null,
      "visibility": null,
      "width": null
     }
    },
    "5bc2d73c1dcb4fd8884c1e44c421fb18": {
     "model_module": "@jupyter-widgets/controls",
     "model_module_version": "1.5.0",
     "model_name": "HTMLModel",
     "state": {
      "_dom_classes": [],
      "_model_module": "@jupyter-widgets/controls",
      "_model_module_version": "1.5.0",
      "_model_name": "HTMLModel",
      "_view_count": null,
      "_view_module": "@jupyter-widgets/controls",
      "_view_module_version": "1.5.0",
      "_view_name": "HTMLView",
      "description": "",
      "description_tooltip": null,
      "layout": "IPY_MODEL_05650100304745759936bea5bb6f6bf2",
      "placeholder": "​",
      "style": "IPY_MODEL_3c6421e147e447788916698387b317c9",
      "value": " 13570/13570 [00:00&lt;00:00, 233540.84 examples/s]"
     }
    },
    "5c0945afeca740a5908bc2a79e43ba1a": {
     "model_module": "@jupyter-widgets/base",
     "model_module_version": "1.2.0",
     "model_name": "LayoutModel",
     "state": {
      "_model_module": "@jupyter-widgets/base",
      "_model_module_version": "1.2.0",
      "_model_name": "LayoutModel",
      "_view_count": null,
      "_view_module": "@jupyter-widgets/base",
      "_view_module_version": "1.2.0",
      "_view_name": "LayoutView",
      "align_content": null,
      "align_items": null,
      "align_self": null,
      "border": null,
      "bottom": null,
      "display": null,
      "flex": null,
      "flex_flow": null,
      "grid_area": null,
      "grid_auto_columns": null,
      "grid_auto_flow": null,
      "grid_auto_rows": null,
      "grid_column": null,
      "grid_gap": null,
      "grid_row": null,
      "grid_template_areas": null,
      "grid_template_columns": null,
      "grid_template_rows": null,
      "height": null,
      "justify_content": null,
      "justify_items": null,
      "left": null,
      "margin": null,
      "max_height": null,
      "max_width": null,
      "min_height": null,
      "min_width": null,
      "object_fit": null,
      "object_position": null,
      "order": null,
      "overflow": null,
      "overflow_x": null,
      "overflow_y": null,
      "padding": null,
      "right": null,
      "top": null,
      "visibility": null,
      "width": null
     }
    },
    "65e1373f2671465f9f6f5c58098da987": {
     "model_module": "@jupyter-widgets/controls",
     "model_module_version": "1.5.0",
     "model_name": "HTMLModel",
     "state": {
      "_dom_classes": [],
      "_model_module": "@jupyter-widgets/controls",
      "_model_module_version": "1.5.0",
      "_model_name": "HTMLModel",
      "_view_count": null,
      "_view_module": "@jupyter-widgets/controls",
      "_view_module_version": "1.5.0",
      "_view_name": "HTMLView",
      "description": "",
      "description_tooltip": null,
      "layout": "IPY_MODEL_218d6687c8394bcc9e728fd58c35a55a",
      "placeholder": "​",
      "style": "IPY_MODEL_226a0818ae084343a5202d9a4b7512ec",
      "value": "Saving the dataset (1/1 shards): 100%"
     }
    },
    "775f78370a3849acb3657011e14b6854": {
     "model_module": "@jupyter-widgets/controls",
     "model_module_version": "1.5.0",
     "model_name": "HTMLModel",
     "state": {
      "_dom_classes": [],
      "_model_module": "@jupyter-widgets/controls",
      "_model_module_version": "1.5.0",
      "_model_name": "HTMLModel",
      "_view_count": null,
      "_view_module": "@jupyter-widgets/controls",
      "_view_module_version": "1.5.0",
      "_view_name": "HTMLView",
      "description": "",
      "description_tooltip": null,
      "layout": "IPY_MODEL_96ada745e48c435db25b6e7713b6a2f4",
      "placeholder": "​",
      "style": "IPY_MODEL_42365c8e9f68463fab18cc604274c667",
      "value": " 2905/2905 [00:00&lt;00:00, 73057.48 examples/s]"
     }
    },
    "7a19261b00e4431ca0294b73355c97f8": {
     "model_module": "@jupyter-widgets/base",
     "model_module_version": "1.2.0",
     "model_name": "LayoutModel",
     "state": {
      "_model_module": "@jupyter-widgets/base",
      "_model_module_version": "1.2.0",
      "_model_name": "LayoutModel",
      "_view_count": null,
      "_view_module": "@jupyter-widgets/base",
      "_view_module_version": "1.2.0",
      "_view_name": "LayoutView",
      "align_content": null,
      "align_items": null,
      "align_self": null,
      "border": null,
      "bottom": null,
      "display": null,
      "flex": null,
      "flex_flow": null,
      "grid_area": null,
      "grid_auto_columns": null,
      "grid_auto_flow": null,
      "grid_auto_rows": null,
      "grid_column": null,
      "grid_gap": null,
      "grid_row": null,
      "grid_template_areas": null,
      "grid_template_columns": null,
      "grid_template_rows": null,
      "height": null,
      "justify_content": null,
      "justify_items": null,
      "left": null,
      "margin": null,
      "max_height": null,
      "max_width": null,
      "min_height": null,
      "min_width": null,
      "object_fit": null,
      "object_position": null,
      "order": null,
      "overflow": null,
      "overflow_x": null,
      "overflow_y": null,
      "padding": null,
      "right": null,
      "top": null,
      "visibility": null,
      "width": null
     }
    },
    "7b12a1aeaa1b41e1ad8f4ad42cf3bbf2": {
     "model_module": "@jupyter-widgets/base",
     "model_module_version": "1.2.0",
     "model_name": "LayoutModel",
     "state": {
      "_model_module": "@jupyter-widgets/base",
      "_model_module_version": "1.2.0",
      "_model_name": "LayoutModel",
      "_view_count": null,
      "_view_module": "@jupyter-widgets/base",
      "_view_module_version": "1.2.0",
      "_view_name": "LayoutView",
      "align_content": null,
      "align_items": null,
      "align_self": null,
      "border": null,
      "bottom": null,
      "display": null,
      "flex": null,
      "flex_flow": null,
      "grid_area": null,
      "grid_auto_columns": null,
      "grid_auto_flow": null,
      "grid_auto_rows": null,
      "grid_column": null,
      "grid_gap": null,
      "grid_row": null,
      "grid_template_areas": null,
      "grid_template_columns": null,
      "grid_template_rows": null,
      "height": null,
      "justify_content": null,
      "justify_items": null,
      "left": null,
      "margin": null,
      "max_height": null,
      "max_width": null,
      "min_height": null,
      "min_width": null,
      "object_fit": null,
      "object_position": null,
      "order": null,
      "overflow": null,
      "overflow_x": null,
      "overflow_y": null,
      "padding": null,
      "right": null,
      "top": null,
      "visibility": null,
      "width": null
     }
    },
    "7ded87bd50ff4785b064ca4514bba9ee": {
     "model_module": "@jupyter-widgets/controls",
     "model_module_version": "1.5.0",
     "model_name": "DescriptionStyleModel",
     "state": {
      "_model_module": "@jupyter-widgets/controls",
      "_model_module_version": "1.5.0",
      "_model_name": "DescriptionStyleModel",
      "_view_count": null,
      "_view_module": "@jupyter-widgets/base",
      "_view_module_version": "1.2.0",
      "_view_name": "StyleView",
      "description_width": ""
     }
    },
    "8129a244600d465f93fb5a9daf4062d5": {
     "model_module": "@jupyter-widgets/controls",
     "model_module_version": "1.5.0",
     "model_name": "HTMLModel",
     "state": {
      "_dom_classes": [],
      "_model_module": "@jupyter-widgets/controls",
      "_model_module_version": "1.5.0",
      "_model_name": "HTMLModel",
      "_view_count": null,
      "_view_module": "@jupyter-widgets/controls",
      "_view_module_version": "1.5.0",
      "_view_name": "HTMLView",
      "description": "",
      "description_tooltip": null,
      "layout": "IPY_MODEL_b53212a8ae274ffda67a7eed51351a97",
      "placeholder": "​",
      "style": "IPY_MODEL_81d33c39388849efaa8a273a93e4805e",
      "value": "Saving the dataset (1/1 shards): 100%"
     }
    },
    "81d33c39388849efaa8a273a93e4805e": {
     "model_module": "@jupyter-widgets/controls",
     "model_module_version": "1.5.0",
     "model_name": "DescriptionStyleModel",
     "state": {
      "_model_module": "@jupyter-widgets/controls",
      "_model_module_version": "1.5.0",
      "_model_name": "DescriptionStyleModel",
      "_view_count": null,
      "_view_module": "@jupyter-widgets/base",
      "_view_module_version": "1.2.0",
      "_view_name": "StyleView",
      "description_width": ""
     }
    },
    "850f101a7da5404e941871582084e1aa": {
     "model_module": "@jupyter-widgets/controls",
     "model_module_version": "1.5.0",
     "model_name": "HBoxModel",
     "state": {
      "_dom_classes": [],
      "_model_module": "@jupyter-widgets/controls",
      "_model_module_version": "1.5.0",
      "_model_name": "HBoxModel",
      "_view_count": null,
      "_view_module": "@jupyter-widgets/controls",
      "_view_module_version": "1.5.0",
      "_view_name": "HBoxView",
      "box_style": "",
      "children": [
       "IPY_MODEL_332f06c593ff4d24903cbb5471a9e052",
       "IPY_MODEL_8522d577751843d4ab5956691d9d45f4",
       "IPY_MODEL_f2b45060dfa04dbc8a5d43dcc2e03cbf"
      ],
      "layout": "IPY_MODEL_d07a95d115a94068a0ec1859e588e574"
     }
    },
    "8522d577751843d4ab5956691d9d45f4": {
     "model_module": "@jupyter-widgets/controls",
     "model_module_version": "1.5.0",
     "model_name": "FloatProgressModel",
     "state": {
      "_dom_classes": [],
      "_model_module": "@jupyter-widgets/controls",
      "_model_module_version": "1.5.0",
      "_model_name": "FloatProgressModel",
      "_view_count": null,
      "_view_module": "@jupyter-widgets/controls",
      "_view_module_version": "1.5.0",
      "_view_name": "ProgressView",
      "bar_style": "success",
      "description": "",
      "description_tooltip": null,
      "layout": "IPY_MODEL_5c0945afeca740a5908bc2a79e43ba1a",
      "max": 548105171,
      "min": 0,
      "orientation": "horizontal",
      "style": "IPY_MODEL_28bbc981ca2f43fd8699578686e3ebc3",
      "value": 548105171
     }
    },
    "8f8da919f11c4ae3b68c801027b35418": {
     "model_module": "@jupyter-widgets/controls",
     "model_module_version": "1.5.0",
     "model_name": "HBoxModel",
     "state": {
      "_dom_classes": [],
      "_model_module": "@jupyter-widgets/controls",
      "_model_module_version": "1.5.0",
      "_model_name": "HBoxModel",
      "_view_count": null,
      "_view_module": "@jupyter-widgets/controls",
      "_view_module_version": "1.5.0",
      "_view_name": "HBoxView",
      "box_style": "",
      "children": [
       "IPY_MODEL_9b6c8525469e442d8d67c5b762845d32",
       "IPY_MODEL_b8fdd58a4b4745a29f4e400d21eca55f",
       "IPY_MODEL_e2c8eacc65aa4f18942c42c69e7c9596"
      ],
      "layout": "IPY_MODEL_518d85760ae6444481eba215db18d382"
     }
    },
    "91cb109e0f7b4ca4a6aa339a1fd03bab": {
     "model_module": "@jupyter-widgets/controls",
     "model_module_version": "1.5.0",
     "model_name": "DescriptionStyleModel",
     "state": {
      "_model_module": "@jupyter-widgets/controls",
      "_model_module_version": "1.5.0",
      "_model_name": "DescriptionStyleModel",
      "_view_count": null,
      "_view_module": "@jupyter-widgets/base",
      "_view_module_version": "1.2.0",
      "_view_name": "StyleView",
      "description_width": ""
     }
    },
    "969d93189fe8460a9ac5d440a99f3d19": {
     "model_module": "@jupyter-widgets/base",
     "model_module_version": "1.2.0",
     "model_name": "LayoutModel",
     "state": {
      "_model_module": "@jupyter-widgets/base",
      "_model_module_version": "1.2.0",
      "_model_name": "LayoutModel",
      "_view_count": null,
      "_view_module": "@jupyter-widgets/base",
      "_view_module_version": "1.2.0",
      "_view_name": "LayoutView",
      "align_content": null,
      "align_items": null,
      "align_self": null,
      "border": null,
      "bottom": null,
      "display": null,
      "flex": null,
      "flex_flow": null,
      "grid_area": null,
      "grid_auto_columns": null,
      "grid_auto_flow": null,
      "grid_auto_rows": null,
      "grid_column": null,
      "grid_gap": null,
      "grid_row": null,
      "grid_template_areas": null,
      "grid_template_columns": null,
      "grid_template_rows": null,
      "height": null,
      "justify_content": null,
      "justify_items": null,
      "left": null,
      "margin": null,
      "max_height": null,
      "max_width": null,
      "min_height": null,
      "min_width": null,
      "object_fit": null,
      "object_position": null,
      "order": null,
      "overflow": null,
      "overflow_x": null,
      "overflow_y": null,
      "padding": null,
      "right": null,
      "top": null,
      "visibility": null,
      "width": null
     }
    },
    "96ada745e48c435db25b6e7713b6a2f4": {
     "model_module": "@jupyter-widgets/base",
     "model_module_version": "1.2.0",
     "model_name": "LayoutModel",
     "state": {
      "_model_module": "@jupyter-widgets/base",
      "_model_module_version": "1.2.0",
      "_model_name": "LayoutModel",
      "_view_count": null,
      "_view_module": "@jupyter-widgets/base",
      "_view_module_version": "1.2.0",
      "_view_name": "LayoutView",
      "align_content": null,
      "align_items": null,
      "align_self": null,
      "border": null,
      "bottom": null,
      "display": null,
      "flex": null,
      "flex_flow": null,
      "grid_area": null,
      "grid_auto_columns": null,
      "grid_auto_flow": null,
      "grid_auto_rows": null,
      "grid_column": null,
      "grid_gap": null,
      "grid_row": null,
      "grid_template_areas": null,
      "grid_template_columns": null,
      "grid_template_rows": null,
      "height": null,
      "justify_content": null,
      "justify_items": null,
      "left": null,
      "margin": null,
      "max_height": null,
      "max_width": null,
      "min_height": null,
      "min_width": null,
      "object_fit": null,
      "object_position": null,
      "order": null,
      "overflow": null,
      "overflow_x": null,
      "overflow_y": null,
      "padding": null,
      "right": null,
      "top": null,
      "visibility": null,
      "width": null
     }
    },
    "9a28d643ccce4876809cf682b15e3c0c": {
     "model_module": "@jupyter-widgets/controls",
     "model_module_version": "1.5.0",
     "model_name": "DescriptionStyleModel",
     "state": {
      "_model_module": "@jupyter-widgets/controls",
      "_model_module_version": "1.5.0",
      "_model_name": "DescriptionStyleModel",
      "_view_count": null,
      "_view_module": "@jupyter-widgets/base",
      "_view_module_version": "1.2.0",
      "_view_name": "StyleView",
      "description_width": ""
     }
    },
    "9b6c8525469e442d8d67c5b762845d32": {
     "model_module": "@jupyter-widgets/controls",
     "model_module_version": "1.5.0",
     "model_name": "HTMLModel",
     "state": {
      "_dom_classes": [],
      "_model_module": "@jupyter-widgets/controls",
      "_model_module_version": "1.5.0",
      "_model_name": "HTMLModel",
      "_view_count": null,
      "_view_module": "@jupyter-widgets/controls",
      "_view_module_version": "1.5.0",
      "_view_name": "HTMLView",
      "description": "",
      "description_tooltip": null,
      "layout": "IPY_MODEL_969d93189fe8460a9ac5d440a99f3d19",
      "placeholder": "​",
      "style": "IPY_MODEL_c0f6671fea9d41cfb4b2fdfea723c4d1",
      "value": "Saving the dataset (1/1 shards): 100%"
     }
    },
    "a16ff77d41734dcaa3a5e449736b27d5": {
     "model_module": "@jupyter-widgets/controls",
     "model_module_version": "1.5.0",
     "model_name": "HTMLModel",
     "state": {
      "_dom_classes": [],
      "_model_module": "@jupyter-widgets/controls",
      "_model_module_version": "1.5.0",
      "_model_name": "HTMLModel",
      "_view_count": null,
      "_view_module": "@jupyter-widgets/controls",
      "_view_module_version": "1.5.0",
      "_view_name": "HTMLView",
      "description": "",
      "description_tooltip": null,
      "layout": "IPY_MODEL_4407e24e168f425390b5ed12a851c48b",
      "placeholder": "​",
      "style": "IPY_MODEL_91cb109e0f7b4ca4a6aa339a1fd03bab",
      "value": " 124/124 [00:00&lt;00:00, 7.01kB/s]"
     }
    },
    "aa1f6007060b426999f7bfa10b88ed35": {
     "model_module": "@jupyter-widgets/base",
     "model_module_version": "1.2.0",
     "model_name": "LayoutModel",
     "state": {
      "_model_module": "@jupyter-widgets/base",
      "_model_module_version": "1.2.0",
      "_model_name": "LayoutModel",
      "_view_count": null,
      "_view_module": "@jupyter-widgets/base",
      "_view_module_version": "1.2.0",
      "_view_name": "LayoutView",
      "align_content": null,
      "align_items": null,
      "align_self": null,
      "border": null,
      "bottom": null,
      "display": null,
      "flex": null,
      "flex_flow": null,
      "grid_area": null,
      "grid_auto_columns": null,
      "grid_auto_flow": null,
      "grid_auto_rows": null,
      "grid_column": null,
      "grid_gap": null,
      "grid_row": null,
      "grid_template_areas": null,
      "grid_template_columns": null,
      "grid_template_rows": null,
      "height": null,
      "justify_content": null,
      "justify_items": null,
      "left": null,
      "margin": null,
      "max_height": null,
      "max_width": null,
      "min_height": null,
      "min_width": null,
      "object_fit": null,
      "object_position": null,
      "order": null,
      "overflow": null,
      "overflow_x": null,
      "overflow_y": null,
      "padding": null,
      "right": null,
      "top": null,
      "visibility": null,
      "width": null
     }
    },
    "b53212a8ae274ffda67a7eed51351a97": {
     "model_module": "@jupyter-widgets/base",
     "model_module_version": "1.2.0",
     "model_name": "LayoutModel",
     "state": {
      "_model_module": "@jupyter-widgets/base",
      "_model_module_version": "1.2.0",
      "_model_name": "LayoutModel",
      "_view_count": null,
      "_view_module": "@jupyter-widgets/base",
      "_view_module_version": "1.2.0",
      "_view_name": "LayoutView",
      "align_content": null,
      "align_items": null,
      "align_self": null,
      "border": null,
      "bottom": null,
      "display": null,
      "flex": null,
      "flex_flow": null,
      "grid_area": null,
      "grid_auto_columns": null,
      "grid_auto_flow": null,
      "grid_auto_rows": null,
      "grid_column": null,
      "grid_gap": null,
      "grid_row": null,
      "grid_template_areas": null,
      "grid_template_columns": null,
      "grid_template_rows": null,
      "height": null,
      "justify_content": null,
      "justify_items": null,
      "left": null,
      "margin": null,
      "max_height": null,
      "max_width": null,
      "min_height": null,
      "min_width": null,
      "object_fit": null,
      "object_position": null,
      "order": null,
      "overflow": null,
      "overflow_x": null,
      "overflow_y": null,
      "padding": null,
      "right": null,
      "top": null,
      "visibility": null,
      "width": null
     }
    },
    "b8fdd58a4b4745a29f4e400d21eca55f": {
     "model_module": "@jupyter-widgets/controls",
     "model_module_version": "1.5.0",
     "model_name": "FloatProgressModel",
     "state": {
      "_dom_classes": [],
      "_model_module": "@jupyter-widgets/controls",
      "_model_module_version": "1.5.0",
      "_model_name": "FloatProgressModel",
      "_view_count": null,
      "_view_module": "@jupyter-widgets/controls",
      "_view_module_version": "1.5.0",
      "_view_name": "ProgressView",
      "bar_style": "success",
      "description": "",
      "description_tooltip": null,
      "layout": "IPY_MODEL_4f5e2fea6a764d1490ddd235081b0cbc",
      "max": 2905,
      "min": 0,
      "orientation": "horizontal",
      "style": "IPY_MODEL_298fa49c47e044fc8d7a86d3aafb59a4",
      "value": 2905
     }
    },
    "c0d951938b00458ba83fca71bc084200": {
     "model_module": "@jupyter-widgets/base",
     "model_module_version": "1.2.0",
     "model_name": "LayoutModel",
     "state": {
      "_model_module": "@jupyter-widgets/base",
      "_model_module_version": "1.2.0",
      "_model_name": "LayoutModel",
      "_view_count": null,
      "_view_module": "@jupyter-widgets/base",
      "_view_module_version": "1.2.0",
      "_view_name": "LayoutView",
      "align_content": null,
      "align_items": null,
      "align_self": null,
      "border": null,
      "bottom": null,
      "display": null,
      "flex": null,
      "flex_flow": null,
      "grid_area": null,
      "grid_auto_columns": null,
      "grid_auto_flow": null,
      "grid_auto_rows": null,
      "grid_column": null,
      "grid_gap": null,
      "grid_row": null,
      "grid_template_areas": null,
      "grid_template_columns": null,
      "grid_template_rows": null,
      "height": null,
      "justify_content": null,
      "justify_items": null,
      "left": null,
      "margin": null,
      "max_height": null,
      "max_width": null,
      "min_height": null,
      "min_width": null,
      "object_fit": null,
      "object_position": null,
      "order": null,
      "overflow": null,
      "overflow_x": null,
      "overflow_y": null,
      "padding": null,
      "right": null,
      "top": null,
      "visibility": null,
      "width": null
     }
    },
    "c0f6671fea9d41cfb4b2fdfea723c4d1": {
     "model_module": "@jupyter-widgets/controls",
     "model_module_version": "1.5.0",
     "model_name": "DescriptionStyleModel",
     "state": {
      "_model_module": "@jupyter-widgets/controls",
      "_model_module_version": "1.5.0",
      "_model_name": "DescriptionStyleModel",
      "_view_count": null,
      "_view_module": "@jupyter-widgets/base",
      "_view_module_version": "1.2.0",
      "_view_name": "StyleView",
      "description_width": ""
     }
    },
    "c21f1c5f98d64c99bff3122482b2c1e7": {
     "model_module": "@jupyter-widgets/controls",
     "model_module_version": "1.5.0",
     "model_name": "ProgressStyleModel",
     "state": {
      "_model_module": "@jupyter-widgets/controls",
      "_model_module_version": "1.5.0",
      "_model_name": "ProgressStyleModel",
      "_view_count": null,
      "_view_module": "@jupyter-widgets/base",
      "_view_module_version": "1.2.0",
      "_view_name": "StyleView",
      "bar_color": null,
      "description_width": ""
     }
    },
    "cd760ed8559649cd91efa0a65f083516": {
     "model_module": "@jupyter-widgets/controls",
     "model_module_version": "1.5.0",
     "model_name": "HTMLModel",
     "state": {
      "_dom_classes": [],
      "_model_module": "@jupyter-widgets/controls",
      "_model_module_version": "1.5.0",
      "_model_name": "HTMLModel",
      "_view_count": null,
      "_view_module": "@jupyter-widgets/controls",
      "_view_module_version": "1.5.0",
      "_view_name": "HTMLView",
      "description": "",
      "description_tooltip": null,
      "layout": "IPY_MODEL_7a19261b00e4431ca0294b73355c97f8",
      "placeholder": "​",
      "style": "IPY_MODEL_9a28d643ccce4876809cf682b15e3c0c",
      "value": "generation_config.json: 100%"
     }
    },
    "d07a95d115a94068a0ec1859e588e574": {
     "model_module": "@jupyter-widgets/base",
     "model_module_version": "1.2.0",
     "model_name": "LayoutModel",
     "state": {
      "_model_module": "@jupyter-widgets/base",
      "_model_module_version": "1.2.0",
      "_model_name": "LayoutModel",
      "_view_count": null,
      "_view_module": "@jupyter-widgets/base",
      "_view_module_version": "1.2.0",
      "_view_name": "LayoutView",
      "align_content": null,
      "align_items": null,
      "align_self": null,
      "border": null,
      "bottom": null,
      "display": null,
      "flex": null,
      "flex_flow": null,
      "grid_area": null,
      "grid_auto_columns": null,
      "grid_auto_flow": null,
      "grid_auto_rows": null,
      "grid_column": null,
      "grid_gap": null,
      "grid_row": null,
      "grid_template_areas": null,
      "grid_template_columns": null,
      "grid_template_rows": null,
      "height": null,
      "justify_content": null,
      "justify_items": null,
      "left": null,
      "margin": null,
      "max_height": null,
      "max_width": null,
      "min_height": null,
      "min_width": null,
      "object_fit": null,
      "object_position": null,
      "order": null,
      "overflow": null,
      "overflow_x": null,
      "overflow_y": null,
      "padding": null,
      "right": null,
      "top": null,
      "visibility": null,
      "width": null
     }
    },
    "d88dd3e09ccf4f4483ab930e203a33c9": {
     "model_module": "@jupyter-widgets/controls",
     "model_module_version": "1.5.0",
     "model_name": "FloatProgressModel",
     "state": {
      "_dom_classes": [],
      "_model_module": "@jupyter-widgets/controls",
      "_model_module_version": "1.5.0",
      "_model_name": "FloatProgressModel",
      "_view_count": null,
      "_view_module": "@jupyter-widgets/controls",
      "_view_module_version": "1.5.0",
      "_view_name": "ProgressView",
      "bar_style": "success",
      "description": "",
      "description_tooltip": null,
      "layout": "IPY_MODEL_aa1f6007060b426999f7bfa10b88ed35",
      "max": 124,
      "min": 0,
      "orientation": "horizontal",
      "style": "IPY_MODEL_544939501fe042948fb6d22e874b3e5d",
      "value": 124
     }
    },
    "e264372deecf421fa9f07eca3f00b976": {
     "model_module": "@jupyter-widgets/controls",
     "model_module_version": "1.5.0",
     "model_name": "FloatProgressModel",
     "state": {
      "_dom_classes": [],
      "_model_module": "@jupyter-widgets/controls",
      "_model_module_version": "1.5.0",
      "_model_name": "FloatProgressModel",
      "_view_count": null,
      "_view_module": "@jupyter-widgets/controls",
      "_view_module_version": "1.5.0",
      "_view_name": "ProgressView",
      "bar_style": "success",
      "description": "",
      "description_tooltip": null,
      "layout": "IPY_MODEL_44d676fcfaa842b7b4fa4787477159a8",
      "max": 13570,
      "min": 0,
      "orientation": "horizontal",
      "style": "IPY_MODEL_529539a3db54447491ea8405aac633c1",
      "value": 13570
     }
    },
    "e2c8eacc65aa4f18942c42c69e7c9596": {
     "model_module": "@jupyter-widgets/controls",
     "model_module_version": "1.5.0",
     "model_name": "HTMLModel",
     "state": {
      "_dom_classes": [],
      "_model_module": "@jupyter-widgets/controls",
      "_model_module_version": "1.5.0",
      "_model_name": "HTMLModel",
      "_view_count": null,
      "_view_module": "@jupyter-widgets/controls",
      "_view_module_version": "1.5.0",
      "_view_name": "HTMLView",
      "description": "",
      "description_tooltip": null,
      "layout": "IPY_MODEL_52f5694e00364514aad03f6c2092fb5d",
      "placeholder": "​",
      "style": "IPY_MODEL_22e2cb60b143443f906edff8cd1e8f9a",
      "value": " 2905/2905 [00:00&lt;00:00, 89408.15 examples/s]"
     }
    },
    "e9c7438daa12486f87f8c4dad93cbdaa": {
     "model_module": "@jupyter-widgets/controls",
     "model_module_version": "1.5.0",
     "model_name": "HBoxModel",
     "state": {
      "_dom_classes": [],
      "_model_module": "@jupyter-widgets/controls",
      "_model_module_version": "1.5.0",
      "_model_name": "HBoxModel",
      "_view_count": null,
      "_view_module": "@jupyter-widgets/controls",
      "_view_module_version": "1.5.0",
      "_view_name": "HBoxView",
      "box_style": "",
      "children": [
       "IPY_MODEL_cd760ed8559649cd91efa0a65f083516",
       "IPY_MODEL_d88dd3e09ccf4f4483ab930e203a33c9",
       "IPY_MODEL_a16ff77d41734dcaa3a5e449736b27d5"
      ],
      "layout": "IPY_MODEL_5a22adbc59e64bfd81116d3b9dcb427e"
     }
    },
    "f2b45060dfa04dbc8a5d43dcc2e03cbf": {
     "model_module": "@jupyter-widgets/controls",
     "model_module_version": "1.5.0",
     "model_name": "HTMLModel",
     "state": {
      "_dom_classes": [],
      "_model_module": "@jupyter-widgets/controls",
      "_model_module_version": "1.5.0",
      "_model_name": "HTMLModel",
      "_view_count": null,
      "_view_module": "@jupyter-widgets/controls",
      "_view_module_version": "1.5.0",
      "_view_name": "HTMLView",
      "description": "",
      "description_tooltip": null,
      "layout": "IPY_MODEL_4d6455cfaf1240dcb1cbaaafa7801107",
      "placeholder": "​",
      "style": "IPY_MODEL_246e7e61acbd4ae992820bf0b7a3a3f0",
      "value": " 548M/548M [00:06&lt;00:00, 62.3MB/s]"
     }
    }
   }
  }
 },
 "nbformat": 4,
 "nbformat_minor": 0
}
